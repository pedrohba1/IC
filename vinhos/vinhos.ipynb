{
 "cells": [
  {
   "cell_type": "code",
   "execution_count": 3,
   "id": "4e985c2b",
   "metadata": {},
   "outputs": [],
   "source": [
    "import pandas as pd\n",
    "import numpy as np \n",
    "import seaborn as sb\n",
    "import matplotlib.pyplot as plt\n",
    "df = pd.read_csv('winequalityN.csv')\n"
   ]
  },
  {
   "cell_type": "markdown",
   "id": "d71cb56b",
   "metadata": {},
   "source": [
    "Olhando abaixo, tem muitos valores N/A. Vamos substituir eles pela média."
   ]
  },
  {
   "cell_type": "code",
   "execution_count": 4,
   "id": "9a09604b",
   "metadata": {},
   "outputs": [
    {
     "data": {
      "text/plain": [
       "type                     0\n",
       "fixed acidity           10\n",
       "volatile acidity         8\n",
       "citric acid              3\n",
       "residual sugar           2\n",
       "chlorides                2\n",
       "free sulfur dioxide      0\n",
       "total sulfur dioxide     0\n",
       "density                  0\n",
       "pH                       9\n",
       "sulphates                4\n",
       "alcohol                  0\n",
       "quality                  0\n",
       "dtype: int64"
      ]
     },
     "execution_count": 4,
     "metadata": {},
     "output_type": "execute_result"
    }
   ],
   "source": [
    "df.isna().sum()"
   ]
  },
  {
   "cell_type": "code",
   "execution_count": 5,
   "id": "23b66630",
   "metadata": {},
   "outputs": [],
   "source": [
    "df['fixed acidity'].fillna(df['fixed acidity'].median(), inplace=True)\n",
    "df['volatile acidity'].fillna(df['volatile acidity'].mean(), inplace=True)\n",
    "df['citric acid'].fillna(df['citric acid'].mean(), inplace=True)\n",
    "df['residual sugar'].fillna(df['residual sugar'].mean(), inplace=True)\n",
    "df['chlorides'].fillna(df['chlorides'].mean(), inplace=True)\n",
    "df['pH'].fillna(df['pH'].mean(), inplace=True)\n",
    "df['sulphates'].fillna(df['sulphates'].mean(), inplace=True)"
   ]
  },
  {
   "cell_type": "markdown",
   "id": "e7d3a346",
   "metadata": {},
   "source": [
    "Depois de converter para a média não tem mais N/A:"
   ]
  },
  {
   "cell_type": "code",
   "execution_count": 6,
   "id": "bc409156",
   "metadata": {},
   "outputs": [
    {
     "data": {
      "text/plain": [
       "type                    0\n",
       "fixed acidity           0\n",
       "volatile acidity        0\n",
       "citric acid             0\n",
       "residual sugar          0\n",
       "chlorides               0\n",
       "free sulfur dioxide     0\n",
       "total sulfur dioxide    0\n",
       "density                 0\n",
       "pH                      0\n",
       "sulphates               0\n",
       "alcohol                 0\n",
       "quality                 0\n",
       "dtype: int64"
      ]
     },
     "execution_count": 6,
     "metadata": {},
     "output_type": "execute_result"
    }
   ],
   "source": [
    "df.isna().sum()"
   ]
  },
  {
   "cell_type": "code",
   "execution_count": 7,
   "id": "858d7e3a",
   "metadata": {},
   "outputs": [
    {
     "data": {
      "text/plain": [
       "6    2836\n",
       "5    2138\n",
       "7    1079\n",
       "4     216\n",
       "8     193\n",
       "3      30\n",
       "9       5\n",
       "Name: quality, dtype: int64"
      ]
     },
     "execution_count": 7,
     "metadata": {},
     "output_type": "execute_result"
    }
   ],
   "source": [
    "df['quality'].value_counts()"
   ]
  },
  {
   "cell_type": "code",
   "execution_count": 10,
   "id": "8640707c",
   "metadata": {},
   "outputs": [
    {
     "data": {
      "image/png": "[encoded data removed]",
      "text/plain": [
       "<Figure size 432x288 with 1 Axes>"
      ]
     },
     "metadata": {},
     "output_type": "display_data"
    }
   ],
   "source": [
    "sb.set_theme(style=\"whitegrid\")\n",
    "ax = sb.boxplot(x=df['citric acid'])"
   ]
  },
  {
   "cell_type": "markdown",
   "id": "8088e7e2",
   "metadata": {},
   "source": [
    "### "
   ]
  }
 ],
 "metadata": {
  "kernelspec": {
   "display_name": "Python 3 (ipykernel)",
   "language": "python",
   "name": "python3"
  },
  "language_info": {
   "codemirror_mode": {
    "name": "ipython",
    "version": 3
   },
   "file_extension": ".py",
   "mimetype": "text/x-python",
   "name": "python",
   "nbconvert_exporter": "python",
   "pygments_lexer": "ipython3",
   "version": "3.9.3"
  }
 },
 "nbformat": 4,
 "nbformat_minor": 5
}
