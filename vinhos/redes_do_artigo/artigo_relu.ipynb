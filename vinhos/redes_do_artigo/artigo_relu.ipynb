{
 "cells": [
  {
   "cell_type": "code",
   "execution_count": 1,
   "id": "0b902ab7",
   "metadata": {},
   "outputs": [],
   "source": [
    "#Desabilita logs e mantém apenas logs críticos (para evitar o libcuda ficar me avisando que a GPU tá funcionando)\n",
    "import logging\n",
    "logger = logging.getLogger()\n",
    "logger.setLevel(logging.CRITICAL)"
   ]
  },
  {
   "cell_type": "code",
   "execution_count": 2,
   "id": "87570297",
   "metadata": {},
   "outputs": [
    {
     "name": "stderr",
     "output_type": "stream",
     "text": [
      "2021-08-16 10:07:52.437029: I tensorflow/stream_executor/platform/default/dso_loader.cc:53] Successfully opened dynamic library libcudart.so.11.0\n"
     ]
    }
   ],
   "source": [
    "import pandas as pd\n",
    "import numpy as np \n",
    "import seaborn as sb\n",
    "import matplotlib.pyplot as plt\n",
    "import scipy as spy\n",
    "import keras\n",
    "from sklearn.model_selection import train_test_split\n",
    "from keras.models import Sequential\n",
    "from keras import layers\n",
    "df = pd.read_csv('../datasets/winequality-white.csv')"
   ]
  },
  {
   "cell_type": "markdown",
   "id": "a5ccef91",
   "metadata": {},
   "source": [
    "Esse dataset já está tratado e não tem valores N/A:"
   ]
  },
  {
   "cell_type": "code",
   "execution_count": 3,
   "id": "147fafb1",
   "metadata": {},
   "outputs": [
    {
     "data": {
      "text/plain": [
       "fixed acidity           0\n",
       "volatile acidity        0\n",
       "citric acid             0\n",
       "residual sugar          0\n",
       "chlorides               0\n",
       "free sulfur dioxide     0\n",
       "total sulfur dioxide    0\n",
       "density                 0\n",
       "pH                      0\n",
       "sulphates               0\n",
       "alcohol                 0\n",
       "quality                 0\n",
       "dtype: int64"
      ]
     },
     "execution_count": 3,
     "metadata": {},
     "output_type": "execute_result"
    }
   ],
   "source": [
    "pd.isna(df).sum()"
   ]
  },
  {
   "cell_type": "markdown",
   "id": "a7e29df7",
   "metadata": {},
   "source": [
    "E todos os valores já estão como float, fora a qualidade que está como valor inteiro:"
   ]
  },
  {
   "cell_type": "code",
   "execution_count": 5,
   "id": "858d7e3a",
   "metadata": {
    "scrolled": true
   },
   "outputs": [
    {
     "data": {
      "text/plain": [
       "6    2198\n",
       "5    1457\n",
       "7     880\n",
       "8     175\n",
       "4     163\n",
       "3      20\n",
       "9       5\n",
       "Name: quality, dtype: int64"
      ]
     },
     "execution_count": 5,
     "metadata": {},
     "output_type": "execute_result"
    }
   ],
   "source": [
    "df['quality'].value_counts()"
   ]
  },
  {
   "cell_type": "markdown",
   "id": "950e5727",
   "metadata": {},
   "source": [
    "<h2>Separando o dataset em dados de treinamento e teste </h2>"
   ]
  },
  {
   "cell_type": "code",
   "execution_count": 15,
   "id": "24948359",
   "metadata": {},
   "outputs": [
    {
     "name": "stdout",
     "output_type": "stream",
     "text": [
      "(3589, 11)\n",
      "(898, 11)\n",
      "(3589, 3)\n",
      "(898, 3)\n"
     ]
    }
   ],
   "source": [
    "X =  df.drop(columns=[\"baixa\", \"media\", \"alta\"], axis=1)\n",
    "y=  df[['baixa','media','alta']]\n",
    "\n",
    "X_train, X_test, y_train, y_test = train_test_split(X, y,test_size = 0.2, shuffle=True)\n",
    "print(X_train.shape)\n",
    "print(X_test.shape)\n",
    "print(y_train.shape)\n",
    "print(y_test.shape)"
   ]
  },
  {
   "cell_type": "markdown",
   "id": "51466a55",
   "metadata": {},
   "source": [
    "<h1>Treinamento do dataset </h1>"
   ]
  },
  {
   "cell_type": "code",
   "execution_count": 16,
   "id": "45769b2f",
   "metadata": {},
   "outputs": [
    {
     "name": "stdout",
     "output_type": "stream",
     "text": [
      "Model: \"sequential\"\n",
      "_________________________________________________________________\n",
      "Layer (type)                 Output Shape              Param #   \n",
      "=================================================================\n",
      "dense (Dense)                (None, 10)                120       \n",
      "_________________________________________________________________\n",
      "dense_1 (Dense)              (None, 3)                 33        \n",
      "=================================================================\n",
      "Total params: 153\n",
      "Trainable params: 153\n",
      "Non-trainable params: 0\n",
      "_________________________________________________________________\n"
     ]
    },
    {
     "name": "stderr",
     "output_type": "stream",
     "text": [
      "2021-08-16 10:07:57.410958: I tensorflow/stream_executor/platform/default/dso_loader.cc:53] Successfully opened dynamic library libcuda.so.1\n",
      "2021-08-16 10:07:57.446213: I tensorflow/stream_executor/cuda/cuda_gpu_executor.cc:937] successful NUMA node read from SysFS had negative value (-1), but there must be at least one NUMA node, so returning NUMA node zero\n",
      "2021-08-16 10:07:57.446531: I tensorflow/core/common_runtime/gpu/gpu_device.cc:1733] Found device 0 with properties: \n",
      "pciBusID: 0000:0c:00.0 name: NVIDIA GeForce GTX 660 Ti computeCapability: 3.0\n",
      "coreClock: 1.0715GHz coreCount: 7 deviceMemorySize: 1.95GiB deviceMemoryBandwidth: 134.29GiB/s\n",
      "2021-08-16 10:07:57.446563: I tensorflow/stream_executor/platform/default/dso_loader.cc:53] Successfully opened dynamic library libcudart.so.11.0\n",
      "2021-08-16 10:07:57.448593: I tensorflow/stream_executor/platform/default/dso_loader.cc:53] Successfully opened dynamic library libcublas.so.11\n",
      "2021-08-16 10:07:57.448656: I tensorflow/stream_executor/platform/default/dso_loader.cc:53] Successfully opened dynamic library libcublasLt.so.11\n",
      "2021-08-16 10:07:57.449617: I tensorflow/stream_executor/platform/default/dso_loader.cc:53] Successfully opened dynamic library libcufft.so.10\n",
      "2021-08-16 10:07:57.449867: I tensorflow/stream_executor/platform/default/dso_loader.cc:53] Successfully opened dynamic library libcurand.so.10\n",
      "2021-08-16 10:07:57.449945: W tensorflow/stream_executor/platform/default/dso_loader.cc:64] Could not load dynamic library 'libcusolver.so.11'; dlerror: libcusolver.so.11: cannot open shared object file: No such file or directory\n",
      "2021-08-16 10:07:57.450428: I tensorflow/stream_executor/platform/default/dso_loader.cc:53] Successfully opened dynamic library libcusparse.so.11\n",
      "2021-08-16 10:07:57.450492: W tensorflow/stream_executor/platform/default/dso_loader.cc:64] Could not load dynamic library 'libcudnn.so.8'; dlerror: libcudnn.so.8: cannot open shared object file: No such file or directory\n",
      "2021-08-16 10:07:57.450503: W tensorflow/core/common_runtime/gpu/gpu_device.cc:1766] Cannot dlopen some GPU libraries. Please make sure the missing libraries mentioned above are installed properly if you would like to use GPU. Follow the guide at https://www.tensorflow.org/install/gpu for how to download and setup the required libraries for your platform.\n",
      "Skipping registering GPU devices...\n",
      "2021-08-16 10:07:57.450867: I tensorflow/core/platform/cpu_feature_guard.cc:142] This TensorFlow binary is optimized with oneAPI Deep Neural Network Library (oneDNN) to use the following CPU instructions in performance-critical operations:  AVX2 FMA\n",
      "To enable them in other operations, rebuild TensorFlow with the appropriate compiler flags.\n",
      "2021-08-16 10:07:57.451093: I tensorflow/core/common_runtime/gpu/gpu_device.cc:1258] Device interconnect StreamExecutor with strength 1 edge matrix:\n",
      "2021-08-16 10:07:57.451101: I tensorflow/core/common_runtime/gpu/gpu_device.cc:1264]      \n"
     ]
    }
   ],
   "source": [
    "dimension = X_train.shape[1]\n",
    "from keras import backend as K\n",
    "def create_model():\n",
    "    model = Sequential()\n",
    "    model.add(layers.Dense(10, input_dim=dimension, activation='relu'))\n",
    "    model.add(layers.Dense(1, activation='softmax'))\n",
    "    model.compile(loss='categorical_crossentropy', optimizer='adam', metrics=['accuracy'])\n",
    "    return model\n",
    "\n",
    "model = create_model()\n",
    "model.summary()"
   ]
  },
  {
   "cell_type": "code",
   "execution_count": 17,
   "id": "932ec3dc",
   "metadata": {},
   "outputs": [
    {
     "name": "stdout",
     "output_type": "stream",
     "text": [
      "Epoch 1/20\n"
     ]
    },
    {
     "name": "stderr",
     "output_type": "stream",
     "text": [
      "2021-08-16 10:07:57.507938: I tensorflow/compiler/mlir/mlir_graph_optimization_pass.cc:176] None of the MLIR Optimization Passes are enabled (registered 2)\n",
      "2021-08-16 10:07:57.508232: I tensorflow/core/platform/profile_utils/cpu_utils.cc:114] CPU Frequency: 3593305000 Hz\n"
     ]
    },
    {
     "name": "stdout",
     "output_type": "stream",
     "text": [
      "359/359 [==============================] - 0s 752us/step - loss: 6.3494 - accuracy: 0.7278 - val_loss: 0.5355 - val_accuracy: 0.8853\n",
      "Epoch 2/20\n",
      "359/359 [==============================] - 0s 486us/step - loss: 0.4715 - accuracy: 0.9050 - val_loss: 0.4358 - val_accuracy: 0.9143\n",
      "Epoch 3/20\n",
      "359/359 [==============================] - 0s 484us/step - loss: 0.3845 - accuracy: 0.9175 - val_loss: 0.3521 - val_accuracy: 0.9243\n",
      "Epoch 4/20\n",
      "359/359 [==============================] - 0s 477us/step - loss: 0.3238 - accuracy: 0.9301 - val_loss: 0.3816 - val_accuracy: 0.9098\n",
      "Epoch 5/20\n",
      "359/359 [==============================] - 0s 507us/step - loss: 0.3005 - accuracy: 0.9351 - val_loss: 0.3130 - val_accuracy: 0.9321\n",
      "Epoch 6/20\n",
      "359/359 [==============================] - 0s 461us/step - loss: 0.2909 - accuracy: 0.9356 - val_loss: 0.2860 - val_accuracy: 0.9343\n",
      "Epoch 7/20\n",
      "359/359 [==============================] - 0s 488us/step - loss: 0.2869 - accuracy: 0.9365 - val_loss: 0.2840 - val_accuracy: 0.9343\n",
      "Epoch 8/20\n",
      "359/359 [==============================] - 0s 478us/step - loss: 0.2808 - accuracy: 0.9368 - val_loss: 0.2831 - val_accuracy: 0.9343\n",
      "Epoch 9/20\n",
      "359/359 [==============================] - 0s 492us/step - loss: 0.2836 - accuracy: 0.9359 - val_loss: 0.2796 - val_accuracy: 0.9332\n",
      "Epoch 10/20\n",
      "359/359 [==============================] - 0s 489us/step - loss: 0.2762 - accuracy: 0.9373 - val_loss: 0.2792 - val_accuracy: 0.9343\n",
      "Epoch 11/20\n",
      "359/359 [==============================] - 0s 493us/step - loss: 0.2821 - accuracy: 0.9368 - val_loss: 0.3199 - val_accuracy: 0.9343\n",
      "Epoch 12/20\n",
      "359/359 [==============================] - 0s 470us/step - loss: 0.2794 - accuracy: 0.9368 - val_loss: 0.2910 - val_accuracy: 0.9343\n",
      "Epoch 13/20\n",
      "359/359 [==============================] - 0s 480us/step - loss: 0.2767 - accuracy: 0.9362 - val_loss: 0.2920 - val_accuracy: 0.9332\n",
      "Epoch 14/20\n",
      "359/359 [==============================] - 0s 485us/step - loss: 0.2810 - accuracy: 0.9365 - val_loss: 0.2886 - val_accuracy: 0.9343\n",
      "Epoch 15/20\n",
      "359/359 [==============================] - 0s 469us/step - loss: 0.2787 - accuracy: 0.9365 - val_loss: 0.2836 - val_accuracy: 0.9343\n",
      "Epoch 16/20\n",
      "359/359 [==============================] - 0s 471us/step - loss: 0.2749 - accuracy: 0.9373 - val_loss: 0.2780 - val_accuracy: 0.9343\n",
      "Epoch 17/20\n",
      "359/359 [==============================] - 0s 446us/step - loss: 0.2816 - accuracy: 0.9370 - val_loss: 0.3087 - val_accuracy: 0.9343\n",
      "Epoch 18/20\n",
      "359/359 [==============================] - 0s 432us/step - loss: 0.2784 - accuracy: 0.9368 - val_loss: 0.2762 - val_accuracy: 0.9343\n",
      "Epoch 19/20\n",
      "359/359 [==============================] - 0s 463us/step - loss: 0.2745 - accuracy: 0.9368 - val_loss: 0.2968 - val_accuracy: 0.9343\n",
      "Epoch 20/20\n",
      "359/359 [==============================] - 0s 471us/step - loss: 0.2757 - accuracy: 0.9368 - val_loss: 0.2815 - val_accuracy: 0.9332\n"
     ]
    }
   ],
   "source": [
    "history=model.fit(X_train, y_train, validation_data=(X_test, y_test),epochs=20, batch_size=10)"
   ]
  },
  {
   "cell_type": "markdown",
   "id": "8899440a",
   "metadata": {},
   "source": [
    "A função de ativação `softmax`dev"
   ]
  },
  {
   "cell_type": "code",
   "execution_count": 19,
   "id": "82018a16",
   "metadata": {},
   "outputs": [
    {
     "name": "stdout",
     "output_type": "stream",
     "text": [
      "29/29 [==============================] - 0s 346us/step - loss: 0.2815 - accuracy: 0.9332\n",
      "Mean Squared Error:  0.2814875543117523 \n",
      " Mean Absolute Error:  0.9331848621368408\n"
     ]
    }
   ],
   "source": [
    "test_mse, test_mae = model.evaluate(X_test, y_test, verbose=1)\n",
    "print('Mean Squared Error: ',test_mse, '\\n','Mean Absolute Error: ',test_mae)"
   ]
  },
  {
   "cell_type": "code",
   "execution_count": null,
   "id": "e69c72cb",
   "metadata": {},
   "outputs": [],
   "source": []
  },
  {
   "cell_type": "code",
   "execution_count": null,
   "id": "b048b45c",
   "metadata": {},
   "outputs": [],
   "source": []
  }
 ],
 "metadata": {
  "kernelspec": {
   "display_name": "Python 3 (ipykernel)",
   "language": "python",
   "name": "python3"
  },
  "language_info": {
   "codemirror_mode": {
    "name": "ipython",
    "version": 3
   },
   "file_extension": ".py",
   "mimetype": "text/x-python",
   "name": "python",
   "nbconvert_exporter": "python",
   "pygments_lexer": "ipython3",
   "version": "3.8.11"
  }
 },
 "nbformat": 4,
 "nbformat_minor": 5
}
