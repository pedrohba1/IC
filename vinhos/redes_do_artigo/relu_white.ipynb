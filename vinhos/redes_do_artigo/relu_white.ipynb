{
 "cells": [
  {
   "cell_type": "markdown",
   "metadata": {},
   "source": [
    "<h1> \n",
    "Classificiação de vinhos brancos sem tratamento de dados, hot-encoding, redimensionando qualidades para alta média e baixa\n",
    "</h1>"
   ]
  },
  {
   "cell_type": "code",
   "execution_count": 1,
   "metadata": {},
   "outputs": [],
   "source": [
    "#Desabilita logs e mantém apenas logs críticos (para evitar o libcuda ficar me avisando que a GPU tá funcionando)\n",
    "import logging\n",
    "logger = logging.getLogger()\n",
    "logger.setLevel(logging.CRITICAL)"
   ]
  },
  {
   "cell_type": "code",
   "execution_count": 2,
   "metadata": {
    "execution": {
     "iopub.execute_input": "2021-08-13T04:58:06.798528Z",
     "iopub.status.busy": "2021-08-13T04:58:06.798051Z",
     "iopub.status.idle": "2021-08-13T04:58:06.803555Z",
     "shell.execute_reply": "2021-08-13T04:58:06.802761Z",
     "shell.execute_reply.started": "2021-08-13T04:58:06.798498Z"
    }
   },
   "outputs": [
    {
     "name": "stderr",
     "output_type": "stream",
     "text": [
      "2021-08-17 21:17:19.601504: I tensorflow/stream_executor/platform/default/dso_loader.cc:53] Successfully opened dynamic library libcudart.so.11.0\n"
     ]
    }
   ],
   "source": [
    "%config Completer.use_jedi = False\n",
    "import pandas as pd\n",
    "import numpy as np \n",
    "import seaborn as sb\n",
    "import matplotlib.pyplot as plt\n",
    "import scipy as spy\n",
    "import keras\n",
    "from sklearn.metrics import accuracy_score, recall_score, confusion_matrix\n",
    "from sklearn.model_selection import train_test_split\n",
    "from keras.models import Sequential\n",
    "from keras.layers import Dense,Dropout,Input\n",
    "from keras.optimizers import Adam,RMSprop"
   ]
  },
  {
   "cell_type": "code",
   "execution_count": 3,
   "metadata": {
    "execution": {
     "iopub.execute_input": "2021-08-13T04:58:06.813950Z",
     "iopub.status.busy": "2021-08-13T04:58:06.813321Z",
     "iopub.status.idle": "2021-08-13T04:58:06.855753Z",
     "shell.execute_reply": "2021-08-13T04:58:06.855006Z",
     "shell.execute_reply.started": "2021-08-13T04:58:06.813909Z"
    }
   },
   "outputs": [
    {
     "data": {
      "text/html": [
       "<div>\n",
       "<style scoped>\n",
       "    .dataframe tbody tr th:only-of-type {\n",
       "        vertical-align: middle;\n",
       "    }\n",
       "\n",
       "    .dataframe tbody tr th {\n",
       "        vertical-align: top;\n",
       "    }\n",
       "\n",
       "    .dataframe thead th {\n",
       "        text-align: right;\n",
       "    }\n",
       "</style>\n",
       "<table border=\"1\" class=\"dataframe\">\n",
       "  <thead>\n",
       "    <tr style=\"text-align: right;\">\n",
       "      <th></th>\n",
       "      <th>fixed acidity</th>\n",
       "      <th>volatile acidity</th>\n",
       "      <th>citric acid</th>\n",
       "      <th>residual sugar</th>\n",
       "      <th>chlorides</th>\n",
       "      <th>free sulfur dioxide</th>\n",
       "      <th>total sulfur dioxide</th>\n",
       "      <th>density</th>\n",
       "      <th>pH</th>\n",
       "      <th>sulphates</th>\n",
       "      <th>alcohol</th>\n",
       "      <th>quality</th>\n",
       "    </tr>\n",
       "  </thead>\n",
       "  <tbody>\n",
       "    <tr>\n",
       "      <th>0</th>\n",
       "      <td>7.0</td>\n",
       "      <td>0.27</td>\n",
       "      <td>0.36</td>\n",
       "      <td>20.7</td>\n",
       "      <td>0.045</td>\n",
       "      <td>45.0</td>\n",
       "      <td>170.0</td>\n",
       "      <td>1.0010</td>\n",
       "      <td>3.00</td>\n",
       "      <td>0.45</td>\n",
       "      <td>8.8</td>\n",
       "      <td>6</td>\n",
       "    </tr>\n",
       "    <tr>\n",
       "      <th>1</th>\n",
       "      <td>6.3</td>\n",
       "      <td>0.30</td>\n",
       "      <td>0.34</td>\n",
       "      <td>1.6</td>\n",
       "      <td>0.049</td>\n",
       "      <td>14.0</td>\n",
       "      <td>132.0</td>\n",
       "      <td>0.9940</td>\n",
       "      <td>3.30</td>\n",
       "      <td>0.49</td>\n",
       "      <td>9.5</td>\n",
       "      <td>6</td>\n",
       "    </tr>\n",
       "    <tr>\n",
       "      <th>2</th>\n",
       "      <td>8.1</td>\n",
       "      <td>0.28</td>\n",
       "      <td>0.40</td>\n",
       "      <td>6.9</td>\n",
       "      <td>0.050</td>\n",
       "      <td>30.0</td>\n",
       "      <td>97.0</td>\n",
       "      <td>0.9951</td>\n",
       "      <td>3.26</td>\n",
       "      <td>0.44</td>\n",
       "      <td>10.1</td>\n",
       "      <td>6</td>\n",
       "    </tr>\n",
       "    <tr>\n",
       "      <th>3</th>\n",
       "      <td>7.2</td>\n",
       "      <td>0.23</td>\n",
       "      <td>0.32</td>\n",
       "      <td>8.5</td>\n",
       "      <td>0.058</td>\n",
       "      <td>47.0</td>\n",
       "      <td>186.0</td>\n",
       "      <td>0.9956</td>\n",
       "      <td>3.19</td>\n",
       "      <td>0.40</td>\n",
       "      <td>9.9</td>\n",
       "      <td>6</td>\n",
       "    </tr>\n",
       "    <tr>\n",
       "      <th>4</th>\n",
       "      <td>7.2</td>\n",
       "      <td>0.23</td>\n",
       "      <td>0.32</td>\n",
       "      <td>8.5</td>\n",
       "      <td>0.058</td>\n",
       "      <td>47.0</td>\n",
       "      <td>186.0</td>\n",
       "      <td>0.9956</td>\n",
       "      <td>3.19</td>\n",
       "      <td>0.40</td>\n",
       "      <td>9.9</td>\n",
       "      <td>6</td>\n",
       "    </tr>\n",
       "  </tbody>\n",
       "</table>\n",
       "</div>"
      ],
      "text/plain": [
       "   fixed acidity  volatile acidity  citric acid  residual sugar  chlorides  \\\n",
       "0            7.0              0.27         0.36            20.7      0.045   \n",
       "1            6.3              0.30         0.34             1.6      0.049   \n",
       "2            8.1              0.28         0.40             6.9      0.050   \n",
       "3            7.2              0.23         0.32             8.5      0.058   \n",
       "4            7.2              0.23         0.32             8.5      0.058   \n",
       "\n",
       "   free sulfur dioxide  total sulfur dioxide  density    pH  sulphates  \\\n",
       "0                 45.0                 170.0   1.0010  3.00       0.45   \n",
       "1                 14.0                 132.0   0.9940  3.30       0.49   \n",
       "2                 30.0                  97.0   0.9951  3.26       0.44   \n",
       "3                 47.0                 186.0   0.9956  3.19       0.40   \n",
       "4                 47.0                 186.0   0.9956  3.19       0.40   \n",
       "\n",
       "   alcohol  quality  \n",
       "0      8.8        6  \n",
       "1      9.5        6  \n",
       "2     10.1        6  \n",
       "3      9.9        6  \n",
       "4      9.9        6  "
      ]
     },
     "execution_count": 3,
     "metadata": {},
     "output_type": "execute_result"
    }
   ],
   "source": [
    "import os\n",
    "for dirname, _, filenames in os.walk('/kaggle/input'):\n",
    "    for filename in filenames:\n",
    "        print(os.path.join(dirname, filename))\n",
    "df = pd.read_csv('../datasets/winequality-white.csv', sep = ',')\n",
    "df.head()        "
   ]
  },
  {
   "cell_type": "markdown",
   "metadata": {},
   "source": [
    "Olhando abaixo, não temos nenhum valor N/A, então não precisamos tratar isso."
   ]
  },
  {
   "cell_type": "code",
   "execution_count": 4,
   "metadata": {
    "execution": {
     "iopub.execute_input": "2021-08-13T04:58:06.857296Z",
     "iopub.status.busy": "2021-08-13T04:58:06.856904Z",
     "iopub.status.idle": "2021-08-13T04:58:06.865156Z",
     "shell.execute_reply": "2021-08-13T04:58:06.864303Z",
     "shell.execute_reply.started": "2021-08-13T04:58:06.857267Z"
    }
   },
   "outputs": [
    {
     "data": {
      "text/plain": [
       "fixed acidity           0\n",
       "volatile acidity        0\n",
       "citric acid             0\n",
       "residual sugar          0\n",
       "chlorides               0\n",
       "free sulfur dioxide     0\n",
       "total sulfur dioxide    0\n",
       "density                 0\n",
       "pH                      0\n",
       "sulphates               0\n",
       "alcohol                 0\n",
       "quality                 0\n",
       "dtype: int64"
      ]
     },
     "execution_count": 4,
     "metadata": {},
     "output_type": "execute_result"
    }
   ],
   "source": [
    "df.isna().sum()"
   ]
  },
  {
   "cell_type": "code",
   "execution_count": 5,
   "metadata": {
    "execution": {
     "iopub.execute_input": "2021-08-13T04:58:06.867352Z",
     "iopub.status.busy": "2021-08-13T04:58:06.866890Z",
     "iopub.status.idle": "2021-08-13T04:58:06.875075Z",
     "shell.execute_reply": "2021-08-13T04:58:06.873965Z",
     "shell.execute_reply.started": "2021-08-13T04:58:06.867321Z"
    }
   },
   "outputs": [
    {
     "name": "stdout",
     "output_type": "stream",
     "text": [
      "4898\n"
     ]
    }
   ],
   "source": [
    "print(len(df))\n"
   ]
  },
  {
   "cell_type": "code",
   "execution_count": 6,
   "metadata": {
    "execution": {
     "iopub.execute_input": "2021-08-13T04:58:06.878002Z",
     "iopub.status.busy": "2021-08-13T04:58:06.877590Z",
     "iopub.status.idle": "2021-08-13T04:58:06.889472Z",
     "shell.execute_reply": "2021-08-13T04:58:06.888304Z",
     "shell.execute_reply.started": "2021-08-13T04:58:06.877966Z"
    }
   },
   "outputs": [
    {
     "data": {
      "text/plain": [
       "6    2198\n",
       "5    1457\n",
       "7     880\n",
       "8     175\n",
       "4     163\n",
       "3      20\n",
       "9       5\n",
       "Name: quality, dtype: int64"
      ]
     },
     "execution_count": 6,
     "metadata": {},
     "output_type": "execute_result"
    }
   ],
   "source": [
    "df['quality'].value_counts()"
   ]
  },
  {
   "cell_type": "code",
   "execution_count": 7,
   "metadata": {
    "execution": {
     "iopub.execute_input": "2021-08-13T04:58:06.891552Z",
     "iopub.status.busy": "2021-08-13T04:58:06.890997Z",
     "iopub.status.idle": "2021-08-13T04:58:09.285053Z",
     "shell.execute_reply": "2021-08-13T04:58:09.283991Z",
     "shell.execute_reply.started": "2021-08-13T04:58:06.891520Z"
    }
   },
   "outputs": [
    {
     "data": {
      "text/plain": [
       "array([[<AxesSubplot:title={'center':'fixed acidity'}>,\n",
       "        <AxesSubplot:title={'center':'volatile acidity'}>,\n",
       "        <AxesSubplot:title={'center':'citric acid'}>],\n",
       "       [<AxesSubplot:title={'center':'residual sugar'}>,\n",
       "        <AxesSubplot:title={'center':'chlorides'}>,\n",
       "        <AxesSubplot:title={'center':'free sulfur dioxide'}>],\n",
       "       [<AxesSubplot:title={'center':'total sulfur dioxide'}>,\n",
       "        <AxesSubplot:title={'center':'density'}>,\n",
       "        <AxesSubplot:title={'center':'pH'}>],\n",
       "       [<AxesSubplot:title={'center':'sulphates'}>,\n",
       "        <AxesSubplot:title={'center':'alcohol'}>,\n",
       "        <AxesSubplot:title={'center':'quality'}>]], dtype=object)"
      ]
     },
     "execution_count": 7,
     "metadata": {},
     "output_type": "execute_result"
    },
    {
     "data": {
      "image/png": "[encoded data removed]",
      "text/plain": [
       "<Figure size 720x720 with 12 Axes>"
      ]
     },
     "metadata": {
      "needs_background": "light"
     },
     "output_type": "display_data"
    }
   ],
   "source": [
    "df.hist(figsize = (10, 10))"
   ]
  },
  {
   "cell_type": "code",
   "execution_count": 8,
   "metadata": {
    "execution": {
     "iopub.execute_input": "2021-08-13T04:58:09.286874Z",
     "iopub.status.busy": "2021-08-13T04:58:09.286571Z",
     "iopub.status.idle": "2021-08-13T04:58:09.293001Z",
     "shell.execute_reply": "2021-08-13T04:58:09.291668Z",
     "shell.execute_reply.started": "2021-08-13T04:58:09.286845Z"
    }
   },
   "outputs": [],
   "source": [
    "X=df.drop(columns=['quality'])\n",
    "y=df['quality']"
   ]
  },
  {
   "cell_type": "code",
   "execution_count": 9,
   "metadata": {
    "execution": {
     "iopub.execute_input": "2021-08-13T04:58:09.355863Z",
     "iopub.status.busy": "2021-08-13T04:58:09.355328Z",
     "iopub.status.idle": "2021-08-13T04:58:09.374796Z",
     "shell.execute_reply": "2021-08-13T04:58:09.373783Z",
     "shell.execute_reply.started": "2021-08-13T04:58:09.355831Z"
    }
   },
   "outputs": [
    {
     "name": "stderr",
     "output_type": "stream",
     "text": [
      "/tmp/ipykernel_1447/1882551270.py:1: SettingWithCopyWarning: \n",
      "A value is trying to be set on a copy of a slice from a DataFrame\n",
      "\n",
      "See the caveats in the documentation: https://pandas.pydata.org/pandas-docs/stable/user_guide/indexing.html#returning-a-view-versus-a-copy\n",
      "  y[y<=4] = 0\n",
      "/tmp/ipykernel_1447/1882551270.py:2: SettingWithCopyWarning: \n",
      "A value is trying to be set on a copy of a slice from a DataFrame\n",
      "\n",
      "See the caveats in the documentation: https://pandas.pydata.org/pandas-docs/stable/user_guide/indexing.html#returning-a-view-versus-a-copy\n",
      "  y[((y>=5) & (y<=7))] = 1\n",
      "/tmp/ipykernel_1447/1882551270.py:3: SettingWithCopyWarning: \n",
      "A value is trying to be set on a copy of a slice from a DataFrame\n",
      "\n",
      "See the caveats in the documentation: https://pandas.pydata.org/pandas-docs/stable/user_guide/indexing.html#returning-a-view-versus-a-copy\n",
      "  y[y>=8] = 2\n"
     ]
    },
    {
     "data": {
      "text/plain": [
       "1    4535\n",
       "0     183\n",
       "2     180\n",
       "Name: quality, dtype: int64"
      ]
     },
     "execution_count": 9,
     "metadata": {},
     "output_type": "execute_result"
    }
   ],
   "source": [
    "y[y<=4] = 0\n",
    "y[((y>=5) & (y<=7))] = 1\n",
    "y[y>=8] = 2    \n",
    "y.value_counts()"
   ]
  },
  {
   "cell_type": "markdown",
   "metadata": {},
   "source": [
    "Substituindo as faixas de qualidade por 0 (baixa), 1 (média) e 2 (alta):\n"
   ]
  },
  {
   "cell_type": "code",
   "execution_count": 10,
   "metadata": {
    "execution": {
     "iopub.execute_input": "2021-08-13T04:58:09.376866Z",
     "iopub.status.busy": "2021-08-13T04:58:09.376594Z",
     "iopub.status.idle": "2021-08-13T04:58:09.403172Z",
     "shell.execute_reply": "2021-08-13T04:58:09.401962Z",
     "shell.execute_reply.started": "2021-08-13T04:58:09.376840Z"
    }
   },
   "outputs": [
    {
     "data": {
      "text/html": [
       "<div>\n",
       "<style scoped>\n",
       "    .dataframe tbody tr th:only-of-type {\n",
       "        vertical-align: middle;\n",
       "    }\n",
       "\n",
       "    .dataframe tbody tr th {\n",
       "        vertical-align: top;\n",
       "    }\n",
       "\n",
       "    .dataframe thead th {\n",
       "        text-align: right;\n",
       "    }\n",
       "</style>\n",
       "<table border=\"1\" class=\"dataframe\">\n",
       "  <thead>\n",
       "    <tr style=\"text-align: right;\">\n",
       "      <th></th>\n",
       "      <th>fixed acidity</th>\n",
       "      <th>volatile acidity</th>\n",
       "      <th>citric acid</th>\n",
       "      <th>residual sugar</th>\n",
       "      <th>chlorides</th>\n",
       "      <th>free sulfur dioxide</th>\n",
       "      <th>total sulfur dioxide</th>\n",
       "      <th>density</th>\n",
       "      <th>pH</th>\n",
       "      <th>sulphates</th>\n",
       "      <th>alcohol</th>\n",
       "      <th>quality</th>\n",
       "    </tr>\n",
       "  </thead>\n",
       "  <tbody>\n",
       "    <tr>\n",
       "      <th>0</th>\n",
       "      <td>7.0</td>\n",
       "      <td>0.27</td>\n",
       "      <td>0.36</td>\n",
       "      <td>20.7</td>\n",
       "      <td>0.045</td>\n",
       "      <td>45.0</td>\n",
       "      <td>170.0</td>\n",
       "      <td>1.0010</td>\n",
       "      <td>3.00</td>\n",
       "      <td>0.45</td>\n",
       "      <td>8.8</td>\n",
       "      <td>1</td>\n",
       "    </tr>\n",
       "    <tr>\n",
       "      <th>1</th>\n",
       "      <td>6.3</td>\n",
       "      <td>0.30</td>\n",
       "      <td>0.34</td>\n",
       "      <td>1.6</td>\n",
       "      <td>0.049</td>\n",
       "      <td>14.0</td>\n",
       "      <td>132.0</td>\n",
       "      <td>0.9940</td>\n",
       "      <td>3.30</td>\n",
       "      <td>0.49</td>\n",
       "      <td>9.5</td>\n",
       "      <td>1</td>\n",
       "    </tr>\n",
       "    <tr>\n",
       "      <th>2</th>\n",
       "      <td>8.1</td>\n",
       "      <td>0.28</td>\n",
       "      <td>0.40</td>\n",
       "      <td>6.9</td>\n",
       "      <td>0.050</td>\n",
       "      <td>30.0</td>\n",
       "      <td>97.0</td>\n",
       "      <td>0.9951</td>\n",
       "      <td>3.26</td>\n",
       "      <td>0.44</td>\n",
       "      <td>10.1</td>\n",
       "      <td>1</td>\n",
       "    </tr>\n",
       "    <tr>\n",
       "      <th>3</th>\n",
       "      <td>7.2</td>\n",
       "      <td>0.23</td>\n",
       "      <td>0.32</td>\n",
       "      <td>8.5</td>\n",
       "      <td>0.058</td>\n",
       "      <td>47.0</td>\n",
       "      <td>186.0</td>\n",
       "      <td>0.9956</td>\n",
       "      <td>3.19</td>\n",
       "      <td>0.40</td>\n",
       "      <td>9.9</td>\n",
       "      <td>1</td>\n",
       "    </tr>\n",
       "    <tr>\n",
       "      <th>4</th>\n",
       "      <td>7.2</td>\n",
       "      <td>0.23</td>\n",
       "      <td>0.32</td>\n",
       "      <td>8.5</td>\n",
       "      <td>0.058</td>\n",
       "      <td>47.0</td>\n",
       "      <td>186.0</td>\n",
       "      <td>0.9956</td>\n",
       "      <td>3.19</td>\n",
       "      <td>0.40</td>\n",
       "      <td>9.9</td>\n",
       "      <td>1</td>\n",
       "    </tr>\n",
       "  </tbody>\n",
       "</table>\n",
       "</div>"
      ],
      "text/plain": [
       "   fixed acidity  volatile acidity  citric acid  residual sugar  chlorides  \\\n",
       "0            7.0              0.27         0.36            20.7      0.045   \n",
       "1            6.3              0.30         0.34             1.6      0.049   \n",
       "2            8.1              0.28         0.40             6.9      0.050   \n",
       "3            7.2              0.23         0.32             8.5      0.058   \n",
       "4            7.2              0.23         0.32             8.5      0.058   \n",
       "\n",
       "   free sulfur dioxide  total sulfur dioxide  density    pH  sulphates  \\\n",
       "0                 45.0                 170.0   1.0010  3.00       0.45   \n",
       "1                 14.0                 132.0   0.9940  3.30       0.49   \n",
       "2                 30.0                  97.0   0.9951  3.26       0.44   \n",
       "3                 47.0                 186.0   0.9956  3.19       0.40   \n",
       "4                 47.0                 186.0   0.9956  3.19       0.40   \n",
       "\n",
       "   alcohol  quality  \n",
       "0      8.8        1  \n",
       "1      9.5        1  \n",
       "2     10.1        1  \n",
       "3      9.9        1  \n",
       "4      9.9        1  "
      ]
     },
     "execution_count": 10,
     "metadata": {},
     "output_type": "execute_result"
    }
   ],
   "source": [
    "df = pd.concat([X, y.reindex(X.index)], axis=1)\n",
    "df.head()"
   ]
  },
  {
   "cell_type": "markdown",
   "metadata": {},
   "source": [
    "Pronto, agora temos todas as amostras em quantias iguais."
   ]
  },
  {
   "cell_type": "markdown",
   "metadata": {},
   "source": [
    "<h2> Hot encoding </h2>"
   ]
  },
  {
   "cell_type": "markdown",
   "metadata": {},
   "source": [
    "Primeiro vamos separar a qualificações que vão de 6 à 9 (no caso desse dataset) em 0 1 e 2. Sendo 0 a qualidade mais baixa, 1 a média e 2 a alta, como vamos configurar para o hot encoding posteriormente. "
   ]
  },
  {
   "cell_type": "markdown",
   "metadata": {},
   "source": [
    "No trecho de código abaixo, vou converter as varíaveis categóricas (0 1 e 2) em uma tabela. Essa tabela tem 3 colunas, onde cada uma corresponde à uma das classificações possíveis. Sempre apenas um dos items dessa coluna vai ser 1 e o resto 0. O nosso modelo ira tentar prever o valor dessas 3 colunas para assim prever a qualidade do vinho."
   ]
  },
  {
   "cell_type": "code",
   "execution_count": 11,
   "metadata": {
    "execution": {
     "iopub.execute_input": "2021-08-13T04:58:09.404942Z",
     "iopub.status.busy": "2021-08-13T04:58:09.404571Z",
     "iopub.status.idle": "2021-08-13T04:58:09.436680Z",
     "shell.execute_reply": "2021-08-13T04:58:09.435774Z",
     "shell.execute_reply.started": "2021-08-13T04:58:09.404896Z"
    }
   },
   "outputs": [
    {
     "data": {
      "text/html": [
       "<div>\n",
       "<style scoped>\n",
       "    .dataframe tbody tr th:only-of-type {\n",
       "        vertical-align: middle;\n",
       "    }\n",
       "\n",
       "    .dataframe tbody tr th {\n",
       "        vertical-align: top;\n",
       "    }\n",
       "\n",
       "    .dataframe thead th {\n",
       "        text-align: right;\n",
       "    }\n",
       "</style>\n",
       "<table border=\"1\" class=\"dataframe\">\n",
       "  <thead>\n",
       "    <tr style=\"text-align: right;\">\n",
       "      <th></th>\n",
       "      <th>fixed acidity</th>\n",
       "      <th>volatile acidity</th>\n",
       "      <th>citric acid</th>\n",
       "      <th>residual sugar</th>\n",
       "      <th>chlorides</th>\n",
       "      <th>free sulfur dioxide</th>\n",
       "      <th>total sulfur dioxide</th>\n",
       "      <th>density</th>\n",
       "      <th>pH</th>\n",
       "      <th>sulphates</th>\n",
       "      <th>alcohol</th>\n",
       "      <th>baixa</th>\n",
       "      <th>media</th>\n",
       "      <th>alta</th>\n",
       "    </tr>\n",
       "  </thead>\n",
       "  <tbody>\n",
       "    <tr>\n",
       "      <th>0</th>\n",
       "      <td>7.0</td>\n",
       "      <td>0.27</td>\n",
       "      <td>0.36</td>\n",
       "      <td>20.7</td>\n",
       "      <td>0.045</td>\n",
       "      <td>45.0</td>\n",
       "      <td>170.0</td>\n",
       "      <td>1.0010</td>\n",
       "      <td>3.00</td>\n",
       "      <td>0.45</td>\n",
       "      <td>8.8</td>\n",
       "      <td>0</td>\n",
       "      <td>1</td>\n",
       "      <td>0</td>\n",
       "    </tr>\n",
       "    <tr>\n",
       "      <th>1</th>\n",
       "      <td>6.3</td>\n",
       "      <td>0.30</td>\n",
       "      <td>0.34</td>\n",
       "      <td>1.6</td>\n",
       "      <td>0.049</td>\n",
       "      <td>14.0</td>\n",
       "      <td>132.0</td>\n",
       "      <td>0.9940</td>\n",
       "      <td>3.30</td>\n",
       "      <td>0.49</td>\n",
       "      <td>9.5</td>\n",
       "      <td>0</td>\n",
       "      <td>1</td>\n",
       "      <td>0</td>\n",
       "    </tr>\n",
       "    <tr>\n",
       "      <th>2</th>\n",
       "      <td>8.1</td>\n",
       "      <td>0.28</td>\n",
       "      <td>0.40</td>\n",
       "      <td>6.9</td>\n",
       "      <td>0.050</td>\n",
       "      <td>30.0</td>\n",
       "      <td>97.0</td>\n",
       "      <td>0.9951</td>\n",
       "      <td>3.26</td>\n",
       "      <td>0.44</td>\n",
       "      <td>10.1</td>\n",
       "      <td>0</td>\n",
       "      <td>1</td>\n",
       "      <td>0</td>\n",
       "    </tr>\n",
       "    <tr>\n",
       "      <th>3</th>\n",
       "      <td>7.2</td>\n",
       "      <td>0.23</td>\n",
       "      <td>0.32</td>\n",
       "      <td>8.5</td>\n",
       "      <td>0.058</td>\n",
       "      <td>47.0</td>\n",
       "      <td>186.0</td>\n",
       "      <td>0.9956</td>\n",
       "      <td>3.19</td>\n",
       "      <td>0.40</td>\n",
       "      <td>9.9</td>\n",
       "      <td>0</td>\n",
       "      <td>1</td>\n",
       "      <td>0</td>\n",
       "    </tr>\n",
       "    <tr>\n",
       "      <th>4</th>\n",
       "      <td>7.2</td>\n",
       "      <td>0.23</td>\n",
       "      <td>0.32</td>\n",
       "      <td>8.5</td>\n",
       "      <td>0.058</td>\n",
       "      <td>47.0</td>\n",
       "      <td>186.0</td>\n",
       "      <td>0.9956</td>\n",
       "      <td>3.19</td>\n",
       "      <td>0.40</td>\n",
       "      <td>9.9</td>\n",
       "      <td>0</td>\n",
       "      <td>1</td>\n",
       "      <td>0</td>\n",
       "    </tr>\n",
       "  </tbody>\n",
       "</table>\n",
       "</div>"
      ],
      "text/plain": [
       "   fixed acidity  volatile acidity  citric acid  residual sugar  chlorides  \\\n",
       "0            7.0              0.27         0.36            20.7      0.045   \n",
       "1            6.3              0.30         0.34             1.6      0.049   \n",
       "2            8.1              0.28         0.40             6.9      0.050   \n",
       "3            7.2              0.23         0.32             8.5      0.058   \n",
       "4            7.2              0.23         0.32             8.5      0.058   \n",
       "\n",
       "   free sulfur dioxide  total sulfur dioxide  density    pH  sulphates  \\\n",
       "0                 45.0                 170.0   1.0010  3.00       0.45   \n",
       "1                 14.0                 132.0   0.9940  3.30       0.49   \n",
       "2                 30.0                  97.0   0.9951  3.26       0.44   \n",
       "3                 47.0                 186.0   0.9956  3.19       0.40   \n",
       "4                 47.0                 186.0   0.9956  3.19       0.40   \n",
       "\n",
       "   alcohol  baixa  media  alta  \n",
       "0      8.8      0      1     0  \n",
       "1      9.5      0      1     0  \n",
       "2     10.1      0      1     0  \n",
       "3      9.9      0      1     0  \n",
       "4      9.9      0      1     0  "
      ]
     },
     "execution_count": 11,
     "metadata": {},
     "output_type": "execute_result"
    }
   ],
   "source": [
    "one_hot_encoded_data = pd.get_dummies(df, columns = ['quality'])\n",
    "df = one_hot_encoded_data.rename(columns={'quality_0': 'baixa', 'quality_1': 'media', 'quality_2': 'alta'})\n",
    "df.head()"
   ]
  },
  {
   "cell_type": "code",
   "execution_count": 12,
   "metadata": {
    "execution": {
     "iopub.execute_input": "2021-08-13T04:58:09.438832Z",
     "iopub.status.busy": "2021-08-13T04:58:09.438369Z",
     "iopub.status.idle": "2021-08-13T04:58:09.445467Z",
     "shell.execute_reply": "2021-08-13T04:58:09.444016Z",
     "shell.execute_reply.started": "2021-08-13T04:58:09.438785Z"
    }
   },
   "outputs": [],
   "source": [
    "y = df[['baixa','media', 'alta']]"
   ]
  },
  {
   "cell_type": "markdown",
   "metadata": {},
   "source": [
    "Matriz de correlação:"
   ]
  },
  {
   "cell_type": "code",
   "execution_count": 13,
   "metadata": {
    "execution": {
     "iopub.execute_input": "2021-08-13T04:58:09.447415Z",
     "iopub.status.busy": "2021-08-13T04:58:09.446990Z",
     "iopub.status.idle": "2021-08-13T04:58:10.905114Z",
     "shell.execute_reply": "2021-08-13T04:58:10.903998Z",
     "shell.execute_reply.started": "2021-08-13T04:58:09.447383Z"
    }
   },
   "outputs": [
    {
     "data": {
      "text/plain": [
       "<AxesSubplot:>"
      ]
     },
     "execution_count": 13,
     "metadata": {},
     "output_type": "execute_result"
    },
    {
     "data": {
      "image/png": "[encoded data removed]",
      "text/plain": [
       "<Figure size 1440x720 with 2 Axes>"
      ]
     },
     "metadata": {
      "needs_background": "light"
     },
     "output_type": "display_data"
    }
   ],
   "source": [
    "corr=df.corr()\n",
    "plt.figure(figsize=(20,10))\n",
    "sb.heatmap(corr,annot=True, cmap='coolwarm')"
   ]
  },
  {
   "cell_type": "markdown",
   "metadata": {},
   "source": [
    "<h1>Separando o dataset de treinamento e o de predição</h1>"
   ]
  },
  {
   "cell_type": "code",
   "execution_count": 14,
   "metadata": {
    "execution": {
     "iopub.execute_input": "2021-08-13T04:58:10.906931Z",
     "iopub.status.busy": "2021-08-13T04:58:10.906582Z",
     "iopub.status.idle": "2021-08-13T04:58:10.929188Z",
     "shell.execute_reply": "2021-08-13T04:58:10.928204Z",
     "shell.execute_reply.started": "2021-08-13T04:58:10.906868Z"
    }
   },
   "outputs": [
    {
     "name": "stdout",
     "output_type": "stream",
     "text": [
      "Formato do dataset de treinamento Xs:(3918, 11)\n",
      "Formato do datasett de teste Xs:(980, 11)\n",
      "Formato do dataset de treino y:(3918, 3)\n",
      "Formato do dataset de test y:(980, 3)\n"
     ]
    }
   ],
   "source": [
    "X_train, X_test, y_train, y_test = train_test_split(X,y,test_size=0.20,random_state=21)\n",
    "print('Formato do dataset de treinamento Xs:{}'.format(X_train.shape))\n",
    "print('Formato do datasett de teste Xs:{}'.format(X_test.shape))\n",
    "print('Formato do dataset de treino y:{}'.format(y_train.shape))\n",
    "print('Formato do dataset de test y:{}'.format(y_test.shape))"
   ]
  },
  {
   "cell_type": "markdown",
   "metadata": {},
   "source": [
    "<h1> Construção do modelo </h1>"
   ]
  },
  {
   "cell_type": "markdown",
   "metadata": {},
   "source": [
    "O artigo utilizou relu e tanh. Aqui abaixo vamos usar relu."
   ]
  },
  {
   "cell_type": "code",
   "execution_count": 15,
   "metadata": {
    "execution": {
     "iopub.execute_input": "2021-08-13T04:58:10.930641Z",
     "iopub.status.busy": "2021-08-13T04:58:10.930366Z",
     "iopub.status.idle": "2021-08-13T04:58:10.971301Z",
     "shell.execute_reply": "2021-08-13T04:58:10.970082Z",
     "shell.execute_reply.started": "2021-08-13T04:58:10.930615Z"
    }
   },
   "outputs": [
    {
     "name": "stdout",
     "output_type": "stream",
     "text": [
      "Model: \"sequential\"\n",
      "_________________________________________________________________\n",
      "Layer (type)                 Output Shape              Param #   \n",
      "=================================================================\n",
      "dense (Dense)                (None, 10)                120       \n",
      "_________________________________________________________________\n",
      "dense_1 (Dense)              (None, 60)                660       \n",
      "_________________________________________________________________\n",
      "dense_2 (Dense)              (None, 3)                 183       \n",
      "=================================================================\n",
      "Total params: 963\n",
      "Trainable params: 963\n",
      "Non-trainable params: 0\n",
      "_________________________________________________________________\n"
     ]
    },
    {
     "name": "stderr",
     "output_type": "stream",
     "text": [
      "2021-08-17 21:17:22.384352: I tensorflow/stream_executor/platform/default/dso_loader.cc:53] Successfully opened dynamic library libcuda.so.1\n",
      "2021-08-17 21:17:22.424910: I tensorflow/stream_executor/cuda/cuda_gpu_executor.cc:937] successful NUMA node read from SysFS had negative value (-1), but there must be at least one NUMA node, so returning NUMA node zero\n",
      "2021-08-17 21:17:22.425315: I tensorflow/core/common_runtime/gpu/gpu_device.cc:1733] Found device 0 with properties: \n",
      "pciBusID: 0000:0c:00.0 name: NVIDIA GeForce GTX 660 Ti computeCapability: 3.0\n",
      "coreClock: 1.0715GHz coreCount: 7 deviceMemorySize: 1.95GiB deviceMemoryBandwidth: 134.29GiB/s\n",
      "2021-08-17 21:17:22.425657: I tensorflow/stream_executor/platform/default/dso_loader.cc:53] Successfully opened dynamic library libcudart.so.11.0\n",
      "2021-08-17 21:17:22.429353: I tensorflow/stream_executor/platform/default/dso_loader.cc:53] Successfully opened dynamic library libcublas.so.11\n",
      "2021-08-17 21:17:22.429520: I tensorflow/stream_executor/platform/default/dso_loader.cc:53] Successfully opened dynamic library libcublasLt.so.11\n",
      "2021-08-17 21:17:22.430755: I tensorflow/stream_executor/platform/default/dso_loader.cc:53] Successfully opened dynamic library libcufft.so.10\n",
      "2021-08-17 21:17:22.430997: I tensorflow/stream_executor/platform/default/dso_loader.cc:53] Successfully opened dynamic library libcurand.so.10\n",
      "2021-08-17 21:17:22.431066: W tensorflow/stream_executor/platform/default/dso_loader.cc:64] Could not load dynamic library 'libcusolver.so.11'; dlerror: libcusolver.so.11: cannot open shared object file: No such file or directory\n",
      "2021-08-17 21:17:22.432079: I tensorflow/stream_executor/platform/default/dso_loader.cc:53] Successfully opened dynamic library libcusparse.so.11\n",
      "2021-08-17 21:17:22.432237: W tensorflow/stream_executor/platform/default/dso_loader.cc:64] Could not load dynamic library 'libcudnn.so.8'; dlerror: libcudnn.so.8: cannot open shared object file: No such file or directory\n",
      "2021-08-17 21:17:22.432251: W tensorflow/core/common_runtime/gpu/gpu_device.cc:1766] Cannot dlopen some GPU libraries. Please make sure the missing libraries mentioned above are installed properly if you would like to use GPU. Follow the guide at https://www.tensorflow.org/install/gpu for how to download and setup the required libraries for your platform.\n",
      "Skipping registering GPU devices...\n",
      "2021-08-17 21:17:22.433676: I tensorflow/core/platform/cpu_feature_guard.cc:142] This TensorFlow binary is optimized with oneAPI Deep Neural Network Library (oneDNN) to use the following CPU instructions in performance-critical operations:  AVX2 FMA\n",
      "To enable them in other operations, rebuild TensorFlow with the appropriate compiler flags.\n",
      "2021-08-17 21:17:22.433964: I tensorflow/core/common_runtime/gpu/gpu_device.cc:1258] Device interconnect StreamExecutor with strength 1 edge matrix:\n",
      "2021-08-17 21:17:22.433973: I tensorflow/core/common_runtime/gpu/gpu_device.cc:1264]      \n"
     ]
    }
   ],
   "source": [
    "dimension = X_train.shape[1]\n",
    "from keras import backend as K\n",
    "def create_model():\n",
    "    model = Sequential()\n",
    "    model.add(Dense(10, input_dim = dimension,  activation='relu'))\n",
    "    model.add(Dense(60, input_dim = dimension,  activation='relu'))\n",
    "    model.add(Dense(3, activation='softmax'))\n",
    "    model.compile(loss='categorical_crossentropy', optimizer='adam', metrics=['accuracy'])\n",
    "    return model\n",
    "model = create_model()\n",
    "model.summary()"
   ]
  },
  {
   "cell_type": "code",
   "execution_count": 16,
   "metadata": {
    "execution": {
     "iopub.execute_input": "2021-08-13T04:58:10.973290Z",
     "iopub.status.busy": "2021-08-13T04:58:10.972817Z",
     "iopub.status.idle": "2021-08-13T04:58:28.730192Z",
     "shell.execute_reply": "2021-08-13T04:58:28.729059Z",
     "shell.execute_reply.started": "2021-08-13T04:58:10.973245Z"
    }
   },
   "outputs": [
    {
     "name": "stdout",
     "output_type": "stream",
     "text": [
      "Epoch 1/50\n"
     ]
    },
    {
     "name": "stderr",
     "output_type": "stream",
     "text": [
      "2021-08-17 21:17:22.523059: I tensorflow/compiler/mlir/mlir_graph_optimization_pass.cc:176] None of the MLIR Optimization Passes are enabled (registered 2)\n",
      "2021-08-17 21:17:22.523470: I tensorflow/core/platform/profile_utils/cpu_utils.cc:114] CPU Frequency: 3593340000 Hz\n"
     ]
    },
    {
     "name": "stdout",
     "output_type": "stream",
     "text": [
      "392/392 [==============================] - 1s 1ms/step - loss: 0.3613 - accuracy: 0.9227 - val_loss: 0.2986 - val_accuracy: 0.9316\n",
      "Epoch 2/50\n",
      "392/392 [==============================] - 0s 787us/step - loss: 0.3311 - accuracy: 0.9234 - val_loss: 0.3019 - val_accuracy: 0.9316\n",
      "Epoch 3/50\n",
      "392/392 [==============================] - 0s 670us/step - loss: 0.3182 - accuracy: 0.9237 - val_loss: 0.3563 - val_accuracy: 0.9163\n",
      "Epoch 4/50\n",
      "392/392 [==============================] - 0s 553us/step - loss: 0.3186 - accuracy: 0.9234 - val_loss: 0.2936 - val_accuracy: 0.9316\n",
      "Epoch 5/50\n",
      "392/392 [==============================] - 0s 750us/step - loss: 0.3150 - accuracy: 0.9229 - val_loss: 0.3180 - val_accuracy: 0.9296\n",
      "Epoch 6/50\n",
      "392/392 [==============================] - 0s 637us/step - loss: 0.3091 - accuracy: 0.9234 - val_loss: 0.3095 - val_accuracy: 0.9286\n",
      "Epoch 7/50\n",
      "392/392 [==============================] - 0s 684us/step - loss: 0.3048 - accuracy: 0.9232 - val_loss: 0.2894 - val_accuracy: 0.9316\n",
      "Epoch 8/50\n",
      "392/392 [==============================] - 0s 730us/step - loss: 0.2962 - accuracy: 0.9234 - val_loss: 0.2695 - val_accuracy: 0.9316\n",
      "Epoch 9/50\n",
      "392/392 [==============================] - 0s 569us/step - loss: 0.2989 - accuracy: 0.9234 - val_loss: 0.2850 - val_accuracy: 0.9316\n",
      "Epoch 10/50\n",
      "392/392 [==============================] - 0s 562us/step - loss: 0.2953 - accuracy: 0.9245 - val_loss: 0.2895 - val_accuracy: 0.9316\n",
      "Epoch 11/50\n",
      "392/392 [==============================] - 0s 555us/step - loss: 0.2923 - accuracy: 0.9237 - val_loss: 0.2649 - val_accuracy: 0.9316\n",
      "Epoch 12/50\n",
      "392/392 [==============================] - 0s 588us/step - loss: 0.2953 - accuracy: 0.9247 - val_loss: 0.2721 - val_accuracy: 0.9316\n",
      "Epoch 13/50\n",
      "392/392 [==============================] - 0s 604us/step - loss: 0.2921 - accuracy: 0.9234 - val_loss: 0.2873 - val_accuracy: 0.9276\n",
      "Epoch 14/50\n",
      "392/392 [==============================] - 0s 574us/step - loss: 0.2902 - accuracy: 0.9247 - val_loss: 0.2839 - val_accuracy: 0.9316\n",
      "Epoch 15/50\n",
      "392/392 [==============================] - 0s 704us/step - loss: 0.2892 - accuracy: 0.9247 - val_loss: 0.3472 - val_accuracy: 0.9245\n",
      "Epoch 16/50\n",
      "392/392 [==============================] - 0s 636us/step - loss: 0.2887 - accuracy: 0.9247 - val_loss: 0.2751 - val_accuracy: 0.9316\n",
      "Epoch 17/50\n",
      "392/392 [==============================] - 0s 563us/step - loss: 0.2865 - accuracy: 0.9242 - val_loss: 0.2701 - val_accuracy: 0.9327\n",
      "Epoch 18/50\n",
      "392/392 [==============================] - 0s 561us/step - loss: 0.2848 - accuracy: 0.9252 - val_loss: 0.2799 - val_accuracy: 0.9327\n",
      "Epoch 19/50\n",
      "392/392 [==============================] - 0s 581us/step - loss: 0.2802 - accuracy: 0.9247 - val_loss: 0.2717 - val_accuracy: 0.9316\n",
      "Epoch 20/50\n",
      "392/392 [==============================] - 0s 624us/step - loss: 0.2834 - accuracy: 0.9245 - val_loss: 0.2701 - val_accuracy: 0.9296\n",
      "Epoch 21/50\n",
      "392/392 [==============================] - 0s 723us/step - loss: 0.2840 - accuracy: 0.9250 - val_loss: 0.2664 - val_accuracy: 0.9327\n",
      "Epoch 22/50\n",
      "392/392 [==============================] - 0s 603us/step - loss: 0.2811 - accuracy: 0.9252 - val_loss: 0.2629 - val_accuracy: 0.9316\n",
      "Epoch 23/50\n",
      "392/392 [==============================] - 0s 619us/step - loss: 0.2823 - accuracy: 0.9247 - val_loss: 0.2714 - val_accuracy: 0.9306\n",
      "Epoch 24/50\n",
      "392/392 [==============================] - 0s 773us/step - loss: 0.2804 - accuracy: 0.9245 - val_loss: 0.2669 - val_accuracy: 0.9327\n",
      "Epoch 25/50\n",
      "392/392 [==============================] - 0s 604us/step - loss: 0.2815 - accuracy: 0.9239 - val_loss: 0.2789 - val_accuracy: 0.9327\n",
      "Epoch 26/50\n",
      "392/392 [==============================] - 0s 668us/step - loss: 0.2781 - accuracy: 0.9247 - val_loss: 0.2607 - val_accuracy: 0.9327\n",
      "Epoch 27/50\n",
      "392/392 [==============================] - 0s 570us/step - loss: 0.2778 - accuracy: 0.9239 - val_loss: 0.2746 - val_accuracy: 0.9316\n",
      "Epoch 28/50\n",
      "392/392 [==============================] - 0s 749us/step - loss: 0.2743 - accuracy: 0.9247 - val_loss: 0.2594 - val_accuracy: 0.9327\n",
      "Epoch 29/50\n",
      "392/392 [==============================] - 0s 712us/step - loss: 0.2761 - accuracy: 0.9252 - val_loss: 0.2622 - val_accuracy: 0.9316\n",
      "Epoch 30/50\n",
      "392/392 [==============================] - 0s 612us/step - loss: 0.2744 - accuracy: 0.9237 - val_loss: 0.2776 - val_accuracy: 0.9286\n",
      "Epoch 31/50\n",
      "392/392 [==============================] - 0s 596us/step - loss: 0.2756 - accuracy: 0.9245 - val_loss: 0.2598 - val_accuracy: 0.9327\n",
      "Epoch 32/50\n",
      "392/392 [==============================] - 0s 637us/step - loss: 0.2726 - accuracy: 0.9250 - val_loss: 0.2604 - val_accuracy: 0.9316\n",
      "Epoch 33/50\n",
      "392/392 [==============================] - 0s 616us/step - loss: 0.2743 - accuracy: 0.9260 - val_loss: 0.2664 - val_accuracy: 0.9327\n",
      "Epoch 34/50\n",
      "392/392 [==============================] - 0s 561us/step - loss: 0.2737 - accuracy: 0.9247 - val_loss: 0.2617 - val_accuracy: 0.9327\n",
      "Epoch 35/50\n",
      "392/392 [==============================] - 0s 602us/step - loss: 0.2770 - accuracy: 0.9239 - val_loss: 0.2593 - val_accuracy: 0.9327\n",
      "Epoch 36/50\n",
      "392/392 [==============================] - 0s 538us/step - loss: 0.2750 - accuracy: 0.9245 - val_loss: 0.2584 - val_accuracy: 0.9337\n",
      "Epoch 37/50\n",
      "392/392 [==============================] - 0s 588us/step - loss: 0.2715 - accuracy: 0.9260 - val_loss: 0.2625 - val_accuracy: 0.9316\n",
      "Epoch 38/50\n",
      "392/392 [==============================] - 0s 760us/step - loss: 0.2722 - accuracy: 0.9250 - val_loss: 0.2572 - val_accuracy: 0.9327\n",
      "Epoch 39/50\n",
      "392/392 [==============================] - 0s 538us/step - loss: 0.2705 - accuracy: 0.9247 - val_loss: 0.2606 - val_accuracy: 0.9316\n",
      "Epoch 40/50\n",
      "392/392 [==============================] - 0s 545us/step - loss: 0.2708 - accuracy: 0.9242 - val_loss: 0.2754 - val_accuracy: 0.9327\n",
      "Epoch 41/50\n",
      "392/392 [==============================] - 0s 578us/step - loss: 0.2717 - accuracy: 0.9252 - val_loss: 0.2597 - val_accuracy: 0.9316\n",
      "Epoch 42/50\n",
      "392/392 [==============================] - 0s 570us/step - loss: 0.2699 - accuracy: 0.9247 - val_loss: 0.2559 - val_accuracy: 0.9316\n",
      "Epoch 43/50\n",
      "392/392 [==============================] - 0s 554us/step - loss: 0.2709 - accuracy: 0.9250 - val_loss: 0.2579 - val_accuracy: 0.9316\n",
      "Epoch 44/50\n",
      "392/392 [==============================] - 0s 606us/step - loss: 0.2717 - accuracy: 0.9239 - val_loss: 0.2594 - val_accuracy: 0.9327\n",
      "Epoch 45/50\n",
      "392/392 [==============================] - 0s 553us/step - loss: 0.2690 - accuracy: 0.9250 - val_loss: 0.2581 - val_accuracy: 0.9316\n",
      "Epoch 46/50\n",
      "392/392 [==============================] - 0s 549us/step - loss: 0.2658 - accuracy: 0.9239 - val_loss: 0.2521 - val_accuracy: 0.9327\n",
      "Epoch 47/50\n",
      "392/392 [==============================] - 0s 597us/step - loss: 0.2714 - accuracy: 0.9245 - val_loss: 0.2621 - val_accuracy: 0.9316\n",
      "Epoch 48/50\n",
      "392/392 [==============================] - 0s 712us/step - loss: 0.2659 - accuracy: 0.9252 - val_loss: 0.2669 - val_accuracy: 0.9327\n",
      "Epoch 49/50\n",
      "392/392 [==============================] - 0s 714us/step - loss: 0.2681 - accuracy: 0.9242 - val_loss: 0.2525 - val_accuracy: 0.9327\n",
      "Epoch 50/50\n",
      "392/392 [==============================] - 0s 622us/step - loss: 0.2671 - accuracy: 0.9255 - val_loss: 0.2542 - val_accuracy: 0.9327\n"
     ]
    }
   ],
   "source": [
    "history=model.fit(X_train, y_train, validation_data=(X_test, y_test),epochs=50, batch_size=10)"
   ]
  },
  {
   "cell_type": "markdown",
   "metadata": {},
   "source": [
    "Sobre val_accuracy e accuracy:\n",
    "\n",
    "Quando ambos crescem na mesma proporção quer dizer que o modelo não causou nem overfitting nem underfitting. \n",
    "\n",
    "Se o accuracy cresce mais que o val_accuracy, quer dizer que temos overfitting. \n",
    "\n",
    "Se o accuracy cresce menos que o val_accuracy, quer dizer que temos underfitting. "
   ]
  },
  {
   "cell_type": "markdown",
   "metadata": {},
   "source": [
    "<h2>avaliação do resultado: </h2>"
   ]
  },
  {
   "cell_type": "code",
   "execution_count": 17,
   "metadata": {
    "execution": {
     "iopub.execute_input": "2021-08-13T04:58:28.735259Z",
     "iopub.status.busy": "2021-08-13T04:58:28.734833Z",
     "iopub.status.idle": "2021-08-13T04:58:28.882921Z",
     "shell.execute_reply": "2021-08-13T04:58:28.881561Z",
     "shell.execute_reply.started": "2021-08-13T04:58:28.735225Z"
    }
   },
   "outputs": [],
   "source": [
    "y_pred = model.predict(X_test)\n",
    "def max_probs(array):\n",
    "    parsed_pred = np.empty((0,3))\n",
    "    for idx, x in enumerate(array):\n",
    "        idx_max = x.argmax()\n",
    "        x = np.zeros((3,))\n",
    "        x[idx_max] = 1\n",
    "        array[idx] = x\n",
    "\n",
    "max_probs(y_pred)\n"
   ]
  },
  {
   "cell_type": "code",
   "execution_count": 18,
   "metadata": {},
   "outputs": [],
   "source": [
    "def to_category(array):\n",
    "    categories = []\n",
    "    for idx, x in enumerate(array):\n",
    "        idx_max = x.argmax()\n",
    "        x = 0\n",
    "        if idx_max == 0: x = 0\n",
    "        if idx_max == 1: x = 1\n",
    "        if idx_max == 2: x = 2\n",
    "        categories.append(x)\n",
    "    return categories\n",
    "\n",
    "\n",
    "categorical_y_pred = to_category(y_pred)\n",
    "categorical_y_test = to_category(y_test.to_numpy())\n",
    "data = confusion_matrix(categorical_y_test, categorical_y_pred)"
   ]
  },
  {
   "cell_type": "code",
   "execution_count": 19,
   "metadata": {},
   "outputs": [
    {
     "data": {
      "text/plain": [
       "980"
      ]
     },
     "execution_count": 19,
     "metadata": {},
     "output_type": "execute_result"
    }
   ],
   "source": [
    "len(categorical_y_test)"
   ]
  },
  {
   "cell_type": "markdown",
   "metadata": {},
   "source": [
    "Matriz de confusão:"
   ]
  },
  {
   "cell_type": "code",
   "execution_count": 20,
   "metadata": {},
   "outputs": [
    {
     "data": {
      "text/plain": [
       "<AxesSubplot:xlabel='Predicted', ylabel='Actual'>"
      ]
     },
     "execution_count": 20,
     "metadata": {},
     "output_type": "execute_result"
    },
    {
     "data": {
      "image/png": "[encoded data removed]",
      "text/plain": [
       "<Figure size 720x504 with 2 Axes>"
      ]
     },
     "metadata": {
      "needs_background": "light"
     },
     "output_type": "display_data"
    }
   ],
   "source": [
    "df_cm = pd.DataFrame(data, columns=np.unique(categorical_y_test), index = np.unique(categorical_y_test))\n",
    "df_cm.index.name = 'Actual'\n",
    "df_cm.columns.name = 'Predicted'\n",
    "plt.figure(figsize = (10,7))\n",
    "sb.set(font_scale=1.4)#for label size\n",
    "sb.heatmap(df_cm, cmap=\"Blues\", annot=True,annot_kws={\"size\": 16})# font size"
   ]
  },
  {
   "cell_type": "markdown",
   "metadata": {},
   "source": [
    "Verificação de acurácia geral"
   ]
  },
  {
   "cell_type": "code",
   "execution_count": 21,
   "metadata": {},
   "outputs": [],
   "source": [
    "correct = 0\n",
    "total = 0\n",
    "for i in range(len(categorical_y_test)):\n",
    "    if(categorical_y_test[i] == categorical_y_pred[i]):\n",
    "        correct += 1\n",
    "    total += 1\n",
    "accuracy = (correct/total)"
   ]
  },
  {
   "cell_type": "code",
   "execution_count": 22,
   "metadata": {},
   "outputs": [
    {
     "data": {
      "text/plain": [
       "0.9326530612244898"
      ]
     },
     "execution_count": 22,
     "metadata": {},
     "output_type": "execute_result"
    }
   ],
   "source": [
    "accuracy"
   ]
  },
  {
   "cell_type": "markdown",
   "metadata": {},
   "source": [
    "<h1> Conclusão </h1>\n",
    "\n",
    "Sem o SMOTE, essa rede neural pode não ter informações suficientes de classes altas e baixas para fazer uma predição boa delas. Tivemos muitos vinhos que foram previstos como qualidade 1, que deveriam ser 2 ou 0."
   ]
  }
 ],
 "metadata": {
  "kernelspec": {
   "display_name": "Python 3 (ipykernel)",
   "language": "python",
   "name": "python3"
  },
  "language_info": {
   "codemirror_mode": {
    "name": "ipython",
    "version": 3
   },
   "file_extension": ".py",
   "mimetype": "text/x-python",
   "name": "python",
   "nbconvert_exporter": "python",
   "pygments_lexer": "ipython3",
   "version": "3.8.11"
  }
 },
 "nbformat": 4,
 "nbformat_minor": 4
}
