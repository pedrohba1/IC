{
 "cells": [
  {
   "cell_type": "code",
   "execution_count": 1,
   "metadata": {},
   "outputs": [],
   "source": [
    "#Desabilita logs e mantém apenas logs críticos (para evitar o libcuda ficar me avisando que a GPU tá funcionando)\n",
    "import logging\n",
    "logger = logging.getLogger()\n",
    "logger.setLevel(logging.CRITICAL)"
   ]
  },
  {
   "cell_type": "code",
   "execution_count": 2,
   "metadata": {
    "execution": {
     "iopub.execute_input": "2021-08-13T04:58:06.798528Z",
     "iopub.status.busy": "2021-08-13T04:58:06.798051Z",
     "iopub.status.idle": "2021-08-13T04:58:06.803555Z",
     "shell.execute_reply": "2021-08-13T04:58:06.802761Z",
     "shell.execute_reply.started": "2021-08-13T04:58:06.798498Z"
    }
   },
   "outputs": [
    {
     "name": "stderr",
     "output_type": "stream",
     "text": [
      "2021-08-17 20:46:51.564770: I tensorflow/stream_executor/platform/default/dso_loader.cc:53] Successfully opened dynamic library libcudart.so.11.0\n"
     ]
    }
   ],
   "source": [
    "%config Completer.use_jedi = False\n",
    "import pandas as pd\n",
    "import numpy as np \n",
    "import seaborn as sb\n",
    "import matplotlib.pyplot as plt\n",
    "import scipy as spy\n",
    "import keras\n",
    "from sklearn.metrics import accuracy_score, recall_score, confusion_matrix\n",
    "from sklearn.model_selection import train_test_split\n",
    "from keras.models import Sequential\n",
    "from keras.layers import Dense,Dropout,Input\n",
    "from keras.optimizers import Adam,RMSprop"
   ]
  },
  {
   "cell_type": "code",
   "execution_count": 3,
   "metadata": {
    "execution": {
     "iopub.execute_input": "2021-08-13T04:58:06.813950Z",
     "iopub.status.busy": "2021-08-13T04:58:06.813321Z",
     "iopub.status.idle": "2021-08-13T04:58:06.855753Z",
     "shell.execute_reply": "2021-08-13T04:58:06.855006Z",
     "shell.execute_reply.started": "2021-08-13T04:58:06.813909Z"
    }
   },
   "outputs": [
    {
     "data": {
      "text/html": [
       "<div>\n",
       "<style scoped>\n",
       "    .dataframe tbody tr th:only-of-type {\n",
       "        vertical-align: middle;\n",
       "    }\n",
       "\n",
       "    .dataframe tbody tr th {\n",
       "        vertical-align: top;\n",
       "    }\n",
       "\n",
       "    .dataframe thead th {\n",
       "        text-align: right;\n",
       "    }\n",
       "</style>\n",
       "<table border=\"1\" class=\"dataframe\">\n",
       "  <thead>\n",
       "    <tr style=\"text-align: right;\">\n",
       "      <th></th>\n",
       "      <th>fixed acidity</th>\n",
       "      <th>volatile acidity</th>\n",
       "      <th>citric acid</th>\n",
       "      <th>residual sugar</th>\n",
       "      <th>chlorides</th>\n",
       "      <th>free sulfur dioxide</th>\n",
       "      <th>total sulfur dioxide</th>\n",
       "      <th>density</th>\n",
       "      <th>pH</th>\n",
       "      <th>sulphates</th>\n",
       "      <th>alcohol</th>\n",
       "      <th>quality</th>\n",
       "    </tr>\n",
       "  </thead>\n",
       "  <tbody>\n",
       "    <tr>\n",
       "      <th>0</th>\n",
       "      <td>7.0</td>\n",
       "      <td>0.27</td>\n",
       "      <td>0.36</td>\n",
       "      <td>20.7</td>\n",
       "      <td>0.045</td>\n",
       "      <td>45.0</td>\n",
       "      <td>170.0</td>\n",
       "      <td>1.0010</td>\n",
       "      <td>3.00</td>\n",
       "      <td>0.45</td>\n",
       "      <td>8.8</td>\n",
       "      <td>6</td>\n",
       "    </tr>\n",
       "    <tr>\n",
       "      <th>1</th>\n",
       "      <td>6.3</td>\n",
       "      <td>0.30</td>\n",
       "      <td>0.34</td>\n",
       "      <td>1.6</td>\n",
       "      <td>0.049</td>\n",
       "      <td>14.0</td>\n",
       "      <td>132.0</td>\n",
       "      <td>0.9940</td>\n",
       "      <td>3.30</td>\n",
       "      <td>0.49</td>\n",
       "      <td>9.5</td>\n",
       "      <td>6</td>\n",
       "    </tr>\n",
       "    <tr>\n",
       "      <th>2</th>\n",
       "      <td>8.1</td>\n",
       "      <td>0.28</td>\n",
       "      <td>0.40</td>\n",
       "      <td>6.9</td>\n",
       "      <td>0.050</td>\n",
       "      <td>30.0</td>\n",
       "      <td>97.0</td>\n",
       "      <td>0.9951</td>\n",
       "      <td>3.26</td>\n",
       "      <td>0.44</td>\n",
       "      <td>10.1</td>\n",
       "      <td>6</td>\n",
       "    </tr>\n",
       "    <tr>\n",
       "      <th>3</th>\n",
       "      <td>7.2</td>\n",
       "      <td>0.23</td>\n",
       "      <td>0.32</td>\n",
       "      <td>8.5</td>\n",
       "      <td>0.058</td>\n",
       "      <td>47.0</td>\n",
       "      <td>186.0</td>\n",
       "      <td>0.9956</td>\n",
       "      <td>3.19</td>\n",
       "      <td>0.40</td>\n",
       "      <td>9.9</td>\n",
       "      <td>6</td>\n",
       "    </tr>\n",
       "    <tr>\n",
       "      <th>4</th>\n",
       "      <td>7.2</td>\n",
       "      <td>0.23</td>\n",
       "      <td>0.32</td>\n",
       "      <td>8.5</td>\n",
       "      <td>0.058</td>\n",
       "      <td>47.0</td>\n",
       "      <td>186.0</td>\n",
       "      <td>0.9956</td>\n",
       "      <td>3.19</td>\n",
       "      <td>0.40</td>\n",
       "      <td>9.9</td>\n",
       "      <td>6</td>\n",
       "    </tr>\n",
       "  </tbody>\n",
       "</table>\n",
       "</div>"
      ],
      "text/plain": [
       "   fixed acidity  volatile acidity  citric acid  residual sugar  chlorides  \\\n",
       "0            7.0              0.27         0.36            20.7      0.045   \n",
       "1            6.3              0.30         0.34             1.6      0.049   \n",
       "2            8.1              0.28         0.40             6.9      0.050   \n",
       "3            7.2              0.23         0.32             8.5      0.058   \n",
       "4            7.2              0.23         0.32             8.5      0.058   \n",
       "\n",
       "   free sulfur dioxide  total sulfur dioxide  density    pH  sulphates  \\\n",
       "0                 45.0                 170.0   1.0010  3.00       0.45   \n",
       "1                 14.0                 132.0   0.9940  3.30       0.49   \n",
       "2                 30.0                  97.0   0.9951  3.26       0.44   \n",
       "3                 47.0                 186.0   0.9956  3.19       0.40   \n",
       "4                 47.0                 186.0   0.9956  3.19       0.40   \n",
       "\n",
       "   alcohol  quality  \n",
       "0      8.8        6  \n",
       "1      9.5        6  \n",
       "2     10.1        6  \n",
       "3      9.9        6  \n",
       "4      9.9        6  "
      ]
     },
     "execution_count": 3,
     "metadata": {},
     "output_type": "execute_result"
    }
   ],
   "source": [
    "import os\n",
    "for dirname, _, filenames in os.walk('/kaggle/input'):\n",
    "    for filename in filenames:\n",
    "        print(os.path.join(dirname, filename))\n",
    "df = pd.read_csv('datasets/winequality-white.csv', sep = ',')\n",
    "df.head()        "
   ]
  },
  {
   "cell_type": "markdown",
   "metadata": {},
   "source": [
    "Olhando abaixo, não temos nenhum valor N/A, então não precisamos tratar isso."
   ]
  },
  {
   "cell_type": "code",
   "execution_count": 4,
   "metadata": {
    "execution": {
     "iopub.execute_input": "2021-08-13T04:58:06.857296Z",
     "iopub.status.busy": "2021-08-13T04:58:06.856904Z",
     "iopub.status.idle": "2021-08-13T04:58:06.865156Z",
     "shell.execute_reply": "2021-08-13T04:58:06.864303Z",
     "shell.execute_reply.started": "2021-08-13T04:58:06.857267Z"
    }
   },
   "outputs": [
    {
     "data": {
      "text/plain": [
       "fixed acidity           0\n",
       "volatile acidity        0\n",
       "citric acid             0\n",
       "residual sugar          0\n",
       "chlorides               0\n",
       "free sulfur dioxide     0\n",
       "total sulfur dioxide    0\n",
       "density                 0\n",
       "pH                      0\n",
       "sulphates               0\n",
       "alcohol                 0\n",
       "quality                 0\n",
       "dtype: int64"
      ]
     },
     "execution_count": 4,
     "metadata": {},
     "output_type": "execute_result"
    }
   ],
   "source": [
    "df.isna().sum()"
   ]
  },
  {
   "cell_type": "code",
   "execution_count": 5,
   "metadata": {
    "execution": {
     "iopub.execute_input": "2021-08-13T04:58:06.867352Z",
     "iopub.status.busy": "2021-08-13T04:58:06.866890Z",
     "iopub.status.idle": "2021-08-13T04:58:06.875075Z",
     "shell.execute_reply": "2021-08-13T04:58:06.873965Z",
     "shell.execute_reply.started": "2021-08-13T04:58:06.867321Z"
    }
   },
   "outputs": [
    {
     "name": "stdout",
     "output_type": "stream",
     "text": [
      "4898\n"
     ]
    }
   ],
   "source": [
    "print(len(df))\n"
   ]
  },
  {
   "cell_type": "code",
   "execution_count": 6,
   "metadata": {
    "execution": {
     "iopub.execute_input": "2021-08-13T04:58:06.878002Z",
     "iopub.status.busy": "2021-08-13T04:58:06.877590Z",
     "iopub.status.idle": "2021-08-13T04:58:06.889472Z",
     "shell.execute_reply": "2021-08-13T04:58:06.888304Z",
     "shell.execute_reply.started": "2021-08-13T04:58:06.877966Z"
    }
   },
   "outputs": [
    {
     "data": {
      "text/plain": [
       "6    2198\n",
       "5    1457\n",
       "7     880\n",
       "8     175\n",
       "4     163\n",
       "3      20\n",
       "9       5\n",
       "Name: quality, dtype: int64"
      ]
     },
     "execution_count": 6,
     "metadata": {},
     "output_type": "execute_result"
    }
   ],
   "source": [
    "df['quality'].value_counts()"
   ]
  },
  {
   "cell_type": "code",
   "execution_count": 7,
   "metadata": {
    "execution": {
     "iopub.execute_input": "2021-08-13T04:58:06.891552Z",
     "iopub.status.busy": "2021-08-13T04:58:06.890997Z",
     "iopub.status.idle": "2021-08-13T04:58:09.285053Z",
     "shell.execute_reply": "2021-08-13T04:58:09.283991Z",
     "shell.execute_reply.started": "2021-08-13T04:58:06.891520Z"
    }
   },
   "outputs": [
    {
     "data": {
      "text/plain": [
       "array([[<AxesSubplot:title={'center':'fixed acidity'}>,\n",
       "        <AxesSubplot:title={'center':'volatile acidity'}>,\n",
       "        <AxesSubplot:title={'center':'citric acid'}>],\n",
       "       [<AxesSubplot:title={'center':'residual sugar'}>,\n",
       "        <AxesSubplot:title={'center':'chlorides'}>,\n",
       "        <AxesSubplot:title={'center':'free sulfur dioxide'}>],\n",
       "       [<AxesSubplot:title={'center':'total sulfur dioxide'}>,\n",
       "        <AxesSubplot:title={'center':'density'}>,\n",
       "        <AxesSubplot:title={'center':'pH'}>],\n",
       "       [<AxesSubplot:title={'center':'sulphates'}>,\n",
       "        <AxesSubplot:title={'center':'alcohol'}>,\n",
       "        <AxesSubplot:title={'center':'quality'}>]], dtype=object)"
      ]
     },
     "execution_count": 7,
     "metadata": {},
     "output_type": "execute_result"
    },
    {
     "data": {
      "image/png": "[encoded data removed]",
      "text/plain": [
       "<Figure size 720x720 with 12 Axes>"
      ]
     },
     "metadata": {
      "needs_background": "light"
     },
     "output_type": "display_data"
    }
   ],
   "source": [
    "df.hist(figsize = (10, 10))"
   ]
  },
  {
   "cell_type": "markdown",
   "metadata": {},
   "source": [
    "<h2> SMOTE </h2>"
   ]
  },
  {
   "cell_type": "markdown",
   "metadata": {},
   "source": [
    "Podemos ver acima que temos um desbalanceamento na quantidade de amostras. Temos muitas regulares e poucas ruins e ótimas. Vamos usar uma técnica chamada SMOTE que consiste em fazer o oversampling das amostras minoritária}s, deixando assim o dataset balanceado. Essa técnica foi descrita no artigo."
   ]
  },
  {
   "cell_type": "code",
   "execution_count": 8,
   "metadata": {
    "execution": {
     "iopub.execute_input": "2021-08-13T04:58:09.286874Z",
     "iopub.status.busy": "2021-08-13T04:58:09.286571Z",
     "iopub.status.idle": "2021-08-13T04:58:09.293001Z",
     "shell.execute_reply": "2021-08-13T04:58:09.291668Z",
     "shell.execute_reply.started": "2021-08-13T04:58:09.286845Z"
    }
   },
   "outputs": [],
   "source": [
    "X=df.drop(columns=['quality'])\n",
    "y=df['quality']"
   ]
  },
  {
   "cell_type": "code",
   "execution_count": 9,
   "metadata": {
    "execution": {
     "iopub.execute_input": "2021-08-13T04:58:09.294850Z",
     "iopub.status.busy": "2021-08-13T04:58:09.294546Z",
     "iopub.status.idle": "2021-08-13T04:58:09.339099Z",
     "shell.execute_reply": "2021-08-13T04:58:09.338076Z",
     "shell.execute_reply.started": "2021-08-13T04:58:09.294822Z"
    }
   },
   "outputs": [],
   "source": [
    "from imblearn.over_sampling import SMOTE\n",
    "oversample = SMOTE(k_neighbors=4)\n",
    "X, y = oversample.fit_resample(X, y)"
   ]
  },
  {
   "cell_type": "markdown",
   "metadata": {},
   "source": [
    "Vemos abaixo que as classificações agora estão igualmente distribuiídas:"
   ]
  },
  {
   "cell_type": "code",
   "execution_count": 10,
   "metadata": {
    "execution": {
     "iopub.execute_input": "2021-08-13T04:58:09.341909Z",
     "iopub.status.busy": "2021-08-13T04:58:09.341590Z",
     "iopub.status.idle": "2021-08-13T04:58:09.353088Z",
     "shell.execute_reply": "2021-08-13T04:58:09.352100Z",
     "shell.execute_reply.started": "2021-08-13T04:58:09.341867Z"
    }
   },
   "outputs": [
    {
     "name": "stdout",
     "output_type": "stream",
     "text": [
      "int64\n",
      "15386\n"
     ]
    },
    {
     "data": {
      "text/plain": [
       "6    2198\n",
       "5    2198\n",
       "7    2198\n",
       "8    2198\n",
       "4    2198\n",
       "3    2198\n",
       "9    2198\n",
       "Name: quality, dtype: int64"
      ]
     },
     "execution_count": 10,
     "metadata": {},
     "output_type": "execute_result"
    }
   ],
   "source": [
    "print(y.dtypes)\n",
    "print(y.count())\n",
    "y.value_counts()"
   ]
  },
  {
   "cell_type": "code",
   "execution_count": 11,
   "metadata": {
    "execution": {
     "iopub.execute_input": "2021-08-13T04:58:09.355863Z",
     "iopub.status.busy": "2021-08-13T04:58:09.355328Z",
     "iopub.status.idle": "2021-08-13T04:58:09.374796Z",
     "shell.execute_reply": "2021-08-13T04:58:09.373783Z",
     "shell.execute_reply.started": "2021-08-13T04:58:09.355831Z"
    }
   },
   "outputs": [
    {
     "data": {
      "text/plain": [
       "1    6594\n",
       "2    4396\n",
       "0    4396\n",
       "Name: quality, dtype: int64"
      ]
     },
     "execution_count": 11,
     "metadata": {},
     "output_type": "execute_result"
    }
   ],
   "source": [
    "y[y<=4] = 0\n",
    "y[((y>=5) & (y<=7))] = 1\n",
    "y[y>=8] = 2    \n",
    "y.value_counts()"
   ]
  },
  {
   "cell_type": "markdown",
   "metadata": {},
   "source": [
    "Substituindo as faixas de qualidade por 0 (baixa), 1 (média) e 2 (alta):\n"
   ]
  },
  {
   "cell_type": "code",
   "execution_count": 12,
   "metadata": {
    "execution": {
     "iopub.execute_input": "2021-08-13T04:58:09.376866Z",
     "iopub.status.busy": "2021-08-13T04:58:09.376594Z",
     "iopub.status.idle": "2021-08-13T04:58:09.403172Z",
     "shell.execute_reply": "2021-08-13T04:58:09.401962Z",
     "shell.execute_reply.started": "2021-08-13T04:58:09.376840Z"
    }
   },
   "outputs": [
    {
     "data": {
      "text/html": [
       "<div>\n",
       "<style scoped>\n",
       "    .dataframe tbody tr th:only-of-type {\n",
       "        vertical-align: middle;\n",
       "    }\n",
       "\n",
       "    .dataframe tbody tr th {\n",
       "        vertical-align: top;\n",
       "    }\n",
       "\n",
       "    .dataframe thead th {\n",
       "        text-align: right;\n",
       "    }\n",
       "</style>\n",
       "<table border=\"1\" class=\"dataframe\">\n",
       "  <thead>\n",
       "    <tr style=\"text-align: right;\">\n",
       "      <th></th>\n",
       "      <th>fixed acidity</th>\n",
       "      <th>volatile acidity</th>\n",
       "      <th>citric acid</th>\n",
       "      <th>residual sugar</th>\n",
       "      <th>chlorides</th>\n",
       "      <th>free sulfur dioxide</th>\n",
       "      <th>total sulfur dioxide</th>\n",
       "      <th>density</th>\n",
       "      <th>pH</th>\n",
       "      <th>sulphates</th>\n",
       "      <th>alcohol</th>\n",
       "      <th>quality</th>\n",
       "    </tr>\n",
       "  </thead>\n",
       "  <tbody>\n",
       "    <tr>\n",
       "      <th>0</th>\n",
       "      <td>7.0</td>\n",
       "      <td>0.27</td>\n",
       "      <td>0.36</td>\n",
       "      <td>20.7</td>\n",
       "      <td>0.045</td>\n",
       "      <td>45.0</td>\n",
       "      <td>170.0</td>\n",
       "      <td>1.0010</td>\n",
       "      <td>3.00</td>\n",
       "      <td>0.45</td>\n",
       "      <td>8.8</td>\n",
       "      <td>1</td>\n",
       "    </tr>\n",
       "    <tr>\n",
       "      <th>1</th>\n",
       "      <td>6.3</td>\n",
       "      <td>0.30</td>\n",
       "      <td>0.34</td>\n",
       "      <td>1.6</td>\n",
       "      <td>0.049</td>\n",
       "      <td>14.0</td>\n",
       "      <td>132.0</td>\n",
       "      <td>0.9940</td>\n",
       "      <td>3.30</td>\n",
       "      <td>0.49</td>\n",
       "      <td>9.5</td>\n",
       "      <td>1</td>\n",
       "    </tr>\n",
       "    <tr>\n",
       "      <th>2</th>\n",
       "      <td>8.1</td>\n",
       "      <td>0.28</td>\n",
       "      <td>0.40</td>\n",
       "      <td>6.9</td>\n",
       "      <td>0.050</td>\n",
       "      <td>30.0</td>\n",
       "      <td>97.0</td>\n",
       "      <td>0.9951</td>\n",
       "      <td>3.26</td>\n",
       "      <td>0.44</td>\n",
       "      <td>10.1</td>\n",
       "      <td>1</td>\n",
       "    </tr>\n",
       "    <tr>\n",
       "      <th>3</th>\n",
       "      <td>7.2</td>\n",
       "      <td>0.23</td>\n",
       "      <td>0.32</td>\n",
       "      <td>8.5</td>\n",
       "      <td>0.058</td>\n",
       "      <td>47.0</td>\n",
       "      <td>186.0</td>\n",
       "      <td>0.9956</td>\n",
       "      <td>3.19</td>\n",
       "      <td>0.40</td>\n",
       "      <td>9.9</td>\n",
       "      <td>1</td>\n",
       "    </tr>\n",
       "    <tr>\n",
       "      <th>4</th>\n",
       "      <td>7.2</td>\n",
       "      <td>0.23</td>\n",
       "      <td>0.32</td>\n",
       "      <td>8.5</td>\n",
       "      <td>0.058</td>\n",
       "      <td>47.0</td>\n",
       "      <td>186.0</td>\n",
       "      <td>0.9956</td>\n",
       "      <td>3.19</td>\n",
       "      <td>0.40</td>\n",
       "      <td>9.9</td>\n",
       "      <td>1</td>\n",
       "    </tr>\n",
       "  </tbody>\n",
       "</table>\n",
       "</div>"
      ],
      "text/plain": [
       "   fixed acidity  volatile acidity  citric acid  residual sugar  chlorides  \\\n",
       "0            7.0              0.27         0.36            20.7      0.045   \n",
       "1            6.3              0.30         0.34             1.6      0.049   \n",
       "2            8.1              0.28         0.40             6.9      0.050   \n",
       "3            7.2              0.23         0.32             8.5      0.058   \n",
       "4            7.2              0.23         0.32             8.5      0.058   \n",
       "\n",
       "   free sulfur dioxide  total sulfur dioxide  density    pH  sulphates  \\\n",
       "0                 45.0                 170.0   1.0010  3.00       0.45   \n",
       "1                 14.0                 132.0   0.9940  3.30       0.49   \n",
       "2                 30.0                  97.0   0.9951  3.26       0.44   \n",
       "3                 47.0                 186.0   0.9956  3.19       0.40   \n",
       "4                 47.0                 186.0   0.9956  3.19       0.40   \n",
       "\n",
       "   alcohol  quality  \n",
       "0      8.8        1  \n",
       "1      9.5        1  \n",
       "2     10.1        1  \n",
       "3      9.9        1  \n",
       "4      9.9        1  "
      ]
     },
     "execution_count": 12,
     "metadata": {},
     "output_type": "execute_result"
    }
   ],
   "source": [
    "df = pd.concat([X, y.reindex(X.index)], axis=1)\n",
    "df.head()"
   ]
  },
  {
   "cell_type": "markdown",
   "metadata": {},
   "source": [
    "Pronto, agora temos todas as amostras em quantias iguais."
   ]
  },
  {
   "cell_type": "markdown",
   "metadata": {},
   "source": [
    "<h2> Hot encoding </h2>"
   ]
  },
  {
   "cell_type": "markdown",
   "metadata": {},
   "source": [
    "Primeiro vamos separar a qualificações que vão de 6 à 9 (no caso desse dataset) em 0 1 e 2. Sendo 0 a qualidade mais baixa, 1 a média e 2 a alta, como vamos configurar para o hot encoding posteriormente. "
   ]
  },
  {
   "cell_type": "markdown",
   "metadata": {},
   "source": [
    "No trecho de código abaixo, vou converter as varíaveis categóricas (0 1 e 2) em uma tabela. Essa tabela tem 3 colunas, onde cada uma corresponde à uma das classificações possíveis. Sempre apenas um dos items dessa coluna vai ser 1 e o resto 0. O nosso modelo ira tentar prever o valor dessas 3 colunas para assim prever a qualidade do vinho."
   ]
  },
  {
   "cell_type": "code",
   "execution_count": 13,
   "metadata": {
    "execution": {
     "iopub.execute_input": "2021-08-13T04:58:09.404942Z",
     "iopub.status.busy": "2021-08-13T04:58:09.404571Z",
     "iopub.status.idle": "2021-08-13T04:58:09.436680Z",
     "shell.execute_reply": "2021-08-13T04:58:09.435774Z",
     "shell.execute_reply.started": "2021-08-13T04:58:09.404896Z"
    }
   },
   "outputs": [
    {
     "data": {
      "text/html": [
       "<div>\n",
       "<style scoped>\n",
       "    .dataframe tbody tr th:only-of-type {\n",
       "        vertical-align: middle;\n",
       "    }\n",
       "\n",
       "    .dataframe tbody tr th {\n",
       "        vertical-align: top;\n",
       "    }\n",
       "\n",
       "    .dataframe thead th {\n",
       "        text-align: right;\n",
       "    }\n",
       "</style>\n",
       "<table border=\"1\" class=\"dataframe\">\n",
       "  <thead>\n",
       "    <tr style=\"text-align: right;\">\n",
       "      <th></th>\n",
       "      <th>fixed acidity</th>\n",
       "      <th>volatile acidity</th>\n",
       "      <th>citric acid</th>\n",
       "      <th>residual sugar</th>\n",
       "      <th>chlorides</th>\n",
       "      <th>free sulfur dioxide</th>\n",
       "      <th>total sulfur dioxide</th>\n",
       "      <th>density</th>\n",
       "      <th>pH</th>\n",
       "      <th>sulphates</th>\n",
       "      <th>alcohol</th>\n",
       "      <th>baixa</th>\n",
       "      <th>media</th>\n",
       "      <th>alta</th>\n",
       "    </tr>\n",
       "  </thead>\n",
       "  <tbody>\n",
       "    <tr>\n",
       "      <th>0</th>\n",
       "      <td>7.0</td>\n",
       "      <td>0.27</td>\n",
       "      <td>0.36</td>\n",
       "      <td>20.7</td>\n",
       "      <td>0.045</td>\n",
       "      <td>45.0</td>\n",
       "      <td>170.0</td>\n",
       "      <td>1.0010</td>\n",
       "      <td>3.00</td>\n",
       "      <td>0.45</td>\n",
       "      <td>8.8</td>\n",
       "      <td>0</td>\n",
       "      <td>1</td>\n",
       "      <td>0</td>\n",
       "    </tr>\n",
       "    <tr>\n",
       "      <th>1</th>\n",
       "      <td>6.3</td>\n",
       "      <td>0.30</td>\n",
       "      <td>0.34</td>\n",
       "      <td>1.6</td>\n",
       "      <td>0.049</td>\n",
       "      <td>14.0</td>\n",
       "      <td>132.0</td>\n",
       "      <td>0.9940</td>\n",
       "      <td>3.30</td>\n",
       "      <td>0.49</td>\n",
       "      <td>9.5</td>\n",
       "      <td>0</td>\n",
       "      <td>1</td>\n",
       "      <td>0</td>\n",
       "    </tr>\n",
       "    <tr>\n",
       "      <th>2</th>\n",
       "      <td>8.1</td>\n",
       "      <td>0.28</td>\n",
       "      <td>0.40</td>\n",
       "      <td>6.9</td>\n",
       "      <td>0.050</td>\n",
       "      <td>30.0</td>\n",
       "      <td>97.0</td>\n",
       "      <td>0.9951</td>\n",
       "      <td>3.26</td>\n",
       "      <td>0.44</td>\n",
       "      <td>10.1</td>\n",
       "      <td>0</td>\n",
       "      <td>1</td>\n",
       "      <td>0</td>\n",
       "    </tr>\n",
       "    <tr>\n",
       "      <th>3</th>\n",
       "      <td>7.2</td>\n",
       "      <td>0.23</td>\n",
       "      <td>0.32</td>\n",
       "      <td>8.5</td>\n",
       "      <td>0.058</td>\n",
       "      <td>47.0</td>\n",
       "      <td>186.0</td>\n",
       "      <td>0.9956</td>\n",
       "      <td>3.19</td>\n",
       "      <td>0.40</td>\n",
       "      <td>9.9</td>\n",
       "      <td>0</td>\n",
       "      <td>1</td>\n",
       "      <td>0</td>\n",
       "    </tr>\n",
       "    <tr>\n",
       "      <th>4</th>\n",
       "      <td>7.2</td>\n",
       "      <td>0.23</td>\n",
       "      <td>0.32</td>\n",
       "      <td>8.5</td>\n",
       "      <td>0.058</td>\n",
       "      <td>47.0</td>\n",
       "      <td>186.0</td>\n",
       "      <td>0.9956</td>\n",
       "      <td>3.19</td>\n",
       "      <td>0.40</td>\n",
       "      <td>9.9</td>\n",
       "      <td>0</td>\n",
       "      <td>1</td>\n",
       "      <td>0</td>\n",
       "    </tr>\n",
       "  </tbody>\n",
       "</table>\n",
       "</div>"
      ],
      "text/plain": [
       "   fixed acidity  volatile acidity  citric acid  residual sugar  chlorides  \\\n",
       "0            7.0              0.27         0.36            20.7      0.045   \n",
       "1            6.3              0.30         0.34             1.6      0.049   \n",
       "2            8.1              0.28         0.40             6.9      0.050   \n",
       "3            7.2              0.23         0.32             8.5      0.058   \n",
       "4            7.2              0.23         0.32             8.5      0.058   \n",
       "\n",
       "   free sulfur dioxide  total sulfur dioxide  density    pH  sulphates  \\\n",
       "0                 45.0                 170.0   1.0010  3.00       0.45   \n",
       "1                 14.0                 132.0   0.9940  3.30       0.49   \n",
       "2                 30.0                  97.0   0.9951  3.26       0.44   \n",
       "3                 47.0                 186.0   0.9956  3.19       0.40   \n",
       "4                 47.0                 186.0   0.9956  3.19       0.40   \n",
       "\n",
       "   alcohol  baixa  media  alta  \n",
       "0      8.8      0      1     0  \n",
       "1      9.5      0      1     0  \n",
       "2     10.1      0      1     0  \n",
       "3      9.9      0      1     0  \n",
       "4      9.9      0      1     0  "
      ]
     },
     "execution_count": 13,
     "metadata": {},
     "output_type": "execute_result"
    }
   ],
   "source": [
    "one_hot_encoded_data = pd.get_dummies(df, columns = ['quality'])\n",
    "df = one_hot_encoded_data.rename(columns={'quality_0': 'baixa', 'quality_1': 'media', 'quality_2': 'alta'})\n",
    "df.head()"
   ]
  },
  {
   "cell_type": "code",
   "execution_count": 14,
   "metadata": {
    "execution": {
     "iopub.execute_input": "2021-08-13T04:58:09.438832Z",
     "iopub.status.busy": "2021-08-13T04:58:09.438369Z",
     "iopub.status.idle": "2021-08-13T04:58:09.445467Z",
     "shell.execute_reply": "2021-08-13T04:58:09.444016Z",
     "shell.execute_reply.started": "2021-08-13T04:58:09.438785Z"
    }
   },
   "outputs": [],
   "source": [
    "y = df[['baixa','media', 'alta']]"
   ]
  },
  {
   "cell_type": "markdown",
   "metadata": {},
   "source": [
    "Matriz de correlação:"
   ]
  },
  {
   "cell_type": "code",
   "execution_count": 15,
   "metadata": {
    "execution": {
     "iopub.execute_input": "2021-08-13T04:58:09.447415Z",
     "iopub.status.busy": "2021-08-13T04:58:09.446990Z",
     "iopub.status.idle": "2021-08-13T04:58:10.905114Z",
     "shell.execute_reply": "2021-08-13T04:58:10.903998Z",
     "shell.execute_reply.started": "2021-08-13T04:58:09.447383Z"
    }
   },
   "outputs": [
    {
     "data": {
      "text/plain": [
       "<AxesSubplot:>"
      ]
     },
     "execution_count": 15,
     "metadata": {},
     "output_type": "execute_result"
    },
    {
     "data": {
      "image/png": "[encoded data removed]",
      "text/plain": [
       "<Figure size 1440x720 with 2 Axes>"
      ]
     },
     "metadata": {
      "needs_background": "light"
     },
     "output_type": "display_data"
    }
   ],
   "source": [
    "corr=df.corr()\n",
    "plt.figure(figsize=(20,10))\n",
    "sb.heatmap(corr,annot=True, cmap='coolwarm')"
   ]
  },
  {
   "cell_type": "markdown",
   "metadata": {},
   "source": [
    "<h1>Separando o dataset de treinamento e o de predição</h1>"
   ]
  },
  {
   "cell_type": "code",
   "execution_count": 16,
   "metadata": {
    "execution": {
     "iopub.execute_input": "2021-08-13T04:58:10.906931Z",
     "iopub.status.busy": "2021-08-13T04:58:10.906582Z",
     "iopub.status.idle": "2021-08-13T04:58:10.929188Z",
     "shell.execute_reply": "2021-08-13T04:58:10.928204Z",
     "shell.execute_reply.started": "2021-08-13T04:58:10.906868Z"
    }
   },
   "outputs": [
    {
     "name": "stdout",
     "output_type": "stream",
     "text": [
      "Formato do dataset de treinamento Xs:(12308, 11)\n",
      "Formato do datasett de teste Xs:(3078, 11)\n",
      "Formato do dataset de treino y:(12308, 3)\n",
      "Formato do dataset de test y:(3078, 3)\n"
     ]
    }
   ],
   "source": [
    "X_train, X_test, y_train, y_test = train_test_split(X,y,test_size=0.20,random_state=21)\n",
    "print('Formato do dataset de treinamento Xs:{}'.format(X_train.shape))\n",
    "print('Formato do datasett de teste Xs:{}'.format(X_test.shape))\n",
    "print('Formato do dataset de treino y:{}'.format(y_train.shape))\n",
    "print('Formato do dataset de test y:{}'.format(y_test.shape))"
   ]
  },
  {
   "cell_type": "markdown",
   "metadata": {},
   "source": [
    "<h1> Construção do modelo </h1>"
   ]
  },
  {
   "cell_type": "markdown",
   "metadata": {},
   "source": [
    "O artigo utilizou relu e tanh. Aqui abaixo vamos usar relu."
   ]
  },
  {
   "cell_type": "code",
   "execution_count": 27,
   "metadata": {
    "execution": {
     "iopub.execute_input": "2021-08-13T04:58:10.930641Z",
     "iopub.status.busy": "2021-08-13T04:58:10.930366Z",
     "iopub.status.idle": "2021-08-13T04:58:10.971301Z",
     "shell.execute_reply": "2021-08-13T04:58:10.970082Z",
     "shell.execute_reply.started": "2021-08-13T04:58:10.930615Z"
    }
   },
   "outputs": [
    {
     "name": "stdout",
     "output_type": "stream",
     "text": [
      "Model: \"sequential_1\"\n",
      "_________________________________________________________________\n",
      "Layer (type)                 Output Shape              Param #   \n",
      "=================================================================\n",
      "dense_3 (Dense)              (None, 10)                120       \n",
      "_________________________________________________________________\n",
      "dense_4 (Dense)              (None, 60)                660       \n",
      "_________________________________________________________________\n",
      "dense_5 (Dense)              (None, 3)                 183       \n",
      "=================================================================\n",
      "Total params: 963\n",
      "Trainable params: 963\n",
      "Non-trainable params: 0\n",
      "_________________________________________________________________\n"
     ]
    }
   ],
   "source": [
    "dimension = X_train.shape[1]\n",
    "from keras import backend as K\n",
    "def create_model():\n",
    "    model = Sequential()\n",
    "    model.add(Dense(10, input_dim = dimension,  activation='relu'))\n",
    "    model.add(Dense(60, input_dim = dimension,  activation='relu'))\n",
    "    model.add(Dense(3, activation='softmax'))\n",
    "    model.compile(loss='categorical_crossentropy', optimizer='adam', metrics=['accuracy'])\n",
    "    return model\n",
    "model = create_model()\n",
    "model.summary()"
   ]
  },
  {
   "cell_type": "code",
   "execution_count": 28,
   "metadata": {
    "execution": {
     "iopub.execute_input": "2021-08-13T04:58:10.973290Z",
     "iopub.status.busy": "2021-08-13T04:58:10.972817Z",
     "iopub.status.idle": "2021-08-13T04:58:28.730192Z",
     "shell.execute_reply": "2021-08-13T04:58:28.729059Z",
     "shell.execute_reply.started": "2021-08-13T04:58:10.973245Z"
    }
   },
   "outputs": [
    {
     "name": "stdout",
     "output_type": "stream",
     "text": [
      "Epoch 1/50\n",
      "1231/1231 [==============================] - 1s 630us/step - loss: 1.0566 - accuracy: 0.4982 - val_loss: 0.8646 - val_accuracy: 0.5666\n",
      "Epoch 2/50\n",
      "1231/1231 [==============================] - 1s 597us/step - loss: 0.8713 - accuracy: 0.5714 - val_loss: 0.8078 - val_accuracy: 0.6069\n",
      "Epoch 3/50\n",
      "1231/1231 [==============================] - 1s 578us/step - loss: 0.8170 - accuracy: 0.6055 - val_loss: 0.7507 - val_accuracy: 0.6417\n",
      "Epoch 4/50\n",
      "1231/1231 [==============================] - 1s 572us/step - loss: 0.7846 - accuracy: 0.6242 - val_loss: 0.7511 - val_accuracy: 0.6335\n",
      "Epoch 5/50\n",
      "1231/1231 [==============================] - 1s 669us/step - loss: 0.7593 - accuracy: 0.6429 - val_loss: 0.7388 - val_accuracy: 0.6433\n",
      "Epoch 6/50\n",
      "1231/1231 [==============================] - 1s 702us/step - loss: 0.7464 - accuracy: 0.6481 - val_loss: 0.7345 - val_accuracy: 0.6387\n",
      "Epoch 7/50\n",
      "1231/1231 [==============================] - 1s 600us/step - loss: 0.7318 - accuracy: 0.6620 - val_loss: 0.7055 - val_accuracy: 0.6745\n",
      "Epoch 8/50\n",
      "1231/1231 [==============================] - 1s 595us/step - loss: 0.7230 - accuracy: 0.6636 - val_loss: 0.7082 - val_accuracy: 0.6686\n",
      "Epoch 9/50\n",
      "1231/1231 [==============================] - 1s 630us/step - loss: 0.7154 - accuracy: 0.6752 - val_loss: 0.7123 - val_accuracy: 0.6566\n",
      "Epoch 10/50\n",
      "1231/1231 [==============================] - 1s 567us/step - loss: 0.7048 - accuracy: 0.6748 - val_loss: 0.6855 - val_accuracy: 0.6816\n",
      "Epoch 11/50\n",
      "1231/1231 [==============================] - 1s 580us/step - loss: 0.6935 - accuracy: 0.6831 - val_loss: 0.7430 - val_accuracy: 0.6738\n",
      "Epoch 12/50\n",
      "1231/1231 [==============================] - 1s 552us/step - loss: 0.6862 - accuracy: 0.6853 - val_loss: 0.6700 - val_accuracy: 0.7044\n",
      "Epoch 13/50\n",
      "1231/1231 [==============================] - 1s 597us/step - loss: 0.6695 - accuracy: 0.6918 - val_loss: 0.7070 - val_accuracy: 0.6605\n",
      "Epoch 14/50\n",
      "1231/1231 [==============================] - 1s 598us/step - loss: 0.6631 - accuracy: 0.6948 - val_loss: 0.7390 - val_accuracy: 0.6507\n",
      "Epoch 15/50\n",
      "1231/1231 [==============================] - 1s 587us/step - loss: 0.6581 - accuracy: 0.6982 - val_loss: 0.6471 - val_accuracy: 0.6930\n",
      "Epoch 16/50\n",
      "1231/1231 [==============================] - 1s 550us/step - loss: 0.6463 - accuracy: 0.7067 - val_loss: 0.6856 - val_accuracy: 0.6754\n",
      "Epoch 17/50\n",
      "1231/1231 [==============================] - 1s 540us/step - loss: 0.6388 - accuracy: 0.7073 - val_loss: 0.6485 - val_accuracy: 0.7005\n",
      "Epoch 18/50\n",
      "1231/1231 [==============================] - 1s 566us/step - loss: 0.6346 - accuracy: 0.7089 - val_loss: 0.6859 - val_accuracy: 0.6670\n",
      "Epoch 19/50\n",
      "1231/1231 [==============================] - 1s 576us/step - loss: 0.6298 - accuracy: 0.7127 - val_loss: 0.6350 - val_accuracy: 0.7167\n",
      "Epoch 20/50\n",
      "1231/1231 [==============================] - 1s 645us/step - loss: 0.6254 - accuracy: 0.7113 - val_loss: 0.6468 - val_accuracy: 0.6949\n",
      "Epoch 21/50\n",
      "1231/1231 [==============================] - 1s 621us/step - loss: 0.6168 - accuracy: 0.7175 - val_loss: 0.6536 - val_accuracy: 0.7079\n",
      "Epoch 22/50\n",
      "1231/1231 [==============================] - 1s 591us/step - loss: 0.6193 - accuracy: 0.7158 - val_loss: 0.6351 - val_accuracy: 0.7115\n",
      "Epoch 23/50\n",
      "1231/1231 [==============================] - 1s 534us/step - loss: 0.6185 - accuracy: 0.7156 - val_loss: 0.6308 - val_accuracy: 0.7199\n",
      "Epoch 24/50\n",
      "1231/1231 [==============================] - 1s 669us/step - loss: 0.6051 - accuracy: 0.7208 - val_loss: 0.6311 - val_accuracy: 0.6933\n",
      "Epoch 25/50\n",
      "1231/1231 [==============================] - 1s 608us/step - loss: 0.6042 - accuracy: 0.7227 - val_loss: 0.6090 - val_accuracy: 0.7128\n",
      "Epoch 26/50\n",
      "1231/1231 [==============================] - 1s 670us/step - loss: 0.6029 - accuracy: 0.7229 - val_loss: 0.6488 - val_accuracy: 0.6793\n",
      "Epoch 27/50\n",
      "1231/1231 [==============================] - 1s 570us/step - loss: 0.5943 - accuracy: 0.7221 - val_loss: 0.6250 - val_accuracy: 0.6927\n",
      "Epoch 28/50\n",
      "1231/1231 [==============================] - 1s 546us/step - loss: 0.5919 - accuracy: 0.7251 - val_loss: 0.5995 - val_accuracy: 0.7216\n",
      "Epoch 29/50\n",
      "1231/1231 [==============================] - 1s 586us/step - loss: 0.5947 - accuracy: 0.7285 - val_loss: 0.6031 - val_accuracy: 0.7180\n",
      "Epoch 30/50\n",
      "1231/1231 [==============================] - 1s 588us/step - loss: 0.5872 - accuracy: 0.7299 - val_loss: 0.5944 - val_accuracy: 0.7251\n",
      "Epoch 31/50\n",
      "1231/1231 [==============================] - 1s 589us/step - loss: 0.5908 - accuracy: 0.7286 - val_loss: 0.6464 - val_accuracy: 0.7031\n",
      "Epoch 32/50\n",
      "1231/1231 [==============================] - 1s 579us/step - loss: 0.5814 - accuracy: 0.7339 - val_loss: 0.5892 - val_accuracy: 0.7255\n",
      "Epoch 33/50\n",
      "1231/1231 [==============================] - 1s 568us/step - loss: 0.5814 - accuracy: 0.7334 - val_loss: 0.6057 - val_accuracy: 0.7073\n",
      "Epoch 34/50\n",
      "1231/1231 [==============================] - 1s 553us/step - loss: 0.5904 - accuracy: 0.7255 - val_loss: 0.5908 - val_accuracy: 0.7196\n",
      "Epoch 35/50\n",
      "1231/1231 [==============================] - 1s 553us/step - loss: 0.5763 - accuracy: 0.7346 - val_loss: 0.6351 - val_accuracy: 0.7138\n",
      "Epoch 36/50\n",
      "1231/1231 [==============================] - 1s 505us/step - loss: 0.5706 - accuracy: 0.7344 - val_loss: 0.5818 - val_accuracy: 0.7320\n",
      "Epoch 37/50\n",
      "1231/1231 [==============================] - 1s 580us/step - loss: 0.5731 - accuracy: 0.7332 - val_loss: 0.7116 - val_accuracy: 0.6693\n",
      "Epoch 38/50\n",
      "1231/1231 [==============================] - 1s 594us/step - loss: 0.5706 - accuracy: 0.7383 - val_loss: 0.5839 - val_accuracy: 0.7141\n",
      "Epoch 39/50\n",
      "1231/1231 [==============================] - 1s 546us/step - loss: 0.5677 - accuracy: 0.7412 - val_loss: 0.5649 - val_accuracy: 0.7258\n",
      "Epoch 40/50\n",
      "1231/1231 [==============================] - 1s 596us/step - loss: 0.5628 - accuracy: 0.7390 - val_loss: 0.5793 - val_accuracy: 0.7320\n",
      "Epoch 41/50\n",
      "1231/1231 [==============================] - 1s 598us/step - loss: 0.5600 - accuracy: 0.7412 - val_loss: 0.5932 - val_accuracy: 0.7320\n",
      "Epoch 42/50\n",
      "1231/1231 [==============================] - 1s 593us/step - loss: 0.5580 - accuracy: 0.7453 - val_loss: 0.5703 - val_accuracy: 0.7294\n",
      "Epoch 43/50\n",
      "1231/1231 [==============================] - 1s 549us/step - loss: 0.5552 - accuracy: 0.7444 - val_loss: 0.5690 - val_accuracy: 0.7339\n",
      "Epoch 44/50\n",
      "1231/1231 [==============================] - 1s 634us/step - loss: 0.5572 - accuracy: 0.7424 - val_loss: 0.5580 - val_accuracy: 0.7394\n",
      "Epoch 45/50\n",
      "1231/1231 [==============================] - 1s 573us/step - loss: 0.5572 - accuracy: 0.7403 - val_loss: 0.5987 - val_accuracy: 0.7173\n",
      "Epoch 46/50\n",
      "1231/1231 [==============================] - 1s 592us/step - loss: 0.5521 - accuracy: 0.7502 - val_loss: 0.6435 - val_accuracy: 0.7024\n",
      "Epoch 47/50\n",
      "1231/1231 [==============================] - 1s 603us/step - loss: 0.5546 - accuracy: 0.7445 - val_loss: 0.5872 - val_accuracy: 0.7326\n",
      "Epoch 48/50\n",
      "1231/1231 [==============================] - 1s 564us/step - loss: 0.5475 - accuracy: 0.7482 - val_loss: 0.5839 - val_accuracy: 0.7160\n",
      "Epoch 49/50\n",
      "1231/1231 [==============================] - 1s 546us/step - loss: 0.5434 - accuracy: 0.7515 - val_loss: 0.5667 - val_accuracy: 0.7320\n",
      "Epoch 50/50\n",
      "1231/1231 [==============================] - 1s 552us/step - loss: 0.5407 - accuracy: 0.7507 - val_loss: 0.5885 - val_accuracy: 0.7310\n"
     ]
    }
   ],
   "source": [
    "history=model.fit(X_train, y_train, validation_data=(X_test, y_test),epochs=50, batch_size=10)"
   ]
  },
  {
   "cell_type": "markdown",
   "metadata": {},
   "source": [
    "Sobre val_accuracy e accuracy:\n",
    "\n",
    "Quando ambos crescem na mesma proporção quer dizer que o modelo não causou nem overfitting nem underfitting. \n",
    "\n",
    "Se o accuracy cresce mais que o val_accuracy, quer dizer que temos overfitting. \n",
    "\n",
    "Se o accuracy cresce menos que o val_accuracy, quer dizer que temos underfitting. "
   ]
  },
  {
   "cell_type": "markdown",
   "metadata": {},
   "source": [
    "<h2>avaliação do resultado: </h2>"
   ]
  },
  {
   "cell_type": "code",
   "execution_count": 29,
   "metadata": {
    "execution": {
     "iopub.execute_input": "2021-08-13T04:58:28.735259Z",
     "iopub.status.busy": "2021-08-13T04:58:28.734833Z",
     "iopub.status.idle": "2021-08-13T04:58:28.882921Z",
     "shell.execute_reply": "2021-08-13T04:58:28.881561Z",
     "shell.execute_reply.started": "2021-08-13T04:58:28.735225Z"
    }
   },
   "outputs": [],
   "source": [
    "y_pred = model.predict(X_test)\n",
    "def max_probs(array):\n",
    "    parsed_pred = np.empty((0,3))\n",
    "    for idx, x in enumerate(array):\n",
    "        idx_max = x.argmax()\n",
    "        x = np.zeros((3,))\n",
    "        x[idx_max] = 1\n",
    "        array[idx] = x\n",
    "\n",
    "max_probs(y_pred)\n"
   ]
  },
  {
   "cell_type": "code",
   "execution_count": 30,
   "metadata": {},
   "outputs": [],
   "source": [
    "def to_category(array):\n",
    "    categories = []\n",
    "    for idx, x in enumerate(array):\n",
    "        idx_max = x.argmax()\n",
    "        x = 0\n",
    "        if idx_max == 0: x = 0\n",
    "        if idx_max == 1: x = 1\n",
    "        if idx_max == 2: x = 2\n",
    "        categories.append(x)\n",
    "    return categories\n",
    "\n",
    "\n",
    "categorical_y_pred = to_category(y_pred)\n",
    "categorical_y_test = to_category(y_test.to_numpy())\n",
    "data = confusion_matrix(categorical_y_test, categorical_y_pred)"
   ]
  },
  {
   "cell_type": "code",
   "execution_count": 31,
   "metadata": {},
   "outputs": [
    {
     "data": {
      "text/plain": [
       "3078"
      ]
     },
     "execution_count": 31,
     "metadata": {},
     "output_type": "execute_result"
    }
   ],
   "source": [
    "len(categorical_y_test)"
   ]
  },
  {
   "cell_type": "markdown",
   "metadata": {},
   "source": [
    "Matriz de confusão:"
   ]
  },
  {
   "cell_type": "code",
   "execution_count": 32,
   "metadata": {},
   "outputs": [
    {
     "data": {
      "text/plain": [
       "<AxesSubplot:xlabel='Predicted', ylabel='Actual'>"
      ]
     },
     "execution_count": 32,
     "metadata": {},
     "output_type": "execute_result"
    },
    {
     "data": {
      "image/png": "[encoded data removed]",
      "text/plain": [
       "<Figure size 720x504 with 2 Axes>"
      ]
     },
     "metadata": {},
     "output_type": "display_data"
    }
   ],
   "source": [
    "df_cm = pd.DataFrame(data, columns=np.unique(categorical_y_test), index = np.unique(categorical_y_test))\n",
    "df_cm.index.name = 'Actual'\n",
    "df_cm.columns.name = 'Predicted'\n",
    "plt.figure(figsize = (10,7))\n",
    "sb.set(font_scale=1.4)#for label size\n",
    "sb.heatmap(df_cm, cmap=\"Blues\", annot=True,annot_kws={\"size\": 16})# font size"
   ]
  },
  {
   "cell_type": "markdown",
   "metadata": {},
   "source": [
    "Verificação de acurácia geral"
   ]
  },
  {
   "cell_type": "code",
   "execution_count": 33,
   "metadata": {},
   "outputs": [],
   "source": [
    "correct = 0\n",
    "total = 0\n",
    "for i in range(len(categorical_y_test)):\n",
    "    if(categorical_y_test[i] == categorical_y_pred[i]):\n",
    "        correct += 1\n",
    "    total += 1\n",
    "accuracy = (correct/total)"
   ]
  },
  {
   "cell_type": "code",
   "execution_count": 34,
   "metadata": {},
   "outputs": [
    {
     "data": {
      "text/plain": [
       "0.7309941520467836"
      ]
     },
     "execution_count": 34,
     "metadata": {},
     "output_type": "execute_result"
    }
   ],
   "source": [
    "accuracy"
   ]
  }
 ],
 "metadata": {
  "kernelspec": {
   "display_name": "Python 3 (ipykernel)",
   "language": "python",
   "name": "python3"
  },
  "language_info": {
   "codemirror_mode": {
    "name": "ipython",
    "version": 3
   },
   "file_extension": ".py",
   "mimetype": "text/x-python",
   "name": "python",
   "nbconvert_exporter": "python",
   "pygments_lexer": "ipython3",
   "version": "3.8.11"
  }
 },
 "nbformat": 4,
 "nbformat_minor": 4
}
