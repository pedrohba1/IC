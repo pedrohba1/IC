{
 "cells": [
  {
   "cell_type": "markdown",
   "id": "a380f090",
   "metadata": {},
   "source": [
    "<h1>\n",
    "Problema das Rainhas\n",
    "</h1>"
   ]
  },
  {
   "cell_type": "markdown",
   "id": "2880004f",
   "metadata": {},
   "source": [
    "Em um tabuleiro 𝑛×𝑛, uma rainha é colocada em um quadrado, irá dominar todos os quadrados que estiverem na mesma linha, coluna e diagonais. A ideia por trás deste probelma é achar a quantidade mínima de rainhas necessárias para dominar o tabuleiro inteiro. Dominar, neste problema, significa cobrir todos os quadrados possíveis sendo atacados por rainhas incluindo aqueles onde as rainhas se encontram."
   ]
  },
  {
   "cell_type": "markdown",
   "id": "9fe34558",
   "metadata": {},
   "source": [
    "Primeiro, vamos começar definindo o tabuleiro como é feito no artigo. Vamos começar por um tabuleiro 4x4, igual começa no artigo:"
   ]
  },
  {
   "cell_type": "code",
   "execution_count": 1,
   "id": "025faae6",
   "metadata": {},
   "outputs": [
    {
     "name": "stdout",
     "output_type": "stream",
     "text": [
      "[[ 1  2  3  4  5  6  7  8]\n",
      " [ 9 10 11 12 13 14 15 16]\n",
      " [17 18 19 20 21 22 23 24]\n",
      " [25 26 27 28 29 30 31 32]\n",
      " [33 34 35 36 37 38 39 40]\n",
      " [41 42 43 44 45 46 47 48]\n",
      " [49 50 51 52 53 54 55 56]\n",
      " [57 58 59 60 61 62 63 64]]\n"
     ]
    }
   ],
   "source": [
    "import numpy as np\n",
    "CHESSBOARD_DIMENSION = 8\n",
    "N = CHESSBOARD_DIMENSION\n",
    "chessBoardDemo = np.array([x+1 for x in range(N*N)])\n",
    "\n",
    "chessBoardDemo = chessBoardDemo.reshape(N,N)\n",
    "print(chessBoardDemo)"
   ]
  },
  {
   "cell_type": "markdown",
   "id": "0981cc8a",
   "metadata": {},
   "source": [
    "Agora, criar a função para verificar quadrados do tabuleiro que estão sendo dominados por todas as rainhas e retornar os números que estão sendo dominados:"
   ]
  },
  {
   "cell_type": "code",
   "execution_count": 2,
   "id": "3d1ff4ff",
   "metadata": {},
   "outputs": [],
   "source": [
    "def dominatedSet(queens, chessBoard, verbose=False):\n",
    "    S = set()\n",
    "\n",
    "    N = chessBoard.shape[0]\n",
    "\n",
    "    if verbose:\n",
    "        print('tabuleiro que chega no dominatedSet')\n",
    "        print(chessBoard)\n",
    "    \n",
    "    for queen in queens:\n",
    "        queenBox = queen\n",
    "        queenPosition = np.where(chessBoard == queenBox)\n",
    "        i = queenPosition[0][0]\n",
    "        j = queenPosition[1][0]\n",
    "        if verbose: \n",
    "            print(\"posição matricial: (\", i,j, \")\" , 'valor: ', queenBox)\n",
    "\n",
    "        if(verbose):\n",
    "            # quadrados dominados na horizontal:\n",
    "            print(chessBoard[i,:])\n",
    "            # quadrados dominados na vertical:\n",
    "            print(chessBoard[:,j])\n",
    "       \n",
    "        S.update(chessBoard[i,:])\n",
    "        S.update(chessBoard[:,j])\n",
    "        for d in range(-N+1,N):\n",
    "             # diagonal\n",
    "            diag = chessBoard.diagonal(d)\n",
    "            # diagonal invertida\n",
    "            invertDiag = np.fliplr(chessBoard).diagonal(d)\n",
    "            if queenBox in diag:\n",
    "                if verbose:\n",
    "                    print(diag)\n",
    "                S.update(diag)\n",
    "            if queenBox in invertDiag:\n",
    "                if verbose:\n",
    "                    print(invertDiag)\n",
    "                S.update(invertDiag)\n",
    "    return S\n",
    "        "
   ]
  },
  {
   "cell_type": "markdown",
   "id": "e80ca669",
   "metadata": {},
   "source": [
    "O código abaixo vai então gerar a área de dominância para uma única rainha na posição (3,3) do tabuleiro, ou também podemos dizer, no valor 28 da matriz. \n",
    "\n",
    "<b>Para ficar mais claro, o número do quadrado em que a rainha se encontra nós vamos chamar de posição numérica. Então o quadrado 28, em que essa rainha se encontra, é sua posição numérica. A dupla (3,3) e todas as outras nós vamos chamar de posição matricial </b>"
   ]
  },
  {
   "cell_type": "code",
   "execution_count": 3,
   "id": "a0108537",
   "metadata": {},
   "outputs": [
    {
     "name": "stdout",
     "output_type": "stream",
     "text": [
      "{1, 4, 7, 10, 12, 14, 19, 20, 21, 25, 26, 27, 28, 29, 30, 31, 32, 35, 36, 37, 42, 44, 46, 49, 52, 55, 60, 64}\n"
     ]
    }
   ],
   "source": [
    "S = dominatedSet([28], chessBoardDemo, verbose=False)\n",
    "print(S)"
   ]
  },
  {
   "cell_type": "markdown",
   "id": "47685be5",
   "metadata": {},
   "source": [
    "A função que mede o quão próximo estamos de uma boa solução no artigo é dada por:\n",
    "\n",
    "$ f(x) = {|S| \\div |G|}  $\n",
    "\n",
    "Nesta função, se o resultado for menor que 1, temos que existem alguns ou pelo menos 1 quadrado que não está numa área de dominância das rainhas. Se for 1, significa que as rainhas dominaram todos os quadrados do tabuleiro. \n",
    "\n",
    "No código, calcularemos essa função assim:"
   ]
  },
  {
   "cell_type": "code",
   "execution_count": 4,
   "id": "0eec9d7d",
   "metadata": {},
   "outputs": [
    {
     "data": {
      "text/plain": [
       "0.4375"
      ]
     },
     "execution_count": 4,
     "metadata": {},
     "output_type": "execute_result"
    }
   ],
   "source": [
    "len(S)/ (N*N) "
   ]
  },
  {
   "cell_type": "markdown",
   "id": "6950cecd",
   "metadata": {},
   "source": [
    "<h2>Codificação dos indivíduos </h2>\n",
    "\n",
    "O conjunto de indivíduos será representado por uma matriz onde cada linha é um solução candidata e as colunas são posições das rainhas no tabuleiro para aquela solução. As posições das rainhas serão dadas pelos valores das posições numéricas definidas como um binário de 8 dígitos.\n",
    "Seria Assim:\n"
   ]
  },
  {
   "cell_type": "code",
   "execution_count": 5,
   "id": "02136aa1",
   "metadata": {},
   "outputs": [
    {
     "data": {
      "text/plain": [
       "matrix([['00010111', '00101011'],\n",
       "        ['00001100', '00001010']], dtype='<U8')"
      ]
     },
     "execution_count": 5,
     "metadata": {},
     "output_type": "execute_result"
    }
   ],
   "source": [
    "rainha1 = format(23,'08b')\n",
    "rainha2 = format(43,'08b')\n",
    "rainha3 = format(12,'08b')\n",
    "rainha4 = format(10,'08b')\n",
    "\n",
    "np.matrix([[rainha1, rainha2], [rainha3, rainha4]])"
   ]
  },
  {
   "cell_type": "markdown",
   "id": "964e9b55",
   "metadata": {},
   "source": [
    "No caso, a primeira solução candidata tem as rainhas nas posições numéricas 23 e 43, e segunda solução candidata tem rainhas nas posições 12 e 10"
   ]
  },
  {
   "cell_type": "markdown",
   "id": "f8deee9a",
   "metadata": {},
   "source": [
    "<h2>Geração inicial de indivíduos </h2>\n",
    "\n",
    "A primeira geração consiste de 100 indivíduos (soluções candidatas) geradas aleatoriamente, mantendo a certeza de que em cada possível solução as rainhas estão em posições diferentes. Vamos fazer uma função que faz isso. A função vai receber como parâmetro o número de rainhas que queremos para as soluções possíveis e a dimensão do tabuleiro."
   ]
  },
  {
   "cell_type": "code",
   "execution_count": 6,
   "id": "ec26a15d",
   "metadata": {},
   "outputs": [],
   "source": [
    "from random import seed\n",
    "from random import randint\n",
    "\n",
    "seed(3)\n",
    "\n",
    "value = randint(0, N*N)\n",
    "value\n",
    "\n",
    "def gen_individuals(N_queens, N, N_individuals, verbose=True): \n",
    "    print('')\n",
    "    A = np.empty((1,N_queens), dtype='str')\n",
    "    for i in range (0,N_individuals):\n",
    "        newRow = []\n",
    "        for j in range (0,N_queens):\n",
    "            randVal = randint(1,N*N)\n",
    "            randInBin = format(randVal,'08b')\n",
    "            while randInBin in newRow: \n",
    "                randVal = randint(1,N*N)\n",
    "                randInBin = format(randVal,'08b')\n",
    "            newRow.append(randInBin)\n",
    "        A = np.vstack([A, newRow])\n",
    "    # apaga a primeira linha que é gerada na inicialização da matriz\n",
    "    A = np.delete(A,0, 0)\n",
    "    return A\n",
    "\n"
   ]
  },
  {
   "cell_type": "markdown",
   "id": "814d5e78",
   "metadata": {},
   "source": [
    "Vendo abaixo uma amostra de dois indivíduos. Cada linha é uma solução possível e essas soluções possuem duas rainhas. A função também permite que a gente decida quantos indivíduos queremos gerar para a matriz A (número de linhas) assim como quantas rainhas pode ter cada indivíduo (número de colunas)"
   ]
  },
  {
   "cell_type": "code",
   "execution_count": 7,
   "id": "1fd3b696",
   "metadata": {},
   "outputs": [
    {
     "name": "stdout",
     "output_type": "stream",
     "text": [
      "\n",
      "['00010001' '00110000']\n",
      "['00011111' '00000011']\n"
     ]
    }
   ],
   "source": [
    "A = gen_individuals(2,N,100)\n",
    "print(A[0])\n",
    "print(A[99])"
   ]
  },
  {
   "cell_type": "markdown",
   "id": "a6e31cba",
   "metadata": {},
   "source": [
    "Já vou deixar pronta uma função que retorna o fitness de cada indivíduo:"
   ]
  },
  {
   "cell_type": "code",
   "execution_count": 8,
   "id": "7af05eaa",
   "metadata": {},
   "outputs": [],
   "source": [
    "def darwinize_individual(ind, chessBoard):\n",
    "    indInInteger = []\n",
    "    N = chessBoard.shape[0]\n",
    "    for queen in ind:\n",
    "        inIntQueen = int(queen,2)\n",
    "        indInInteger.append(inIntQueen)\n",
    "    S = dominatedSet(indInInteger, chessBoard, verbose=False)\n",
    "    ## o jeito de calcular o fitness como foi dito anteriormente\n",
    "    return len(S)/ (N*N) \n",
    "    \n",
    "\n",
    "darwinize_individual(A[0], chessBoardDemo)\n",
    "\n",
    "# uma coisa que dá pra ver é que os individuos passam todos da metade de dominância do tabuleiro, pelo menos com duas rainhas\n",
    "for individual in A:\n",
    "    fit = darwinize_individual(individual, chessBoardDemo)\n",
    "    if fit < 0.5:\n",
    "        print(individual)\n"
   ]
  },
  {
   "cell_type": "markdown",
   "id": "2028097c",
   "metadata": {},
   "source": [
    "Vou deixar aqui também uma função que gera os fitness values da população inteira como forma de diminuir repetição de código"
   ]
  },
  {
   "cell_type": "code",
   "execution_count": 9,
   "id": "5e0f4d28",
   "metadata": {},
   "outputs": [],
   "source": [
    "def getFitness(population, chessBoard, verbose=False):\n",
    "    fitness_values = np.empty((1), dtype='int64')\n",
    "    for indi in population:\n",
    "        if verbose: print('individo no getFitness', indi)\n",
    "        fit = darwinize_individual(indi, chessBoard)\n",
    "        fitness_values = np.vstack([fitness_values, fit])\n",
    "    fitness_values = np.delete(fitness_values,0, 0)\n",
    "    return fitness_values"
   ]
  },
  {
   "cell_type": "markdown",
   "id": "dfa7adc7",
   "metadata": {},
   "source": [
    "A função abaixo devolve os 50% mais adaptados, ou seja, os 50% que tiveram maior fitness."
   ]
  },
  {
   "cell_type": "code",
   "execution_count": 10,
   "id": "a2038219",
   "metadata": {},
   "outputs": [],
   "source": [
    "def moreAdapted(population, chessBoard):\n",
    "    n_queens = population.shape[1]\n",
    "    fitness_values = getFitness(population, chessBoard)\n",
    "\n",
    "    # Selecionará os 50% individuos com maior fitness_values\n",
    "    n_ind = len(population)\n",
    "    individuals = np.empty((1,n_queens), dtype='str')\n",
    "    fit = np.empty((1), dtype='str')\n",
    "\n",
    "    for i in range(n_ind):\n",
    "        max_fitness_idx = np.argmax(fitness_values)\n",
    "        fit = np.vstack([fit,fitness_values[max_fitness_idx]])\n",
    "        individuals = np.vstack([individuals, population[max_fitness_idx]])\n",
    "        fitness_values[max_fitness_idx] = -99999999999\n",
    "    individuals = np.delete(individuals,0, 0)\n",
    "    fit = np.delete(fit,0,0)\n",
    "    individuals = individuals[0:int(n_ind/2)]\n",
    "    fit = fit[0:int(n_ind/2)]\n",
    "    return individuals"
   ]
  },
  {
   "cell_type": "markdown",
   "id": "08582dd3",
   "metadata": {},
   "source": [
    "Função da Roullete wheel para selecionar 2 indivíduos para crossover:"
   ]
  },
  {
   "cell_type": "code",
   "execution_count": 11,
   "id": "fc8c192f",
   "metadata": {},
   "outputs": [],
   "source": [
    "def roulette_wheel(population, chessBoard):\n",
    "    fitness_values = getFitness(population, chessBoard)\n",
    "\n",
    "    y = fitness_values.astype(np.float)\n",
    "    Soma = np.sum(y)\n",
    "    Prob_escolhido = np.empty((1), dtype='float')\n",
    "  \n",
    "    for i in y:   \n",
    "        Prob_escolhido = np.vstack([Prob_escolhido, i/Soma])\n",
    "    Prob_escolhido = np.delete(Prob_escolhido,0,0) \n",
    "    Prob_escolhido = np.transpose(Prob_escolhido) \n",
    "    indices = np.random.choice(len(population),size= 2 ,p=Prob_escolhido.flatten())\n",
    "    ind = population[indices]\n",
    "    return ind"
   ]
  },
  {
   "cell_type": "code",
   "execution_count": 12,
   "id": "b5207f70",
   "metadata": {},
   "outputs": [],
   "source": [
    "B = moreAdapted(A, chessBoardDemo)"
   ]
  },
  {
   "cell_type": "markdown",
   "id": "e6314100",
   "metadata": {},
   "source": [
    "O crossover e a mutação não podem gerar valores que estão fora da dimensão. para isso o artigo descreve um método que consiste em mudar os valores dos dígitos 0 e 1 para que o valor encaixe no tamanho do tabuleiro. A ideia que pensamos é diferente: nós vamos \"ciclar\" o valor usando o operador de módulo e nisso vai cair num valor aceito.\n",
    "\n",
    "Eis a função para a validação do crossover e da mutação:"
   ]
  },
  {
   "cell_type": "code",
   "execution_count": 13,
   "id": "5facaf6f",
   "metadata": {},
   "outputs": [],
   "source": [
    "def validate_dna(dna, verbose=False):\n",
    "    # N é variaǘel global, tome cuidado\n",
    "    if verbose: \n",
    "        print('valida o dna')\n",
    "        print('dimensão', N)\n",
    "    dnaInInt = int(dna,2)\n",
    "    \n",
    "    if verbose: print('valor anterior: ', dnaInInt)\n",
    "    if dnaInInt > N*N:\n",
    "        dnaInInt = dnaInInt % (N*N)\n",
    "        if dnaInInt == 0: dnaInInt +=1\n",
    "        dna = format(dnaInInt,'08b')\n",
    "        if verbose: print('valor após validação: ', dnaInInt)\n",
    "        return dna\n",
    "    elif dnaInInt == 0: \n",
    "        dnaInInt += 1\n",
    "        dna = format(dnaInInt,'08b')\n",
    "        return dna\n",
    "    else: return dna    \n",
    "\n",
    "\n"
   ]
  },
  {
   "cell_type": "markdown",
   "id": "cecbb27a",
   "metadata": {},
   "source": [
    "Função para fazer o crossover:"
   ]
  },
  {
   "cell_type": "code",
   "execution_count": 14,
   "id": "d9251392",
   "metadata": {},
   "outputs": [],
   "source": [
    "def crossover(parents, verbose=False):\n",
    "    DNA_SIZE = 8\n",
    "    individual1 = parents[0]\n",
    "    individual2 =  parents[1]\n",
    "    n_queens = individual1.shape[0]\n",
    "    crossedIndividuals = np.empty((1,n_queens), dtype='str')\n",
    "    if verbose: print('pais', parents)\n",
    "    DNA1 = []\n",
    "    DNA2 = []\n",
    "    for i in range(0, n_queens):\n",
    "        pos = randint(1, DNA_SIZE-1)\n",
    "        if verbose: print('posição de troca: ', pos)\n",
    "        dna1=individual1[i]\n",
    "        dna2=individual2[i]\n",
    "        generated1, generated2 = (dna1[:pos]+dna2[pos:], dna2[:pos]+dna1[pos:])\n",
    "        generated1 = validate_dna(generated1)\n",
    "        DNA1.append(generated1)\n",
    "        generated2 = validate_dna(generated2)\n",
    "        DNA2.append(generated2)\n",
    "    crossedIndividuals = np.vstack([crossedIndividuals, [DNA1, DNA2]])\n",
    "    crossedIndividuals = np.delete(crossedIndividuals,0, 0)\n",
    "    return crossedIndividuals"
   ]
  },
  {
   "cell_type": "markdown",
   "id": "415e9f6e",
   "metadata": {},
   "source": [
    "Abaixo um exemplo do funcionamento da função de crossover. O ponto de crossover é diferente para cada cruzamento de rainhas."
   ]
  },
  {
   "cell_type": "code",
   "execution_count": 15,
   "id": "42442720",
   "metadata": {},
   "outputs": [
    {
     "name": "stdout",
     "output_type": "stream",
     "text": [
      "pais [['00100011' '00011111']\n",
      " ['00110101' '00100110']]\n",
      "posição de troca:  5\n",
      "posição de troca:  5\n",
      "filhos: [['00100101' '00011110']\n",
      " ['00110011' '00100111']]\n"
     ]
    }
   ],
   "source": [
    "parents = roulette_wheel(B, chessBoardDemo)\n",
    "children = crossover(parents, verbose=True)\n",
    "print('filhos:' ,children)"
   ]
  },
  {
   "cell_type": "markdown",
   "id": "42b13c4d",
   "metadata": {},
   "source": [
    "Função de mutação:"
   ]
  },
  {
   "cell_type": "code",
   "execution_count": 16,
   "id": "ebf349a2",
   "metadata": {},
   "outputs": [],
   "source": [
    "def mutate(individual, verbose=False, debug=False):\n",
    "    DNA_SIZE = 8\n",
    "    top = 100\n",
    "    if debug: top = 1\n",
    "    if(randint(1,top) <= 5):\n",
    "        mutatedIndividual =[]\n",
    "        for DNA in individual:\n",
    "                if verbose: print('antes da mutação', DNA)\n",
    "                DNA = list(DNA)\n",
    "                # pode acontecer de mudar a mesma posição duas vezes. Acho que não tem problema\n",
    "                pos1 = randint(0, DNA_SIZE-1)\n",
    "                pos2 =  randint(0, DNA_SIZE-1)\n",
    "                if verbose: print('mudou as posições:', pos1, pos2)\n",
    "                if DNA[pos1] == \"1\": DNA[pos1] = \"0\"\n",
    "                elif DNA[pos1] == \"0\": DNA[pos1] = \"1\"\n",
    "                if DNA[pos2] == \"1\": DNA[pos2] = \"0\"\n",
    "                elif DNA[pos2] == \"0\": DNA[pos2] = \"1\" \n",
    "                DNAinString = \"\".join(DNA)\n",
    "                DNA = validate_dna(DNAinString)\n",
    "                mutatedIndividual.append(DNA)\n",
    "        if verbose: print('após a mutação', mutatedIndividual)\n",
    "        return mutatedIndividual \n",
    "    else:\n",
    "        return individual            \n"
   ]
  },
  {
   "cell_type": "code",
   "execution_count": 17,
   "id": "16ef30b0",
   "metadata": {},
   "outputs": [
    {
     "data": {
      "text/plain": [
       "'00100101'"
      ]
     },
     "execution_count": 17,
     "metadata": {},
     "output_type": "execute_result"
    }
   ],
   "source": [
    "mutated = mutate(children[0],verbose=True)\n",
    "validate_dna(mutated[0])"
   ]
  },
  {
   "cell_type": "markdown",
   "id": "56fb881b",
   "metadata": {},
   "source": [
    "Agora, já temos a função que gera a população inicial, A função que gera os primeiros 100 indivíduos, a função que filtra os mais adaptados, a função de roleta, de crossover e de mutação.\n",
    "Pelo que está descrito no artigo, o processo consiste em gerar os primeiros 100 indivíduos, em seguida filtrar os melhores 50%, \n",
    "depois escolher os indivíduos para crossover por meio da roleta, depois cruzar esses indivíduos, realizar a mutação e repetir esse processo mil vezes. \n",
    "\n",
    "Além disso, devem ser feitas alterações nos indivíduos caso eles ultrapassem as dimensões do tabuleiro após croosover e mutação."
   ]
  },
  {
   "cell_type": "code",
   "execution_count": 18,
   "id": "674f6a23",
   "metadata": {},
   "outputs": [],
   "source": [
    "def do_iterations(n_iters, n_queens, chessBoard_dimension):\n",
    "    # constrói o tabuleiro\n",
    "    N = chessBoard_dimension\n",
    "    chessBoard = np.array([x+1 for x in range(N*N)])\n",
    "    chessBoard = chessBoard.reshape(N,N)\n",
    "\n",
    "    # gera os primeiros 100 indivíduos:\n",
    "    A = gen_individuals(n_queens,N,100)\n",
    "    i = 1\n",
    "    while i <= n_iters:\n",
    "        # já filtra o top 50%\n",
    "        A = moreAdapted(A, chessBoard)  \n",
    "        \n",
    "        # vamos gerar mais 50 indivíduos à partir de 25 pares selecionados de pares com a roleta, e esses pares vão \n",
    "        # gerar dois indivíduos cada um. No final temos 100 indivídus.\n",
    "        parentsSelected = []\n",
    "        for j in range (0,25):\n",
    "            parents = roulette_wheel(A, chessBoard)\n",
    "            parentsSelected.append(parents)\n",
    "        \n",
    "        # agora fazemos os pais cruzarem. Cada pai vai gerar um par de filhos.\n",
    "        childrenCreated = []\n",
    "        for parents in parentsSelected:\n",
    "            children = crossover(parents)\n",
    "            childrenCreated.append(children)\n",
    "\n",
    "        # aplica a mutação nos filhos, com base na chance de 5% definida na função\n",
    "        for idx, children in enumerate(childrenCreated):\n",
    "            childrenCreated[idx][0] = mutate(children[0])\n",
    "            childrenCreated[idx][1] = mutate(children[1])\n",
    "\n",
    "        # separar os pares e alocá-los numa matriz:\n",
    "        AllIndividuals = np.empty((1,n_queens), dtype='str')\n",
    "        for k in range(0, len(childrenCreated)):\n",
    "            AllIndividuals = np.vstack(([ AllIndividuals, childrenCreated[k][0]]))\n",
    "            AllIndividuals = np.vstack(([ AllIndividuals, childrenCreated[k][1]]))\n",
    "            AllIndividuals = np.vstack(([ AllIndividuals, parentsSelected[k][0]]))\n",
    "            AllIndividuals = np.vstack(([ AllIndividuals, parentsSelected[k][1]]))\n",
    "        AllIndividuals = np.delete(AllIndividuals,0, 0)\n",
    "\n",
    "\n",
    "        fitness_values = getFitness(AllIndividuals, chessBoard)\n",
    "        A = AllIndividuals\n",
    "        \n",
    "        print('melhor indivíduo da iteração', i,' :' , fitness_values[np.argmax(fitness_values)])\n",
    "        print('posição das rainhas do melhor individuo',A[np.argmax(fitness_values)])\n",
    "        i += 1\n",
    "    return 1\n"
   ]
  },
  {
   "cell_type": "code",
   "execution_count": 19,
   "id": "08ce5b7c",
   "metadata": {},
   "outputs": [
    {
     "name": "stdout",
     "output_type": "stream",
     "text": [
      "\n",
      "melhor indivíduo da iteração 1  : [0.95061728]\n",
      "posição das rainhas do melhor individuo ['00111101' '00010011' '01000111' '00110010' '00000110']\n",
      "melhor indivíduo da iteração 2  : [0.92592593]\n",
      "posição das rainhas do melhor individuo ['01000001' '00001100' '00011011' '00100010' '01001101']\n",
      "melhor indivíduo da iteração 3  : [0.9382716]\n",
      "posição das rainhas do melhor individuo ['00000111' '00010010' '00100110' '00111110' '00110001']\n",
      "melhor indivíduo da iteração 4  : [0.95061728]\n",
      "posição das rainhas do melhor individuo ['00110101' '00011110' '00000001' '01001011' '00100000']\n",
      "melhor indivíduo da iteração 5  : [0.9382716]\n",
      "posição das rainhas do melhor individuo ['00000111' '00010010' '00100110' '00111110' '00110001']\n",
      "melhor indivíduo da iteração 6  : [0.9382716]\n",
      "posição das rainhas do melhor individuo ['00000111' '00010010' '00100110' '00111110' '00110001']\n",
      "melhor indivíduo da iteração 7  : [0.95061728]\n",
      "posição das rainhas do melhor individuo ['00110101' '00011111' '00001010' '01001001' '00100000']\n",
      "melhor indivíduo da iteração 8  : [0.96296296]\n",
      "posição das rainhas do melhor individuo ['00110101' '00011100' '00011001' '00111100' '00001100']\n",
      "melhor indivíduo da iteração 9  : [0.96296296]\n",
      "posição das rainhas do melhor individuo ['00110101' '00011100' '00011001' '00111100' '00001100']\n",
      "melhor indivíduo da iteração 10  : [0.97530864]\n",
      "posição das rainhas do melhor individuo ['00000001' '00001100' '00101011' '01001100' '00110001']\n",
      "melhor indivíduo da iteração 11  : [0.97530864]\n",
      "posição das rainhas do melhor individuo ['00000001' '00001100' '00101011' '01001100' '00110001']\n",
      "melhor indivíduo da iteração 12  : [0.97530864]\n",
      "posição das rainhas do melhor individuo ['00000001' '00001100' '00101011' '01001100' '00110001']\n",
      "melhor indivíduo da iteração 13  : [0.97530864]\n",
      "posição das rainhas do melhor individuo ['00000001' '00001100' '00101011' '01001100' '00110001']\n",
      "melhor indivíduo da iteração 14  : [0.97530864]\n",
      "posição das rainhas do melhor individuo ['00000001' '00001100' '00101011' '01001100' '00110001']\n",
      "melhor indivíduo da iteração 15  : [0.97530864]\n",
      "posição das rainhas do melhor individuo ['00000001' '00001100' '00101011' '01001100' '00110001']\n",
      "melhor indivíduo da iteração 16  : [0.97530864]\n",
      "posição das rainhas do melhor individuo ['00000001' '00001100' '00101011' '01001100' '00110001']\n",
      "melhor indivíduo da iteração 17  : [0.97530864]\n",
      "posição das rainhas do melhor individuo ['00000001' '00001100' '00101011' '01001100' '00110001']\n",
      "melhor indivíduo da iteração 18  : [0.97530864]\n",
      "posição das rainhas do melhor individuo ['00000001' '00001100' '00101011' '01001100' '00110001']\n",
      "melhor indivíduo da iteração 19  : [0.97530864]\n",
      "posição das rainhas do melhor individuo ['00000001' '00001100' '00101011' '01001100' '00110001']\n",
      "melhor indivíduo da iteração 20  : [0.97530864]\n",
      "posição das rainhas do melhor individuo ['00000001' '00001100' '00101011' '01001100' '00110001']\n",
      "melhor indivíduo da iteração 21  : [0.97530864]\n",
      "posição das rainhas do melhor individuo ['00000001' '00001100' '00101011' '01001100' '00110001']\n",
      "melhor indivíduo da iteração 22  : [0.97530864]\n",
      "posição das rainhas do melhor individuo ['00000001' '00001100' '00101011' '01001100' '00110001']\n",
      "melhor indivíduo da iteração 23  : [0.97530864]\n",
      "posição das rainhas do melhor individuo ['00000001' '00001100' '00101011' '01001100' '00110001']\n",
      "melhor indivíduo da iteração 24  : [0.97530864]\n",
      "posição das rainhas do melhor individuo ['00000001' '00001100' '00101011' '01001100' '00110001']\n",
      "melhor indivíduo da iteração 25  : [0.97530864]\n",
      "posição das rainhas do melhor individuo ['00000001' '00001100' '00101011' '01001100' '00110001']\n",
      "melhor indivíduo da iteração 26  : [0.97530864]\n",
      "posição das rainhas do melhor individuo ['00000001' '00001100' '00101011' '01001100' '00110001']\n",
      "melhor indivíduo da iteração 27  : [0.97530864]\n",
      "posição das rainhas do melhor individuo ['00000001' '00001100' '00101011' '01001100' '00110001']\n",
      "melhor indivíduo da iteração 28  : [0.97530864]\n",
      "posição das rainhas do melhor individuo ['00000001' '00001100' '00101011' '01001100' '00110001']\n",
      "melhor indivíduo da iteração 29  : [0.97530864]\n",
      "posição das rainhas do melhor individuo ['00000001' '00001100' '00101011' '01001100' '00110001']\n",
      "melhor indivíduo da iteração 30  : [0.97530864]\n",
      "posição das rainhas do melhor individuo ['00000001' '00001100' '00101011' '01001100' '00110001']\n",
      "melhor indivíduo da iteração 31  : [0.97530864]\n",
      "posição das rainhas do melhor individuo ['00000001' '00001100' '00101011' '01001100' '00110001']\n",
      "melhor indivíduo da iteração 32  : [0.97530864]\n",
      "posição das rainhas do melhor individuo ['00000001' '00001100' '00101011' '01001100' '00110001']\n",
      "melhor indivíduo da iteração 33  : [0.97530864]\n",
      "posição das rainhas do melhor individuo ['00000001' '00001100' '00101011' '01001100' '00110001']\n",
      "melhor indivíduo da iteração 34  : [0.97530864]\n",
      "posição das rainhas do melhor individuo ['00000001' '00001100' '00101011' '01001100' '00110001']\n",
      "melhor indivíduo da iteração 35  : [0.97530864]\n",
      "posição das rainhas do melhor individuo ['00000001' '00001100' '00101011' '01001100' '00110001']\n",
      "melhor indivíduo da iteração 36  : [0.97530864]\n",
      "posição das rainhas do melhor individuo ['00000001' '00001100' '00101011' '01001100' '00110001']\n",
      "melhor indivíduo da iteração 37  : [0.97530864]\n",
      "posição das rainhas do melhor individuo ['00000001' '00001100' '00101011' '01001100' '00110001']\n",
      "melhor indivíduo da iteração 38  : [0.97530864]\n",
      "posição das rainhas do melhor individuo ['00000001' '00001100' '00101011' '01001100' '00110001']\n",
      "melhor indivíduo da iteração 39  : [0.97530864]\n",
      "posição das rainhas do melhor individuo ['00000001' '00001100' '00101011' '01001100' '00110001']\n",
      "melhor indivíduo da iteração 40  : [0.97530864]\n",
      "posição das rainhas do melhor individuo ['00000001' '00001100' '00101011' '01001100' '00110001']\n",
      "melhor indivíduo da iteração 41  : [0.97530864]\n",
      "posição das rainhas do melhor individuo ['00000001' '00001100' '00101011' '01001100' '00110001']\n",
      "melhor indivíduo da iteração 42  : [0.97530864]\n",
      "posição das rainhas do melhor individuo ['00000001' '00001100' '00101011' '01001100' '00110001']\n",
      "melhor indivíduo da iteração 43  : [0.97530864]\n",
      "posição das rainhas do melhor individuo ['00000001' '00001100' '00101011' '01001100' '00110001']\n",
      "melhor indivíduo da iteração 44  : [0.97530864]\n",
      "posição das rainhas do melhor individuo ['00000001' '00001100' '00101011' '01001100' '00110001']\n",
      "melhor indivíduo da iteração 45  : [0.97530864]\n",
      "posição das rainhas do melhor individuo ['00000001' '00001100' '00101011' '01001100' '00110001']\n",
      "melhor indivíduo da iteração 46  : [0.97530864]\n",
      "posição das rainhas do melhor individuo ['00000001' '00001100' '00101011' '01001100' '00110001']\n",
      "melhor indivíduo da iteração 47  : [0.97530864]\n",
      "posição das rainhas do melhor individuo ['00000001' '00001100' '00101011' '01001100' '00110001']\n",
      "melhor indivíduo da iteração 48  : [0.97530864]\n",
      "posição das rainhas do melhor individuo ['00000001' '00001100' '00101011' '01001100' '00110001']\n",
      "melhor indivíduo da iteração 49  : [0.97530864]\n",
      "posição das rainhas do melhor individuo ['00000001' '00001100' '00101011' '01001100' '00110001']\n",
      "melhor indivíduo da iteração 50  : [0.97530864]\n",
      "posição das rainhas do melhor individuo ['00000001' '00001100' '00101011' '01001100' '00110001']\n",
      "melhor indivíduo da iteração 51  : [0.97530864]\n",
      "posição das rainhas do melhor individuo ['00000001' '00001100' '00101011' '01001100' '00110001']\n",
      "melhor indivíduo da iteração 52  : [0.97530864]\n",
      "posição das rainhas do melhor individuo ['00000001' '00001100' '00101011' '01001100' '00110001']\n",
      "melhor indivíduo da iteração 53  : [0.97530864]\n",
      "posição das rainhas do melhor individuo ['00000001' '00001100' '00101011' '01001100' '00110001']\n",
      "melhor indivíduo da iteração 54  : [0.97530864]\n",
      "posição das rainhas do melhor individuo ['00000001' '00001100' '00101011' '01001100' '00110001']\n",
      "melhor indivíduo da iteração 55  : [0.97530864]\n",
      "posição das rainhas do melhor individuo ['00000001' '00001100' '00101011' '01001100' '00110001']\n",
      "melhor indivíduo da iteração 56  : [0.97530864]\n",
      "posição das rainhas do melhor individuo ['00000001' '00001100' '00101011' '01001100' '00110001']\n",
      "melhor indivíduo da iteração 57  : [0.97530864]\n",
      "posição das rainhas do melhor individuo ['00000001' '00001100' '00101011' '01001100' '00110001']\n"
     ]
    },
    {
     "name": "stdout",
     "output_type": "stream",
     "text": [
      "melhor indivíduo da iteração 58  : [0.97530864]\n",
      "posição das rainhas do melhor individuo ['00000001' '00001100' '00101011' '01001100' '00110001']\n",
      "melhor indivíduo da iteração 59  : [0.97530864]\n",
      "posição das rainhas do melhor individuo ['00000001' '00001100' '00101011' '01001100' '00110001']\n",
      "melhor indivíduo da iteração 60  : [0.97530864]\n",
      "posição das rainhas do melhor individuo ['00000001' '00001100' '00101011' '01001100' '00110001']\n",
      "melhor indivíduo da iteração 61  : [0.97530864]\n",
      "posição das rainhas do melhor individuo ['00000001' '00001100' '00101011' '01001100' '00110001']\n",
      "melhor indivíduo da iteração 62  : [0.97530864]\n",
      "posição das rainhas do melhor individuo ['00000001' '00001100' '00101011' '01001100' '00110001']\n",
      "melhor indivíduo da iteração 63  : [0.97530864]\n",
      "posição das rainhas do melhor individuo ['00000001' '00001100' '00101011' '01001100' '00110001']\n",
      "melhor indivíduo da iteração 64  : [0.97530864]\n",
      "posição das rainhas do melhor individuo ['00000001' '00001100' '00101011' '01001100' '00110001']\n",
      "melhor indivíduo da iteração 65  : [0.97530864]\n",
      "posição das rainhas do melhor individuo ['00000001' '00001100' '00101011' '01001100' '00110001']\n",
      "melhor indivíduo da iteração 66  : [0.97530864]\n",
      "posição das rainhas do melhor individuo ['00000001' '00001100' '00101011' '01001100' '00110001']\n",
      "melhor indivíduo da iteração 67  : [0.97530864]\n",
      "posição das rainhas do melhor individuo ['00000001' '00001100' '00101011' '01001100' '00110001']\n",
      "melhor indivíduo da iteração 68  : [0.97530864]\n",
      "posição das rainhas do melhor individuo ['00000001' '00001100' '00101011' '01001100' '00110001']\n",
      "melhor indivíduo da iteração 69  : [0.97530864]\n",
      "posição das rainhas do melhor individuo ['00000001' '00001100' '00101011' '01001100' '00110001']\n",
      "melhor indivíduo da iteração 70  : [0.97530864]\n",
      "posição das rainhas do melhor individuo ['00000001' '00001100' '00101011' '01001100' '00110001']\n",
      "melhor indivíduo da iteração 71  : [0.97530864]\n",
      "posição das rainhas do melhor individuo ['00000001' '00001100' '00101011' '01001100' '00110001']\n",
      "melhor indivíduo da iteração 72  : [0.97530864]\n",
      "posição das rainhas do melhor individuo ['00000001' '00001100' '00101011' '01001100' '00110001']\n",
      "melhor indivíduo da iteração 73  : [0.97530864]\n",
      "posição das rainhas do melhor individuo ['00000001' '00001100' '00101011' '01001100' '00110001']\n",
      "melhor indivíduo da iteração 74  : [0.97530864]\n",
      "posição das rainhas do melhor individuo ['00000001' '00001100' '00101011' '01001100' '00110001']\n",
      "melhor indivíduo da iteração 75  : [0.97530864]\n",
      "posição das rainhas do melhor individuo ['00000001' '00001100' '00101011' '01001100' '00110001']\n",
      "melhor indivíduo da iteração 76  : [0.97530864]\n",
      "posição das rainhas do melhor individuo ['00000001' '00001100' '00101011' '01001100' '00110001']\n",
      "melhor indivíduo da iteração 77  : [0.97530864]\n",
      "posição das rainhas do melhor individuo ['00000001' '00001100' '00101011' '01001100' '00110001']\n",
      "melhor indivíduo da iteração 78  : [0.97530864]\n",
      "posição das rainhas do melhor individuo ['00000001' '00001100' '00101011' '01001100' '00110001']\n",
      "melhor indivíduo da iteração 79  : [0.97530864]\n",
      "posição das rainhas do melhor individuo ['00000001' '00001100' '00101011' '01001100' '00110001']\n",
      "melhor indivíduo da iteração 80  : [0.97530864]\n",
      "posição das rainhas do melhor individuo ['00000001' '00001100' '00101011' '01001100' '00110001']\n",
      "melhor indivíduo da iteração 81  : [0.97530864]\n",
      "posição das rainhas do melhor individuo ['00000001' '00001100' '00101011' '01001100' '00110001']\n",
      "melhor indivíduo da iteração 82  : [0.97530864]\n",
      "posição das rainhas do melhor individuo ['00000001' '00001100' '00101011' '01001100' '00110001']\n",
      "melhor indivíduo da iteração 83  : [0.97530864]\n",
      "posição das rainhas do melhor individuo ['00000001' '00001100' '00101011' '01001100' '00110001']\n",
      "melhor indivíduo da iteração 84  : [0.97530864]\n",
      "posição das rainhas do melhor individuo ['00000001' '00001100' '00101011' '01001100' '00110001']\n",
      "melhor indivíduo da iteração 85  : [0.97530864]\n",
      "posição das rainhas do melhor individuo ['00000001' '00001100' '00101011' '01001100' '00110001']\n",
      "melhor indivíduo da iteração 86  : [0.97530864]\n",
      "posição das rainhas do melhor individuo ['00000001' '00001100' '00101011' '01001100' '00110001']\n",
      "melhor indivíduo da iteração 87  : [0.97530864]\n",
      "posição das rainhas do melhor individuo ['00000001' '00001100' '00101011' '01001100' '00110001']\n",
      "melhor indivíduo da iteração 88  : [0.97530864]\n",
      "posição das rainhas do melhor individuo ['00000001' '00001100' '00101011' '01001100' '00110001']\n",
      "melhor indivíduo da iteração 89  : [0.97530864]\n",
      "posição das rainhas do melhor individuo ['00000001' '00001100' '00101011' '01001100' '00110001']\n",
      "melhor indivíduo da iteração 90  : [0.97530864]\n",
      "posição das rainhas do melhor individuo ['00000001' '00001100' '00101011' '01001100' '00110001']\n",
      "melhor indivíduo da iteração 91  : [0.97530864]\n",
      "posição das rainhas do melhor individuo ['00000001' '00001100' '00101011' '01001100' '00110001']\n",
      "melhor indivíduo da iteração 92  : [0.97530864]\n",
      "posição das rainhas do melhor individuo ['00000001' '00001100' '00101011' '01001100' '00110001']\n",
      "melhor indivíduo da iteração 93  : [0.97530864]\n",
      "posição das rainhas do melhor individuo ['00000001' '00001100' '00101011' '01001100' '00110001']\n",
      "melhor indivíduo da iteração 94  : [0.97530864]\n",
      "posição das rainhas do melhor individuo ['00000001' '00001100' '00101011' '01001100' '00110001']\n",
      "melhor indivíduo da iteração 95  : [0.97530864]\n",
      "posição das rainhas do melhor individuo ['00000001' '00001100' '00101011' '01001100' '00110001']\n",
      "melhor indivíduo da iteração 96  : [0.97530864]\n",
      "posição das rainhas do melhor individuo ['00000001' '00001100' '00101011' '01001100' '00110001']\n",
      "melhor indivíduo da iteração 97  : [0.97530864]\n",
      "posição das rainhas do melhor individuo ['00000001' '00001100' '00101011' '01001100' '00110001']\n",
      "melhor indivíduo da iteração 98  : [0.97530864]\n",
      "posição das rainhas do melhor individuo ['00000001' '00001100' '00101011' '01001100' '00110001']\n",
      "melhor indivíduo da iteração 99  : [0.97530864]\n",
      "posição das rainhas do melhor individuo ['00000001' '00001100' '00101011' '01001100' '00110001']\n",
      "melhor indivíduo da iteração 100  : [0.97530864]\n",
      "posição das rainhas do melhor individuo ['00000001' '00001100' '00101011' '01001100' '00110001']\n",
      "melhor indivíduo da iteração 101  : [0.97530864]\n",
      "posição das rainhas do melhor individuo ['00000001' '00001100' '00101011' '01001100' '00110001']\n",
      "melhor indivíduo da iteração 102  : [0.97530864]\n",
      "posição das rainhas do melhor individuo ['00000001' '00001100' '00101011' '01001100' '00110001']\n",
      "melhor indivíduo da iteração 103  : [0.97530864]\n",
      "posição das rainhas do melhor individuo ['00000001' '00001100' '00101011' '01001100' '00110001']\n"
     ]
    },
    {
     "ename": "KeyboardInterrupt",
     "evalue": "",
     "output_type": "error",
     "traceback": [
      "\u001b[0;31m---------------------------------------------------------------------------\u001b[0m",
      "\u001b[0;31mKeyboardInterrupt\u001b[0m                         Traceback (most recent call last)",
      "\u001b[0;32m/tmp/ipykernel_10698/999284945.py\u001b[0m in \u001b[0;36m<module>\u001b[0;34m\u001b[0m\n\u001b[1;32m      1\u001b[0m \u001b[0mN\u001b[0m \u001b[0;34m=\u001b[0m \u001b[0;36m9\u001b[0m\u001b[0;34m\u001b[0m\u001b[0;34m\u001b[0m\u001b[0m\n\u001b[0;32m----> 2\u001b[0;31m \u001b[0mdo_iterations\u001b[0m\u001b[0;34m(\u001b[0m\u001b[0;36m1000\u001b[0m\u001b[0;34m,\u001b[0m\u001b[0;36m5\u001b[0m\u001b[0;34m,\u001b[0m\u001b[0mN\u001b[0m\u001b[0;34m)\u001b[0m\u001b[0;34m\u001b[0m\u001b[0;34m\u001b[0m\u001b[0m\n\u001b[0m",
      "\u001b[0;32m/tmp/ipykernel_10698/434588019.py\u001b[0m in \u001b[0;36mdo_iterations\u001b[0;34m(n_iters, n_queens, chessBoard_dimension)\u001b[0m\n\u001b[1;32m     40\u001b[0m \u001b[0;34m\u001b[0m\u001b[0m\n\u001b[1;32m     41\u001b[0m \u001b[0;34m\u001b[0m\u001b[0m\n\u001b[0;32m---> 42\u001b[0;31m         \u001b[0mfitness_values\u001b[0m \u001b[0;34m=\u001b[0m \u001b[0mgetFitness\u001b[0m\u001b[0;34m(\u001b[0m\u001b[0mAllIndividuals\u001b[0m\u001b[0;34m,\u001b[0m \u001b[0mchessBoard\u001b[0m\u001b[0;34m)\u001b[0m\u001b[0;34m\u001b[0m\u001b[0;34m\u001b[0m\u001b[0m\n\u001b[0m\u001b[1;32m     43\u001b[0m         \u001b[0mA\u001b[0m \u001b[0;34m=\u001b[0m \u001b[0mAllIndividuals\u001b[0m\u001b[0;34m\u001b[0m\u001b[0;34m\u001b[0m\u001b[0m\n\u001b[1;32m     44\u001b[0m \u001b[0;34m\u001b[0m\u001b[0m\n",
      "\u001b[0;32m/tmp/ipykernel_10698/3774940787.py\u001b[0m in \u001b[0;36mgetFitness\u001b[0;34m(population, chessBoard, verbose)\u001b[0m\n\u001b[1;32m      3\u001b[0m     \u001b[0;32mfor\u001b[0m \u001b[0mindi\u001b[0m \u001b[0;32min\u001b[0m \u001b[0mpopulation\u001b[0m\u001b[0;34m:\u001b[0m\u001b[0;34m\u001b[0m\u001b[0;34m\u001b[0m\u001b[0m\n\u001b[1;32m      4\u001b[0m         \u001b[0;32mif\u001b[0m \u001b[0mverbose\u001b[0m\u001b[0;34m:\u001b[0m \u001b[0mprint\u001b[0m\u001b[0;34m(\u001b[0m\u001b[0;34m'individo no getFitness'\u001b[0m\u001b[0;34m,\u001b[0m \u001b[0mindi\u001b[0m\u001b[0;34m)\u001b[0m\u001b[0;34m\u001b[0m\u001b[0;34m\u001b[0m\u001b[0m\n\u001b[0;32m----> 5\u001b[0;31m         \u001b[0mfit\u001b[0m \u001b[0;34m=\u001b[0m \u001b[0mdarwinize_individual\u001b[0m\u001b[0;34m(\u001b[0m\u001b[0mindi\u001b[0m\u001b[0;34m,\u001b[0m \u001b[0mchessBoard\u001b[0m\u001b[0;34m)\u001b[0m\u001b[0;34m\u001b[0m\u001b[0;34m\u001b[0m\u001b[0m\n\u001b[0m\u001b[1;32m      6\u001b[0m         \u001b[0mfitness_values\u001b[0m \u001b[0;34m=\u001b[0m \u001b[0mnp\u001b[0m\u001b[0;34m.\u001b[0m\u001b[0mvstack\u001b[0m\u001b[0;34m(\u001b[0m\u001b[0;34m[\u001b[0m\u001b[0mfitness_values\u001b[0m\u001b[0;34m,\u001b[0m \u001b[0mfit\u001b[0m\u001b[0;34m]\u001b[0m\u001b[0;34m)\u001b[0m\u001b[0;34m\u001b[0m\u001b[0;34m\u001b[0m\u001b[0m\n\u001b[1;32m      7\u001b[0m     \u001b[0mfitness_values\u001b[0m \u001b[0;34m=\u001b[0m \u001b[0mnp\u001b[0m\u001b[0;34m.\u001b[0m\u001b[0mdelete\u001b[0m\u001b[0;34m(\u001b[0m\u001b[0mfitness_values\u001b[0m\u001b[0;34m,\u001b[0m\u001b[0;36m0\u001b[0m\u001b[0;34m,\u001b[0m \u001b[0;36m0\u001b[0m\u001b[0;34m)\u001b[0m\u001b[0;34m\u001b[0m\u001b[0;34m\u001b[0m\u001b[0m\n",
      "\u001b[0;32m/tmp/ipykernel_10698/2426751861.py\u001b[0m in \u001b[0;36mdarwinize_individual\u001b[0;34m(ind, chessBoard)\u001b[0m\n\u001b[1;32m      5\u001b[0m         \u001b[0minIntQueen\u001b[0m \u001b[0;34m=\u001b[0m \u001b[0mint\u001b[0m\u001b[0;34m(\u001b[0m\u001b[0mqueen\u001b[0m\u001b[0;34m,\u001b[0m\u001b[0;36m2\u001b[0m\u001b[0;34m)\u001b[0m\u001b[0;34m\u001b[0m\u001b[0;34m\u001b[0m\u001b[0m\n\u001b[1;32m      6\u001b[0m         \u001b[0mindInInteger\u001b[0m\u001b[0;34m.\u001b[0m\u001b[0mappend\u001b[0m\u001b[0;34m(\u001b[0m\u001b[0minIntQueen\u001b[0m\u001b[0;34m)\u001b[0m\u001b[0;34m\u001b[0m\u001b[0;34m\u001b[0m\u001b[0m\n\u001b[0;32m----> 7\u001b[0;31m     \u001b[0mS\u001b[0m \u001b[0;34m=\u001b[0m \u001b[0mdominatedSet\u001b[0m\u001b[0;34m(\u001b[0m\u001b[0mindInInteger\u001b[0m\u001b[0;34m,\u001b[0m \u001b[0mchessBoard\u001b[0m\u001b[0;34m,\u001b[0m \u001b[0mverbose\u001b[0m\u001b[0;34m=\u001b[0m\u001b[0;32mFalse\u001b[0m\u001b[0;34m)\u001b[0m\u001b[0;34m\u001b[0m\u001b[0;34m\u001b[0m\u001b[0m\n\u001b[0m\u001b[1;32m      8\u001b[0m     \u001b[0;31m## o jeito de calcular o fitness como foi dito anteriormente\u001b[0m\u001b[0;34m\u001b[0m\u001b[0;34m\u001b[0m\u001b[0;34m\u001b[0m\u001b[0m\n\u001b[1;32m      9\u001b[0m     \u001b[0;32mreturn\u001b[0m \u001b[0mlen\u001b[0m\u001b[0;34m(\u001b[0m\u001b[0mS\u001b[0m\u001b[0;34m)\u001b[0m\u001b[0;34m/\u001b[0m \u001b[0;34m(\u001b[0m\u001b[0mN\u001b[0m\u001b[0;34m*\u001b[0m\u001b[0mN\u001b[0m\u001b[0;34m)\u001b[0m\u001b[0;34m\u001b[0m\u001b[0;34m\u001b[0m\u001b[0m\n",
      "\u001b[0;32m/tmp/ipykernel_10698/356109326.py\u001b[0m in \u001b[0;36mdominatedSet\u001b[0;34m(queens, chessBoard, verbose)\u001b[0m\n\u001b[1;32m     33\u001b[0m                     \u001b[0mprint\u001b[0m\u001b[0;34m(\u001b[0m\u001b[0mdiag\u001b[0m\u001b[0;34m)\u001b[0m\u001b[0;34m\u001b[0m\u001b[0;34m\u001b[0m\u001b[0m\n\u001b[1;32m     34\u001b[0m                 \u001b[0mS\u001b[0m\u001b[0;34m.\u001b[0m\u001b[0mupdate\u001b[0m\u001b[0;34m(\u001b[0m\u001b[0mdiag\u001b[0m\u001b[0;34m)\u001b[0m\u001b[0;34m\u001b[0m\u001b[0;34m\u001b[0m\u001b[0m\n\u001b[0;32m---> 35\u001b[0;31m             \u001b[0;32mif\u001b[0m \u001b[0mqueenBox\u001b[0m \u001b[0;32min\u001b[0m \u001b[0minvertDiag\u001b[0m\u001b[0;34m:\u001b[0m\u001b[0;34m\u001b[0m\u001b[0;34m\u001b[0m\u001b[0m\n\u001b[0m\u001b[1;32m     36\u001b[0m                 \u001b[0;32mif\u001b[0m \u001b[0mverbose\u001b[0m\u001b[0;34m:\u001b[0m\u001b[0;34m\u001b[0m\u001b[0;34m\u001b[0m\u001b[0m\n\u001b[1;32m     37\u001b[0m                     \u001b[0mprint\u001b[0m\u001b[0;34m(\u001b[0m\u001b[0minvertDiag\u001b[0m\u001b[0;34m)\u001b[0m\u001b[0;34m\u001b[0m\u001b[0;34m\u001b[0m\u001b[0m\n",
      "\u001b[0;31mKeyboardInterrupt\u001b[0m: "
     ]
    }
   ],
   "source": [
    "N = 9\n",
    "do_iterations(1000,5,N)"
   ]
  },
  {
   "cell_type": "code",
   "execution_count": null,
   "id": "caf8811b",
   "metadata": {},
   "outputs": [],
   "source": []
  },
  {
   "cell_type": "code",
   "execution_count": null,
   "id": "4ae56788",
   "metadata": {},
   "outputs": [],
   "source": []
  },
  {
   "cell_type": "code",
   "execution_count": null,
   "id": "1ee41560",
   "metadata": {},
   "outputs": [],
   "source": []
  }
 ],
 "metadata": {
  "interpreter": {
   "hash": "e7370f93d1d0cde622a1f8e1c04877d8463912d04d973331ad4851f04de6915a"
  },
  "kernelspec": {
   "display_name": "Python 3 (ipykernel)",
   "language": "python",
   "name": "python3"
  },
  "language_info": {
   "codemirror_mode": {
    "name": "ipython",
    "version": 3
   },
   "file_extension": ".py",
   "mimetype": "text/x-python",
   "name": "python",
   "nbconvert_exporter": "python",
   "pygments_lexer": "ipython3",
   "version": "3.8.11"
  }
 },
 "nbformat": 4,
 "nbformat_minor": 5
}
