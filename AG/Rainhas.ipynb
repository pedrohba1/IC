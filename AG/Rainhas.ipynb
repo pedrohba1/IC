{
 "cells": [
  {
   "cell_type": "markdown",
   "id": "ed734513",
   "metadata": {},
   "source": [
    "<h1>\n",
    "Problema das Rainhas\n",
    "</h1>"
   ]
  },
  {
   "cell_type": "markdown",
   "id": "88d63fe9",
   "metadata": {},
   "source": [
    "Em um tabuleiro 𝑛×𝑛, uma rainha é colocada em um quadrado, irá dominar todos os quadrados que estiverem na mesma linha, coluna e diagonais. A ideia por trás deste probelma é achar a quantidade mínima de rainhas necessárias para dominar o tabuleiro inteiro. Dominar, neste problema, significa cobrir todos os quadrados possíveis sendo atacados por rainhas incluindo aqueles onde as rainhas se encontram."
   ]
  },
  {
   "cell_type": "code",
   "execution_count": null,
   "id": "c3c0eb30",
   "metadata": {},
   "outputs": [],
   "source": []
  },
  {
   "cell_type": "code",
   "execution_count": null,
   "id": "9f3e234a",
   "metadata": {},
   "outputs": [],
   "source": []
  }
 ],
 "metadata": {
  "kernelspec": {
   "display_name": "Python 3 (ipykernel)",
   "language": "python",
   "name": "python3"
  },
  "language_info": {
   "codemirror_mode": {
    "name": "ipython",
    "version": 3
   },
   "file_extension": ".py",
   "mimetype": "text/x-python",
   "name": "python",
   "nbconvert_exporter": "python",
   "pygments_lexer": "ipython3",
   "version": "3.9.3"
  }
 },
 "nbformat": 4,
 "nbformat_minor": 5
}
