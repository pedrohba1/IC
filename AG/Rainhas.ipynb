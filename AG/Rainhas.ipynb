{
 "cells": [
  {
   "cell_type": "markdown",
   "source": [
    "<h1>\n",
    "Problema das Rainhas\n",
    "</h1>"
   ],
   "metadata": {}
  },
  {
   "cell_type": "markdown",
   "source": [
    "Em um tabuleiro 𝑛×𝑛, uma rainha é colocada em um quadrado, irá dominar todos os quadrados que estiverem na mesma linha, coluna e diagonais. A ideia por trás deste probelma é achar a quantidade mínima de rainhas necessárias para dominar o tabuleiro inteiro. Dominar, neste problema, significa cobrir todos os quadrados possíveis sendo atacados por rainhas incluindo aqueles onde as rainhas se encontram."
   ],
   "metadata": {}
  },
  {
   "cell_type": "markdown",
   "source": [
    "Primeiro, vamos começar definindo o tabuleiro como é feito no artigo. Vamos começar por um tabuleiro 4x4, igual começa no artigo:"
   ],
   "metadata": {}
  },
  {
   "cell_type": "code",
   "execution_count": 36,
   "source": [
    "import numpy as np\n",
    "N = 8\n",
    "chessBoard = np.array([x+1 for x in range(N*N)])\n",
    "\n",
    "chessBoard = chessBoard.reshape(N,N)\n",
    "print(chessBoard)"
   ],
   "outputs": [
    {
     "output_type": "stream",
     "name": "stdout",
     "text": [
      "[[ 1  2  3  4  5  6  7  8]\n",
      " [ 9 10 11 12 13 14 15 16]\n",
      " [17 18 19 20 21 22 23 24]\n",
      " [25 26 27 28 29 30 31 32]\n",
      " [33 34 35 36 37 38 39 40]\n",
      " [41 42 43 44 45 46 47 48]\n",
      " [49 50 51 52 53 54 55 56]\n",
      " [57 58 59 60 61 62 63 64]]\n"
     ]
    }
   ],
   "metadata": {}
  },
  {
   "cell_type": "markdown",
   "source": [
    "Agora, criar a função para verificar quadrados do tabuleiro que estão sendo dominados por todas as rainhas e retornar os números que estão sendo dominados:"
   ],
   "metadata": {}
  },
  {
   "cell_type": "code",
   "execution_count": 37,
   "source": [
    "def dominatedSet(queens, chessBoard, verbose=True):\n",
    "    S = set()\n",
    "    N = chessBoard.shape[0]\n",
    "    for queen in queens:\n",
    "        queenBox = queen\n",
    "        queenPosition = np.where(chessBoard == queenBox)\n",
    "        i = queenPosition[0][0]\n",
    "        j = queenPosition[1][0]\n",
    "        if verbose: \n",
    "            print(\"posição matricial: (\", i,j, \")\" , 'valor: ', queenBox)\n",
    "\n",
    "        if(verbose):\n",
    "            # quadrados dominados na horizontal:\n",
    "            print(chessBoard[i,:])\n",
    "            # quadrados dominados na vertical:\n",
    "            print(chessBoard[:,j])\n",
    "       \n",
    "        S.update(chessBoard[i,:])\n",
    "        S.update(chessBoard[:,j])\n",
    "        # diagonal\n",
    "        for d in range(-N+1,N):\n",
    "            diag = chessBoard.diagonal(d)\n",
    "            invertDiag = np.fliplr(chessBoard).diagonal(d)\n",
    "            if queenBox in diag:\n",
    "                if verbose:\n",
    "                    print(diag)\n",
    "                S.update(diag)\n",
    "            if queenBox in invertDiag:\n",
    "                if verbose:\n",
    "                    print(invertDiag)\n",
    "                S.update(invertDiag)\n",
    "        # diagonal invertida\n",
    "       # print(np.fliplr(chessBoard).diagonal(0))\n",
    "    return S\n",
    "        "
   ],
   "outputs": [],
   "metadata": {}
  },
  {
   "cell_type": "markdown",
   "source": [
    "O código abaixo vai então gerar a área de dominância para uma única rainha na posição (3,3) do tabuleiro, ou também podemos dizer, no valor 28 da matriz. \n",
    "\n",
    "<b>Para ficar mais claro, o número do quadrado em que a rainha se encontra nós vamos chamar de posição numérica. Então o quadrado 28, em que essa rainha se encontra, é sua posição numérica. A dupla (3,3) e todas as outras nós vamos chamar de posição matricial </b>"
   ],
   "metadata": {}
  },
  {
   "cell_type": "code",
   "execution_count": 38,
   "source": [
    "S = dominatedSet([28], chessBoard)\n",
    "print(S)"
   ],
   "outputs": [
    {
     "output_type": "stream",
     "name": "stdout",
     "text": [
      "posição matricial: ( 3 3 ) valor:  28\n",
      "[25 26 27 28 29 30 31 32]\n",
      "[ 4 12 20 28 36 44 52 60]\n",
      "[ 1 10 19 28 37 46 55 64]\n",
      "[ 7 14 21 28 35 42 49]\n",
      "{1, 4, 7, 10, 12, 14, 19, 20, 21, 25, 26, 27, 28, 29, 30, 31, 32, 35, 36, 37, 42, 44, 46, 49, 52, 55, 60, 64}\n"
     ]
    }
   ],
   "metadata": {}
  },
  {
   "cell_type": "markdown",
   "source": [
    "A função que mede o quão próximo estamos de uma boa solução no artigo é dada por:\n",
    "\n",
    "$ f(x) = {|S| \\div |G|}  $\n",
    "\n",
    "Nesta função, se o resultado for menor que 1, temos que existem alguns ou pelo menos 1 quadrado que não está numa área de dominância das rainhas. Se for 1, significa que as rainhas dominaram todos os quadrados do tabuleiro. \n",
    "\n",
    "No código, calcularemos essa função assim:"
   ],
   "metadata": {}
  },
  {
   "cell_type": "code",
   "execution_count": 39,
   "source": [
    "len(S)/ (N*N) "
   ],
   "outputs": [
    {
     "output_type": "execute_result",
     "data": {
      "text/plain": [
       "0.4375"
      ]
     },
     "metadata": {},
     "execution_count": 39
    }
   ],
   "metadata": {}
  },
  {
   "cell_type": "markdown",
   "source": [
    "<h2>Codificação dos indivíduos </h2>\n",
    "\n",
    "O conjunto de indivíduos será representado por uma matriz onde cada linha é um solução candidata e as colunas são posições das rainhas no tabuleiro para aquela solução. As posições das rainhas serão dadas pelos valores das posições numéricas definidas como um binário de 8 dígitos.\n",
    "Seria Assim:\n"
   ],
   "metadata": {}
  },
  {
   "cell_type": "code",
   "execution_count": 40,
   "source": [
    "rainha1 = format(23,'08b')\n",
    "rainha2 = format(43,'08b')\n",
    "rainha3 = format(12,'08b')\n",
    "rainha4 = format(10,'08b')\n",
    "\n",
    "np.matrix([[rainha1, rainha2], [rainha3, rainha4]])"
   ],
   "outputs": [
    {
     "output_type": "execute_result",
     "data": {
      "text/plain": [
       "matrix([['00010111', '00101011'],\n",
       "        ['00001100', '00001010']], dtype='<U8')"
      ]
     },
     "metadata": {},
     "execution_count": 40
    }
   ],
   "metadata": {}
  },
  {
   "cell_type": "markdown",
   "source": [
    "No caso, a primeira solução candidata tem as rainhas nas posições numéricas 23 e 43, e segunda solução candidata tem rainhas nas posições 12 e 10"
   ],
   "metadata": {}
  },
  {
   "cell_type": "markdown",
   "source": [
    "<h2>Geração inicial de indivíduos </h2>\n",
    "\n",
    "A primeira geração consiste de 100 indivíduos (soluções candidatas) geradas aleatoriamente, mantendo a certeza de que em cada possível solução as rainhas estão em posições diferentes. Vamos fazer uma função que faz isso. A função vai receber como parâmetro o número de rainhas que queremos para as soluções possíveis e a dimensão do tabuleiro."
   ],
   "metadata": {}
  },
  {
   "cell_type": "code",
   "execution_count": 41,
   "source": [
    "from random import seed\n",
    "from random import randint\n",
    "\n",
    "seed(3)\n",
    "\n",
    "value = randint(0, N*N)\n",
    "value\n",
    "\n",
    "def gen_individuals(n_queens, N, N_individuals): \n",
    "    A = np.empty((1,2), dtype='str')\n",
    "    for i in range (0,N_individuals):\n",
    "        newRow = []\n",
    "        for j in range (0,2):\n",
    "            randVal = randint(1,N*N)\n",
    "            randInBin = format(randVal,'08b')\n",
    "            while randInBin in newRow: \n",
    "                randVal = randint(1,N*N)\n",
    "                randInBin = format(randVal,'08b')\n",
    "            newRow.append(randInBin)\n",
    "        A = np.vstack([A, newRow])\n",
    "    # apaga a primeira linha que é gerada na inicialização da matriz\n",
    "    A = np.delete(A,0, 0)\n",
    "    return A\n",
    "\n"
   ],
   "outputs": [],
   "metadata": {}
  },
  {
   "cell_type": "markdown",
   "source": [
    "Vendo abaixo uma amostra de dois indivíduos. Cada linha é uma solução possível e essas soluções possuem duas rainhas."
   ],
   "metadata": {}
  },
  {
   "cell_type": "code",
   "execution_count": 42,
   "source": [
    "A = gen_individuals(2,N,1000)\n",
    "print(A[0])\n",
    "print(A[99][0])"
   ],
   "outputs": [
    {
     "output_type": "stream",
     "name": "stdout",
     "text": [
      "['00010001' '00110000']\n",
      "00011111\n"
     ]
    }
   ],
   "metadata": {}
  },
  {
   "cell_type": "markdown",
   "source": [
    "Já vou deixar pronta uma função que retorna o fitness do indivíduo. Sabemos que só os 50% melhores devem ser selecionados para a próxima geração."
   ],
   "metadata": {}
  },
  {
   "cell_type": "code",
   "execution_count": 47,
   "source": [
    "def darwinize_individual(ind, chessBoard):\n",
    "    indInInteger = []\n",
    "    N = chessBoard.shape[0]\n",
    "    for queen in ind:\n",
    "        inIntQueen = int(queen,2)\n",
    "        indInInteger.append(inIntQueen)\n",
    "    S = dominatedSet(indInInteger, chessBoard, verbose=False)\n",
    "    ## o jeito de calcular o fitness como foi dito anteriormente\n",
    "    return len(S)/ (N*N) \n",
    "    \n",
    "\n",
    "darwinize_individual(A[0], chessBoard)\n",
    "\n",
    "# uma coisa que dá pra ver é que os individuos passam todos da metade de dominância do tabuleiro\n",
    "for indi in A:\n",
    "    fit = darwinize_individual(indi, chessBoard)\n",
    "    if fit < 0.5:\n",
    "        print(indi)\n"
   ],
   "outputs": [],
   "metadata": {}
  },
  {
   "cell_type": "code",
   "execution_count": null,
   "source": [],
   "outputs": [],
   "metadata": {}
  },
  {
   "cell_type": "code",
   "execution_count": null,
   "source": [],
   "outputs": [],
   "metadata": {}
  }
 ],
 "metadata": {
  "kernelspec": {
   "name": "python3",
   "display_name": "Python 3.9.7 64-bit"
  },
  "language_info": {
   "codemirror_mode": {
    "name": "ipython",
    "version": 3
   },
   "file_extension": ".py",
   "mimetype": "text/x-python",
   "name": "python",
   "nbconvert_exporter": "python",
   "pygments_lexer": "ipython3",
   "version": "3.9.7"
  },
  "interpreter": {
   "hash": "e7370f93d1d0cde622a1f8e1c04877d8463912d04d973331ad4851f04de6915a"
  }
 },
 "nbformat": 4,
 "nbformat_minor": 5
}