{
 "cells": [
  {
   "cell_type": "markdown",
   "id": "624f9b66",
   "metadata": {
    "id": "_1Vngl6qZBEE"
   },
   "source": [
    "<h1>\n",
    "Problema das Rainhas\n",
    "</h1>"
   ]
  },
  {
   "cell_type": "markdown",
   "id": "e651243e",
   "metadata": {
    "id": "hfbu97JPZBEN"
   },
   "source": [
    "Em um tabuleiro 𝑛×𝑛, uma rainha é colocada em um quadrado, irá dominar todos os quadrados que estiverem na mesma linha, coluna e diagonais. A ideia por trás deste probelma é achar a quantidade mínima de rainhas necessárias para dominar o tabuleiro inteiro. Dominar, neste problema, significa cobrir todos os quadrados possíveis sendo atacados por rainhas incluindo aqueles onde as rainhas se encontram."
   ]
  },
  {
   "cell_type": "markdown",
   "id": "3a6fa931",
   "metadata": {
    "id": "B9q8Y9puZBES"
   },
   "source": [
    "Primeiro, vamos começar definindo o tabuleiro como é feito no artigo. Vamos começar por um tabuleiro 4x4, igual começa no artigo:"
   ]
  },
  {
   "cell_type": "code",
   "execution_count": 1,
   "id": "11c1187c",
   "metadata": {
    "colab": {
     "base_uri": "https://localhost:8080/"
    },
    "id": "9IIrl0ZJZBEU",
    "outputId": "a5121dbe-a22c-49eb-e4b4-1198fd7e5c24"
   },
   "outputs": [
    {
     "name": "stdout",
     "output_type": "stream",
     "text": [
      "[[ 1  2  3  4  5  6  7  8]\n",
      " [ 9 10 11 12 13 14 15 16]\n",
      " [17 18 19 20 21 22 23 24]\n",
      " [25 26 27 28 29 30 31 32]\n",
      " [33 34 35 36 37 38 39 40]\n",
      " [41 42 43 44 45 46 47 48]\n",
      " [49 50 51 52 53 54 55 56]\n",
      " [57 58 59 60 61 62 63 64]]\n"
     ]
    }
   ],
   "source": [
    "import numpy as np\n",
    "N = 8\n",
    "chessBoard = np.array([x+1 for x in range(N*N)])\n",
    "\n",
    "chessBoard = chessBoard.reshape(N,N)\n",
    "print(chessBoard)"
   ]
  },
  {
   "cell_type": "markdown",
   "id": "6ab543a7",
   "metadata": {
    "id": "tziZVngYZBEd"
   },
   "source": [
    "Agora, criar a função para verificar quadrados do tabuleiro que estão sendo dominados por todas as rainhas e retornar os números que estão sendo dominados:"
   ]
  },
  {
   "cell_type": "code",
   "execution_count": 2,
   "id": "a34da215",
   "metadata": {
    "id": "6jyHD6uvZBEk"
   },
   "outputs": [],
   "source": [
    "def dominatedSet(queens, chessBoard, verbose=True):\n",
    "    S = set()\n",
    "    N = chessBoard.shape[0]\n",
    "    for queen in queens:\n",
    "        queenBox = queen\n",
    "        queenPosition = np.where(chessBoard == queenBox)\n",
    "        i = queenPosition[0][0]\n",
    "        j = queenPosition[1][0]\n",
    "        if verbose: \n",
    "            print(\"posição matricial: (\", i,j, \")\" , 'valor: ', queenBox)\n",
    "\n",
    "        if(verbose):\n",
    "            # quadrados dominados na horizontal:\n",
    "            print(chessBoard[i,:])\n",
    "            # quadrados dominados na vertical:\n",
    "            print(chessBoard[:,j])\n",
    "       \n",
    "        S.update(chessBoard[i,:])\n",
    "        S.update(chessBoard[:,j])\n",
    "        # diagonal\n",
    "        for d in range(-N+1,N):\n",
    "            diag = chessBoard.diagonal(d)\n",
    "            invertDiag = np.fliplr(chessBoard).diagonal(d)\n",
    "            if queenBox in diag:\n",
    "                if verbose:\n",
    "                    print(diag)\n",
    "                S.update(diag)\n",
    "            if queenBox in invertDiag:\n",
    "                if verbose:\n",
    "                    print(invertDiag)\n",
    "                S.update(invertDiag)\n",
    "        # diagonal invertida\n",
    "       # print(np.fliplr(chessBoard).diagonal(0))\n",
    "    return S\n",
    "        "
   ]
  },
  {
   "cell_type": "markdown",
   "id": "66cfea85",
   "metadata": {
    "id": "7g7iqQ4bZBEo"
   },
   "source": [
    "O código abaixo vai então gerar a área de dominância para uma única rainha na posição (3,3) do tabuleiro, ou também podemos dizer, no valor 28 da matriz. \n",
    "\n",
    "<b>Para ficar mais claro, o número do quadrado em que a rainha se encontra nós vamos chamar de posição numérica. Então o quadrado 28, em que essa rainha se encontra, é sua posição numérica. A dupla (3,3) e todas as outras nós vamos chamar de posição matricial </b>"
   ]
  },
  {
   "cell_type": "code",
   "execution_count": 3,
   "id": "c7036c0b",
   "metadata": {
    "colab": {
     "base_uri": "https://localhost:8080/"
    },
    "id": "p6xonv5wZBEr",
    "outputId": "b679e7da-622e-4675-efe7-8aff51985d8c"
   },
   "outputs": [
    {
     "name": "stdout",
     "output_type": "stream",
     "text": [
      "posição matricial: ( 3 3 ) valor:  28\n",
      "[25 26 27 28 29 30 31 32]\n",
      "[ 4 12 20 28 36 44 52 60]\n",
      "[ 1 10 19 28 37 46 55 64]\n",
      "[ 7 14 21 28 35 42 49]\n",
      "{1, 4, 7, 10, 12, 14, 19, 20, 21, 25, 26, 27, 28, 29, 30, 31, 32, 35, 36, 37, 42, 44, 46, 49, 52, 55, 60, 64}\n"
     ]
    }
   ],
   "source": [
    "S = dominatedSet([28], chessBoard)\n",
    "print(S)"
   ]
  },
  {
   "cell_type": "markdown",
   "id": "053a4e81",
   "metadata": {
    "id": "GxW9U1nVZBEt"
   },
   "source": [
    "A função que mede o quão próximo estamos de uma boa solução no artigo é dada por:\n",
    "\n",
    "$ f(x) = {|S| \\div |G|}  $\n",
    "\n",
    "Nesta função, se o resultado for menor que 1, temos que existem alguns ou pelo menos 1 quadrado que não está numa área de dominância das rainhas. Se for 1, significa que as rainhas dominaram todos os quadrados do tabuleiro. \n",
    "\n",
    "No código, calcularemos essa função assim:"
   ]
  },
  {
   "cell_type": "code",
   "execution_count": 4,
   "id": "c6ea8a9d",
   "metadata": {
    "colab": {
     "base_uri": "https://localhost:8080/"
    },
    "id": "GqtwEod9ZBEx",
    "outputId": "3b9f813f-61f4-467e-83b5-4ca8dd68c48a"
   },
   "outputs": [
    {
     "data": {
      "text/plain": [
       "0.4375"
      ]
     },
     "execution_count": 4,
     "metadata": {},
     "output_type": "execute_result"
    }
   ],
   "source": [
    "len(S)/ (N*N) "
   ]
  },
  {
   "cell_type": "markdown",
   "id": "0560c118",
   "metadata": {
    "id": "C_akHiD7ZBEz"
   },
   "source": [
    "<h2>Codificação dos indivíduos </h2>\n",
    "\n",
    "O conjunto de indivíduos será representado por uma matriz onde cada linha é um solução candidata e as colunas são posições das rainhas no tabuleiro para aquela solução. As posições das rainhas serão dadas pelos valores das posições numéricas definidas como um binário de 8 dígitos.\n",
    "Seria Assim:\n"
   ]
  },
  {
   "cell_type": "code",
   "execution_count": 5,
   "id": "209e2f31",
   "metadata": {
    "colab": {
     "base_uri": "https://localhost:8080/"
    },
    "id": "nNBshNXeZBE1",
    "outputId": "2a4b18de-5722-49c8-e680-db321479335d"
   },
   "outputs": [
    {
     "data": {
      "text/plain": [
       "matrix([['00010111', '00101011'],\n",
       "        ['00001100', '00001010']], dtype='<U8')"
      ]
     },
     "execution_count": 5,
     "metadata": {},
     "output_type": "execute_result"
    }
   ],
   "source": [
    "rainha1 = format(23,'08b')\n",
    "rainha2 = format(43,'08b')\n",
    "rainha3 = format(12,'08b')\n",
    "rainha4 = format(10,'08b')\n",
    "\n",
    "np.matrix([[rainha1, rainha2], [rainha3, rainha4]])"
   ]
  },
  {
   "cell_type": "markdown",
   "id": "944c174a",
   "metadata": {
    "id": "faDNEsSrZBE3"
   },
   "source": [
    "No caso, a primeira solução candidata tem as rainhas nas posições numéricas 23 e 43, e segunda solução candidata tem rainhas nas posições 12 e 10"
   ]
  },
  {
   "cell_type": "markdown",
   "id": "dac98d04",
   "metadata": {
    "id": "GdNZS1NkZBE5"
   },
   "source": [
    "<h2>Geração inicial de indivíduos </h2>\n",
    "\n",
    "A primeira geração consiste de 100 indivíduos (soluções candidatas) geradas aleatoriamente, mantendo a certeza de que em cada possível solução as rainhas estão em posições diferentes. Vamos fazer uma função que faz isso. A função vai receber como parâmetro o número de rainhas que queremos para as soluções possíveis e a dimensão do tabuleiro."
   ]
  },
  {
   "cell_type": "code",
   "execution_count": 6,
   "id": "8045070b",
   "metadata": {
    "id": "bGCHOsU0ZBE6"
   },
   "outputs": [],
   "source": [
    "from random import seed\n",
    "from random import randint\n",
    "\n",
    "seed(3)\n",
    "\n",
    "value = randint(0, N*N)\n",
    "value\n",
    "\n",
    "def gen_individuals(N_queens, N, N_individuals): \n",
    "    A = np.empty((1,N_queens), dtype='str')\n",
    "    for i in range (0,N_individuals):\n",
    "        newRow = []\n",
    "        for j in range (0,N_queens):\n",
    "            randVal = randint(1,N*N)\n",
    "            randInBin = format(randVal,'08b')\n",
    "            while randInBin in newRow: \n",
    "                randVal = randint(1,N*N)\n",
    "                randInBin = format(randVal,'08b')\n",
    "            newRow.append(randInBin)\n",
    "        A = np.vstack([A, newRow])\n",
    "    # apaga a primeira linha que é gerada na inicialização da matriz\n",
    "    A = np.delete(A,0, 0)\n",
    "    return A\n",
    "\n"
   ]
  },
  {
   "cell_type": "markdown",
   "id": "db8790bc",
   "metadata": {
    "id": "QJQYaf3tZBE-"
   },
   "source": [
    "Vendo abaixo uma amostra de dois indivíduos. Cada linha é uma solução possível e essas soluções possuem duas rainhas. A função também permite que a gente decida quantos indivíduos queremos gerar para a matriz A (número de linhas) assim como quantas rainhas pode ter cada indivíduo (número de colunas)"
   ]
  },
  {
   "cell_type": "code",
   "execution_count": 7,
   "id": "b6a0a869",
   "metadata": {
    "colab": {
     "base_uri": "https://localhost:8080/"
    },
    "id": "H8_Nnv8DZBFA",
    "outputId": "58cc657d-5963-4c1e-e67a-1f4a80b839b3"
   },
   "outputs": [
    {
     "name": "stdout",
     "output_type": "stream",
     "text": [
      "['00010001' '00110000']\n",
      "['00011111' '00000011']\n"
     ]
    }
   ],
   "source": [
    "N_queens = 2\n",
    "A = gen_individuals(N_queens,N,100)\n",
    "print(A[0])\n",
    "print(A[99])"
   ]
  },
  {
   "cell_type": "markdown",
   "id": "e9d83784",
   "metadata": {
    "id": "gOBtRW_5ZBFB"
   },
   "source": [
    "Já vou deixar pronta uma função que retorna o fitness do indivíduo. Sabemos que só os 50% melhores devem ser selecionados para a próxima geração."
   ]
  },
  {
   "cell_type": "code",
   "execution_count": 8,
   "id": "a8ab6b28",
   "metadata": {
    "id": "7NF3xvVbZBFC"
   },
   "outputs": [],
   "source": [
    "def darwinize_individual(ind, chessBoard):\n",
    "    indInInteger = []\n",
    "    N = chessBoard.shape[0]\n",
    "    for queen in ind:\n",
    "        inIntQueen = int(queen,2)\n",
    "        indInInteger.append(inIntQueen)\n",
    "    S = dominatedSet(indInInteger, chessBoard, verbose=False)\n",
    "    ## o jeito de calcular o fitness como foi dito anteriormente\n",
    "    return len(S)/ (N*N) \n",
    "    \n",
    "\n",
    "darwinize_individual(A[0], chessBoard)\n",
    "fitness_values = np.empty((1), dtype='int64')\n",
    "# uma coisa que dá pra ver é que os individuos passam todos da metade de dominância do tabuleiro\n",
    "for indi in A:\n",
    "    fit = darwinize_individual(indi, chessBoard)\n",
    "    fitness_values = np.vstack([fitness_values, fit])\n",
    "    if fit < 0.5:\n",
    "        print(indi)\n",
    "fitness_values = np.delete(fitness_values,0, 0)  \n",
    "\n",
    "\n"
   ]
  },
  {
   "cell_type": "code",
   "execution_count": 17,
   "id": "cd224ba5",
   "metadata": {
    "id": "sNLFskQtZBFD"
   },
   "outputs": [],
   "source": [
    "def maisAdaptados (population, fitness,  n_queens):\n",
    "\n",
    "    # Selecionará os 50% individuos com maior fitness\n",
    "    n_ind = len(population)\n",
    "    ind = np.empty((1,n_queens), dtype='str')\n",
    "    fit = np.empty((1), dtype='str')\n",
    "\n",
    "    for i in range(n_ind):\n",
    "        max_fitness_idx = np.argmax(fitness)\n",
    "        fit = np.vstack([fit,fitness[max_fitness_idx]])\n",
    "        ind = np.vstack([ind, population[max_fitness_idx]])\n",
    "        fitness[max_fitness_idx] = -99999999999\n",
    "    ind = np.delete(ind,0, 0)\n",
    "    fit = np.delete(fit,0,0)\n",
    "    ind = ind[0:int(n_ind/2)]\n",
    "    fit = fit[0:int(n_ind/2)]\n",
    "    return ind,fit\n",
    "\n",
    "   "
   ]
  },
  {
   "cell_type": "code",
   "execution_count": 19,
   "id": "ac5f512a",
   "metadata": {
    "id": "QxObnovYZBFD"
   },
   "outputs": [],
   "source": [
    "\n",
    "B, fit_B = maisAdaptados(A, fitness_values, 2)\n",
    "\n"
   ]
  },
  {
   "cell_type": "code",
   "execution_count": 20,
   "id": "329c5a93",
   "metadata": {
    "colab": {
     "base_uri": "https://localhost:8080/"
    },
    "id": "wJ0xFlMfZBFE",
    "outputId": "26e145f5-1426-49eb-dde9-d50a9ab80b5f"
   },
   "outputs": [
    {
     "name": "stdout",
     "output_type": "stream",
     "text": [
      "[['00010001' '00110000']\n",
      " ['00010001' '00110000']]\n"
     ]
    }
   ],
   "source": [
    "from random import uniform, random, choice, sample\n",
    "\n",
    "def seleciona_roulette_wheel(pop, fitness):\n",
    "  y = fitness.astype(np.float)\n",
    "  Soma = np.sum(y)\n",
    "  Prob_escolhido = np.empty((1), dtype='float')\n",
    "  for i in y:   \n",
    "    Prob_escolhido = np.vstack([Prob_escolhido, i/Soma])\n",
    "    \n",
    "  Prob_escolhido = np.delete(Prob_escolhido,0,0) \n",
    "  Prob_escolhido = np.transpose(Prob_escolhido) \n",
    "  indices = np.random.choice(len(pop),size= 2 ,p=Prob_escolhido.flatten())\n",
    "  ind = pop[indices]\n",
    "  return ind\n",
    "\n",
    "  \n",
    "ind = seleciona_roulette_wheel(B, fit_B)\n",
    "print (ind)  \n",
    "\n"
   ]
  }
 ],
 "metadata": {
  "colab": {
   "name": "Cópia de Rainhas.ipynb",
   "provenance": []
  },
  "interpreter": {
   "hash": "e7370f93d1d0cde622a1f8e1c04877d8463912d04d973331ad4851f04de6915a"
  },
  "kernelspec": {
   "display_name": "Python 3 (ipykernel)",
   "language": "python",
   "name": "python3"
  },
  "language_info": {
   "codemirror_mode": {
    "name": "ipython",
    "version": 3
   },
   "file_extension": ".py",
   "mimetype": "text/x-python",
   "name": "python",
   "nbconvert_exporter": "python",
   "pygments_lexer": "ipython3",
   "version": "3.8.11"
  }
 },
 "nbformat": 4,
 "nbformat_minor": 5
}
