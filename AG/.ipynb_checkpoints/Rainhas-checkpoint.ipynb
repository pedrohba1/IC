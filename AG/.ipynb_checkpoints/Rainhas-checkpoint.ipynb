{
 "cells": [
  {
   "cell_type": "markdown",
   "id": "3e1bb2d3",
   "metadata": {},
   "source": [
    "<h1>\n",
    "Problema das Rainhas\n",
    "</h1>"
   ]
  },
  {
   "cell_type": "markdown",
   "id": "8257eef7",
   "metadata": {},
   "source": [
    "Em um tabuleiro 𝑛×𝑛, uma rainha é colocada em um quadrado, irá dominar todos os quadrados que estiverem na mesma linha, coluna e diagonais. A ideia por trás deste probelma é achar a quantidade mínima de rainhas necessárias para dominar o tabuleiro inteiro. Dominar, neste problema, significa cobrir todos os quadrados possíveis sendo atacados por rainhas incluindo aqueles onde as rainhas se encontram."
   ]
  },
  {
   "cell_type": "markdown",
   "id": "d95709c3",
   "metadata": {},
   "source": [
    "Primeiro, vamos começar definindo o tabuleiro como é feito no artigo. Vamos começar por um tabuleiro 4x4, igual começa no artigo:"
   ]
  },
  {
   "cell_type": "code",
   "execution_count": 1,
   "id": "01602aae",
   "metadata": {},
   "outputs": [
    {
     "name": "stdout",
     "output_type": "stream",
     "text": [
      "[[ 1  2  3  4  5  6  7  8]\n",
      " [ 9 10 11 12 13 14 15 16]\n",
      " [17 18 19 20 21 22 23 24]\n",
      " [25 26 27 28 29 30 31 32]\n",
      " [33 34 35 36 37 38 39 40]\n",
      " [41 42 43 44 45 46 47 48]\n",
      " [49 50 51 52 53 54 55 56]\n",
      " [57 58 59 60 61 62 63 64]]\n"
     ]
    }
   ],
   "source": [
    "import numpy as np\n",
    "CHESSBOARD_DIMENSION = 8\n",
    "N = CHESSBOARD_DIMENSION\n",
    "chessBoard = np.array([x+1 for x in range(N*N)])\n",
    "\n",
    "chessBoard = chessBoard.reshape(N,N)\n",
    "print(chessBoard)"
   ]
  },
  {
   "cell_type": "markdown",
   "id": "7480c5d0",
   "metadata": {},
   "source": [
    "Agora, criar a função para verificar quadrados do tabuleiro que estão sendo dominados por todas as rainhas e retornar os números que estão sendo dominados:"
   ]
  },
  {
   "cell_type": "code",
   "execution_count": 2,
   "id": "a838b473",
   "metadata": {},
   "outputs": [],
   "source": [
    "def dominatedSet(queens, chessBoard, verbose=False):\n",
    "    S = set()\n",
    "    N = chessBoard.shape[0]\n",
    "\n",
    "    for queen in queens:\n",
    "        queenBox = queen\n",
    "        queenPosition = np.where(chessBoard == queenBox)\n",
    "        i = queenPosition[0][0]\n",
    "        j = queenPosition[1][0]\n",
    "        if verbose: \n",
    "            print(\"posição matricial: (\", i,j, \")\" , 'valor: ', queenBox)\n",
    "\n",
    "        if(verbose):\n",
    "            # quadrados dominados na horizontal:\n",
    "            print(chessBoard[i,:])\n",
    "            # quadrados dominados na vertical:\n",
    "            print(chessBoard[:,j])\n",
    "       \n",
    "        S.update(chessBoard[i,:])\n",
    "        S.update(chessBoard[:,j])\n",
    "        for d in range(-N+1,N):\n",
    "             # diagonal\n",
    "            diag = chessBoard.diagonal(d)\n",
    "            # diagonal invertida\n",
    "            invertDiag = np.fliplr(chessBoard).diagonal(d)\n",
    "            if queenBox in diag:\n",
    "                if verbose:\n",
    "                    print(diag)\n",
    "                S.update(diag)\n",
    "            if queenBox in invertDiag:\n",
    "                if verbose:\n",
    "                    print(invertDiag)\n",
    "                S.update(invertDiag)\n",
    "    return S\n",
    "        "
   ]
  },
  {
   "cell_type": "markdown",
   "id": "a3776fe0",
   "metadata": {},
   "source": [
    "O código abaixo vai então gerar a área de dominância para uma única rainha na posição (3,3) do tabuleiro, ou também podemos dizer, no valor 28 da matriz. \n",
    "\n",
    "<b>Para ficar mais claro, o número do quadrado em que a rainha se encontra nós vamos chamar de posição numérica. Então o quadrado 28, em que essa rainha se encontra, é sua posição numérica. A dupla (3,3) e todas as outras nós vamos chamar de posição matricial </b>"
   ]
  },
  {
   "cell_type": "code",
   "execution_count": 3,
   "id": "725772ed",
   "metadata": {},
   "outputs": [
    {
     "name": "stdout",
     "output_type": "stream",
     "text": [
      "{1, 4, 7, 10, 12, 14, 19, 20, 21, 25, 26, 27, 28, 29, 30, 31, 32, 35, 36, 37, 42, 44, 46, 49, 52, 55, 60, 64}\n"
     ]
    }
   ],
   "source": [
    "S = dominatedSet([28], chessBoard, verbose=False)\n",
    "print(S)"
   ]
  },
  {
   "cell_type": "markdown",
   "id": "d7045880",
   "metadata": {},
   "source": [
    "A função que mede o quão próximo estamos de uma boa solução no artigo é dada por:\n",
    "\n",
    "$ f(x) = {|S| \\div |G|}  $\n",
    "\n",
    "Nesta função, se o resultado for menor que 1, temos que existem alguns ou pelo menos 1 quadrado que não está numa área de dominância das rainhas. Se for 1, significa que as rainhas dominaram todos os quadrados do tabuleiro. \n",
    "\n",
    "No código, calcularemos essa função assim:"
   ]
  },
  {
   "cell_type": "code",
   "execution_count": 4,
   "id": "28048317",
   "metadata": {},
   "outputs": [
    {
     "data": {
      "text/plain": [
       "0.4375"
      ]
     },
     "execution_count": 4,
     "metadata": {},
     "output_type": "execute_result"
    }
   ],
   "source": [
    "len(S)/ (N*N) "
   ]
  },
  {
   "cell_type": "markdown",
   "id": "4669b0a3",
   "metadata": {},
   "source": [
    "<h2>Codificação dos indivíduos </h2>\n",
    "\n",
    "O conjunto de indivíduos será representado por uma matriz onde cada linha é um solução candidata e as colunas são posições das rainhas no tabuleiro para aquela solução. As posições das rainhas serão dadas pelos valores das posições numéricas definidas como um binário de 8 dígitos.\n",
    "Seria Assim:\n"
   ]
  },
  {
   "cell_type": "code",
   "execution_count": 5,
   "id": "2dd2aaf2",
   "metadata": {},
   "outputs": [
    {
     "data": {
      "text/plain": [
       "matrix([['00010111', '00101011'],\n",
       "        ['00001100', '00001010']], dtype='<U8')"
      ]
     },
     "execution_count": 5,
     "metadata": {},
     "output_type": "execute_result"
    }
   ],
   "source": [
    "rainha1 = format(23,'08b')\n",
    "rainha2 = format(43,'08b')\n",
    "rainha3 = format(12,'08b')\n",
    "rainha4 = format(10,'08b')\n",
    "\n",
    "np.matrix([[rainha1, rainha2], [rainha3, rainha4]])"
   ]
  },
  {
   "cell_type": "markdown",
   "id": "c7ff1ca2",
   "metadata": {},
   "source": [
    "No caso, a primeira solução candidata tem as rainhas nas posições numéricas 23 e 43, e segunda solução candidata tem rainhas nas posições 12 e 10"
   ]
  },
  {
   "cell_type": "markdown",
   "id": "3876eb87",
   "metadata": {},
   "source": [
    "<h2>Geração inicial de indivíduos </h2>\n",
    "\n",
    "A primeira geração consiste de 100 indivíduos (soluções candidatas) geradas aleatoriamente, mantendo a certeza de que em cada possível solução as rainhas estão em posições diferentes. Vamos fazer uma função que faz isso. A função vai receber como parâmetro o número de rainhas que queremos para as soluções possíveis e a dimensão do tabuleiro."
   ]
  },
  {
   "cell_type": "code",
   "execution_count": 6,
   "id": "b236ecbf",
   "metadata": {},
   "outputs": [],
   "source": [
    "from random import seed\n",
    "from random import randint\n",
    "\n",
    "seed(3)\n",
    "\n",
    "value = randint(0, N*N)\n",
    "value\n",
    "\n",
    "def gen_individuals(N_queens, N, N_individuals): \n",
    "    A = np.empty((1,N_queens), dtype='str')\n",
    "    for i in range (0,N_individuals):\n",
    "        newRow = []\n",
    "        for j in range (0,N_queens):\n",
    "            randVal = randint(1,N*N)\n",
    "            randInBin = format(randVal,'08b')\n",
    "            while randInBin in newRow: \n",
    "                randVal = randint(1,N*N)\n",
    "                randInBin = format(randVal,'08b')\n",
    "            newRow.append(randInBin)\n",
    "        A = np.vstack([A, newRow])\n",
    "    # apaga a primeira linha que é gerada na inicialização da matriz\n",
    "    A = np.delete(A,0, 0)\n",
    "    return A\n",
    "\n"
   ]
  },
  {
   "cell_type": "markdown",
   "id": "6f5ee856",
   "metadata": {},
   "source": [
    "Vendo abaixo uma amostra de dois indivíduos. Cada linha é uma solução possível e essas soluções possuem duas rainhas. A função também permite que a gente decida quantos indivíduos queremos gerar para a matriz A (número de linhas) assim como quantas rainhas pode ter cada indivíduo (número de colunas)"
   ]
  },
  {
   "cell_type": "code",
   "execution_count": 7,
   "id": "9067d522",
   "metadata": {},
   "outputs": [
    {
     "name": "stdout",
     "output_type": "stream",
     "text": [
      "['00010001' '00110000']\n",
      "['00011111' '00000011']\n"
     ]
    }
   ],
   "source": [
    "A = gen_individuals(2,N,100)\n",
    "print(A[0])\n",
    "print(A[99])"
   ]
  },
  {
   "cell_type": "markdown",
   "id": "0b014186",
   "metadata": {},
   "source": [
    "Já vou deixar pronta uma função que retorna o fitness de cada indivíduo:"
   ]
  },
  {
   "cell_type": "code",
   "execution_count": 8,
   "id": "67ebfde8",
   "metadata": {},
   "outputs": [],
   "source": [
    "def darwinize_individual(ind, chessBoard):\n",
    "    indInInteger = []\n",
    "    N = chessBoard.shape[0]\n",
    "    for queen in ind:\n",
    "        inIntQueen = int(queen,2)\n",
    "        indInInteger.append(inIntQueen)\n",
    "    S = dominatedSet(indInInteger, chessBoard, verbose=False)\n",
    "    ## o jeito de calcular o fitness como foi dito anteriormente\n",
    "    return len(S)/ (N*N) \n",
    "    \n",
    "\n",
    "darwinize_individual(A[0], chessBoard)\n",
    "\n",
    "# uma coisa que dá pra ver é que os individuos passam todos da metade de dominância do tabuleiro, pelo menos com duas rainhas\n",
    "for individual in A:\n",
    "    fit = darwinize_individual(individual, chessBoard)\n",
    "    if fit < 0.5:\n",
    "        print(individual)\n"
   ]
  },
  {
   "cell_type": "markdown",
   "id": "da414064",
   "metadata": {},
   "source": [
    "Vou deixar aqui também uma função que gera os fitness values da população inteira como forma de diminuir repetição de código"
   ]
  },
  {
   "cell_type": "code",
   "execution_count": 9,
   "id": "119aae46",
   "metadata": {},
   "outputs": [],
   "source": [
    "def getFitness(population, verbose=False):\n",
    "    fitness_values = np.empty((1), dtype='int64')\n",
    "    for indi in population:\n",
    "        if verbose: print('individo no getFitness', indi)\n",
    "        fit = darwinize_individual(indi, chessBoard)\n",
    "        fitness_values = np.vstack([fitness_values, fit])\n",
    "    fitness_values = np.delete(fitness_values,0, 0)\n",
    "    return fitness_values"
   ]
  },
  {
   "cell_type": "markdown",
   "id": "bdc25945",
   "metadata": {},
   "source": [
    "A função abaixo devolve os 50% mais adaptados, ou seja, os 50% que tiveram maior fitness."
   ]
  },
  {
   "cell_type": "code",
   "execution_count": 10,
   "id": "fa622b9f",
   "metadata": {},
   "outputs": [],
   "source": [
    "def moreAdapted(population):\n",
    "    n_queens = population.shape[1]\n",
    "    fitness_values = getFitness(population)\n",
    "\n",
    "    # Selecionará os 50% individuos com maior fitness_values\n",
    "    n_ind = len(population)\n",
    "    individuals = np.empty((1,n_queens), dtype='str')\n",
    "    fit = np.empty((1), dtype='str')\n",
    "\n",
    "    for i in range(n_ind):\n",
    "        max_fitness_idx = np.argmax(fitness_values)\n",
    "        fit = np.vstack([fit,fitness_values[max_fitness_idx]])\n",
    "        individuals = np.vstack([individuals, population[max_fitness_idx]])\n",
    "        fitness_values[max_fitness_idx] = -99999999999\n",
    "    individuals = np.delete(individuals,0, 0)\n",
    "    fit = np.delete(fit,0,0)\n",
    "    individuals = individuals[0:int(n_ind/2)]\n",
    "    fit = fit[0:int(n_ind/2)]\n",
    "    return individuals"
   ]
  },
  {
   "cell_type": "markdown",
   "id": "0c400cdd",
   "metadata": {},
   "source": [
    "Função da Roullete wheel para selecionar 2 indivíduos para crossover:"
   ]
  },
  {
   "cell_type": "code",
   "execution_count": 11,
   "id": "c7031cde",
   "metadata": {},
   "outputs": [],
   "source": [
    "def roulette_wheel(population):\n",
    "    fitness_values = getFitness(population)\n",
    "\n",
    "    y = fitness_values.astype(np.float)\n",
    "    Soma = np.sum(y)\n",
    "    Prob_escolhido = np.empty((1), dtype='float')\n",
    "  \n",
    "    for i in y:   \n",
    "        Prob_escolhido = np.vstack([Prob_escolhido, i/Soma])\n",
    "    Prob_escolhido = np.delete(Prob_escolhido,0,0) \n",
    "    Prob_escolhido = np.transpose(Prob_escolhido) \n",
    "    indices = np.random.choice(len(population),size= 2 ,p=Prob_escolhido.flatten())\n",
    "    ind = population[indices]\n",
    "    return ind"
   ]
  },
  {
   "cell_type": "code",
   "execution_count": 12,
   "id": "f990b85e",
   "metadata": {},
   "outputs": [],
   "source": [
    "B = moreAdapted(A)"
   ]
  },
  {
   "cell_type": "markdown",
   "id": "76a535c4",
   "metadata": {},
   "source": [
    "O crossover e a mutação não podem gerar valores que estão fora da dimensão. para isso o artigo descreve um método que consiste em mudar os valores dos dígitos 0 e 1 para que o valor encaixe no tamanho do tabuleiro. A ideia que pensamos é diferente: nós vamos \"ciclar\" o valor usando o operador de módulo e nisso vai cair num valor aceito.\n",
    "\n",
    "Eis a função para a validação do crossover e da mutação:"
   ]
  },
  {
   "cell_type": "code",
   "execution_count": 13,
   "id": "966650f8",
   "metadata": {},
   "outputs": [],
   "source": [
    "def validate_dna(dna, verbose=False):\n",
    "    \n",
    "    if verbose: print('valida o dna')\n",
    "    dnaInInt = int(dna,2)\n",
    "    \n",
    "    if verbose: print('valor anterior: ', dnaInInt)\n",
    "    if dnaInInt > N*N:\n",
    "        dnaInInt = dnaInInt % (N*N)\n",
    "        if dnaInInt == 0: dnaInInt +=1\n",
    "        dna = format(dnaInInt,'08b')\n",
    "        if verbose: print('valor após validação: ', dnaInInt)\n",
    "        return dna\n",
    "    elif dnaInInt == 0: \n",
    "        dnaInInt += 1\n",
    "        dna = format(dnaInInt,'08b')\n",
    "        return dna\n",
    "    else: return dna    \n",
    "\n",
    "\n"
   ]
  },
  {
   "cell_type": "markdown",
   "id": "86eba5e2",
   "metadata": {},
   "source": [
    "Função para fazer o crossover:"
   ]
  },
  {
   "cell_type": "code",
   "execution_count": 21,
   "id": "a240a220",
   "metadata": {},
   "outputs": [],
   "source": [
    "def crossover(parents, verbose=False):\n",
    "    DNA_SIZE = 8\n",
    "    individual1 = parents[0]\n",
    "    individual2 =  parents[1]\n",
    "    n_queens = individual1.shape[0]\n",
    "    crossedIndividuals = np.empty((1,n_queens), dtype='str')\n",
    "    if verbose: print('pais', parents)\n",
    "    for i in range(0, n_queens):\n",
    "        pos = randint(1, DNA_SIZE-1)\n",
    "        if verbose: print('posição de troca: ', pos)\n",
    "        dna1=individual[i]\n",
    "        dna2=individual2[i]\n",
    "        generated1, generated2 = (dna1[:pos]+dna2[pos:], dna2[:pos]+dna1[pos:])\n",
    "        generated1 = validate_dna(generated1)\n",
    "        generated2 = validate_dna(generated2)\n",
    "        crossedIndividuals = np.vstack([crossedIndividuals, [generated1, generated2]])\n",
    "    crossedIndividuals = np.delete(crossedIndividuals,0, 0)\n",
    "    return crossedIndividuals"
   ]
  },
  {
   "cell_type": "markdown",
   "id": "6fa3445d",
   "metadata": {},
   "source": [
    "Abaixo um exemplo do funcionamento da função de crossover. O ponto de crossover é diferente para cada cruzamento de rainhas."
   ]
  },
  {
   "cell_type": "code",
   "execution_count": 22,
   "id": "2c415b5b",
   "metadata": {},
   "outputs": [
    {
     "name": "stdout",
     "output_type": "stream",
     "text": [
      "[['00000110' '00110001']\n",
      " ['00100011' '00011101']]\n",
      "pais [['00000110' '00110001']\n",
      " ['00100011' '00011101']]\n",
      "posição de troca:  5\n",
      "posição de troca:  2\n",
      "[['00011011' '00100111']\n",
      " ['00011101' '00000011']]\n"
     ]
    }
   ],
   "source": [
    "parents = roulette_wheel(B)\n",
    "print(parents)\n",
    "children = crossover(parents, verbose=True)\n",
    "print(children)"
   ]
  },
  {
   "cell_type": "markdown",
   "id": "edec0c17",
   "metadata": {},
   "source": [
    "Função de mutação:"
   ]
  },
  {
   "cell_type": "code",
   "execution_count": 23,
   "id": "83ab7118",
   "metadata": {},
   "outputs": [],
   "source": [
    "def mutate(individual, verbose=False, debug=False):\n",
    "    DNA_SIZE = 8\n",
    "    top = 100\n",
    "    if debug: top = 1\n",
    "    if(randint(1,top) <= 5):\n",
    "        mutatedIndividual =[]\n",
    "        for DNA in individual:\n",
    "                if verbose: print('antes da mutação', DNA)\n",
    "                DNA = list(DNA)\n",
    "                # pode acontecer de mudar a mesma posição duas vezes. Acho que não tem problema\n",
    "                pos1 = randint(0, DNA_SIZE-1)\n",
    "                pos2 =  randint(0, DNA_SIZE-1)\n",
    "                if verbose: print('mudou as posições:', pos1, pos2)\n",
    "                if DNA[pos1] == \"1\": DNA[pos1] = \"0\"\n",
    "                elif DNA[pos1] == \"0\": DNA[pos1] = \"1\"\n",
    "                if DNA[pos2] == \"1\": DNA[pos2] = \"0\"\n",
    "                elif DNA[pos2] == \"0\": DNA[pos2] = \"1\" \n",
    "                DNAinString = \"\".join(DNA)\n",
    "                DNA = validate_dna(DNAinString)\n",
    "                mutatedIndividual.append(DNA)\n",
    "        if verbose: print('após a mutação', mutatedIndividual)\n",
    "        return mutatedIndividual \n",
    "    else:\n",
    "        return individual            \n"
   ]
  },
  {
   "cell_type": "code",
   "execution_count": 24,
   "id": "a38603cb",
   "metadata": {},
   "outputs": [
    {
     "data": {
      "text/plain": [
       "'00011011'"
      ]
     },
     "execution_count": 24,
     "metadata": {},
     "output_type": "execute_result"
    }
   ],
   "source": [
    "mutated = mutate(children[0],verbose=True)\n",
    "validate_dna(mutated[0])"
   ]
  },
  {
   "cell_type": "markdown",
   "id": "1e60be13",
   "metadata": {},
   "source": [
    "Agora, já temos a função que gera a população inicial, A função que gera os primeiros 100 indivíduos, a função que filtra os mais adaptados, a função de roleta, de crossover e de mutação.\n",
    "Pelo que está descrito no artigo, o processo consiste em gerar os primeiros 100 indivíduos, em seguida filtrar os melhores 50%, \n",
    "depois escolher os indivíduos para crossover por meio da roleta, depois cruzar esses indivíduos, realizar a mutação e repetir esse processo mil vezes. \n",
    "\n",
    "Além disso, devem ser feitas alterações nos indivíduos caso eles ultrapassem as dimensões do tabuleiro após croosover e mutação."
   ]
  },
  {
   "cell_type": "code",
   "execution_count": 27,
   "id": "ab6ea290",
   "metadata": {},
   "outputs": [],
   "source": [
    "def do_iterations(n_iters, n_queens, chessBoard_dimension):\n",
    "    # constrói o tabuleiro\n",
    "    N = chessBoard_dimension\n",
    "    chessBoard = np.array([x+1 for x in range(N*N)])\n",
    "    chessBoard = chessBoard.reshape(N,N)\n",
    "\n",
    "    # gera os primeiros 100 indivíduos:\n",
    "    A = gen_individuals(n_queens,N,100)\n",
    "    i = 1\n",
    "    while i <= n_iters:\n",
    "        # já filtra o top 50%\n",
    "        A = moreAdapted(A)  \n",
    "        \n",
    "        # vamos gerar mais 50 indivíduos à partir de 25 pares selecionados de pares com a roleta, e esses pares vão \n",
    "        # gerar dois indivíduos cada um. No final temos 100 indivídus.\n",
    "        parentsSelected = []\n",
    "        for j in range (0,25):\n",
    "            parents = roulette_wheel(A)\n",
    "            parentsSelected.append(parents)\n",
    "        \n",
    "        # agora fazemos os pais cruzarem. Cada pai vai gerar um par de filhos.\n",
    "        childrenCreated = []\n",
    "        for parents in parentsSelected:\n",
    "            children = crossover(parents)\n",
    "            childrenCreated.append(children)\n",
    "\n",
    "        # aplica a mutação nos filhos, com base na chance de 5% definida na função\n",
    "        for idx, children in enumerate(childrenCreated):\n",
    "            childrenCreated[idx][0] = mutate(children[0])\n",
    "            childrenCreated[idx][1] = mutate(children[1])\n",
    "\n",
    "        # separar os pares e alocá-los numa matriz:\n",
    "        AllIndividuals = np.empty((1,n_queens), dtype='str')\n",
    "        for k in range(0, len(childrenCreated)):\n",
    "            AllIndividuals = np.vstack(([ AllIndividuals, childrenCreated[k][0]]))\n",
    "            AllIndividuals = np.vstack(([ AllIndividuals, childrenCreated[k][1]]))\n",
    "            AllIndividuals = np.vstack(([ AllIndividuals, parentsSelected[k][0]]))\n",
    "            AllIndividuals = np.vstack(([ AllIndividuals, parentsSelected[k][1]]))\n",
    "        AllIndividuals = np.delete(AllIndividuals,0, 0)\n",
    "\n",
    "\n",
    "        fitness_values = getFitness(AllIndividuals)\n",
    "        A = AllIndividuals\n",
    "        \n",
    "        print('melhor indivíduo da iteração', i,' :' , fitness_values[np.argmax(fitness_values)])\n",
    "        print('posição das rainhas do melhor individuo',A[np.argmax(fitness_values)])\n",
    "        i += 1\n",
    "    return 1\n"
   ]
  },
  {
   "cell_type": "code",
   "execution_count": 28,
   "id": "836b45c7",
   "metadata": {},
   "outputs": [
    {
     "name": "stdout",
     "output_type": "stream",
     "text": [
      "melhor indivíduo da iteração 1  : [0.6875]\n",
      "posição das rainhas do melhor individuo ['00011101' '00101100']\n",
      "melhor indivíduo da iteração 2  : [0.6875]\n",
      "posição das rainhas do melhor individuo ['00001111' '00100011']\n",
      "melhor indivíduo da iteração 3  : [0.6875]\n",
      "posição das rainhas do melhor individuo ['00110111' '00100100']\n",
      "melhor indivíduo da iteração 4  : [0.6875]\n",
      "posição das rainhas do melhor individuo ['00110111' '00100100']\n",
      "melhor indivíduo da iteração 5  : [0.671875]\n",
      "posição das rainhas do melhor individuo ['00011011' '01000000']\n",
      "melhor indivíduo da iteração 6  : [0.671875]\n",
      "posição das rainhas do melhor individuo ['00011011' '01000000']\n",
      "melhor indivíduo da iteração 7  : [0.671875]\n",
      "posição das rainhas do melhor individuo ['00010010' '00100111']\n",
      "melhor indivíduo da iteração 8  : [0.671875]\n",
      "posição das rainhas do melhor individuo ['00011011' '01000000']\n",
      "melhor indivíduo da iteração 9  : [0.671875]\n",
      "posição das rainhas do melhor individuo ['00011011' '01000000']\n",
      "melhor indivíduo da iteração 10  : [0.6875]\n",
      "posição das rainhas do melhor individuo ['00011100' '00101011']\n"
     ]
    },
    {
     "data": {
      "text/plain": [
       "1"
      ]
     },
     "execution_count": 28,
     "metadata": {},
     "output_type": "execute_result"
    }
   ],
   "source": [
    "do_iterations(10,2,8)"
   ]
  },
  {
   "cell_type": "code",
   "execution_count": null,
   "id": "a0a86e52",
   "metadata": {},
   "outputs": [],
   "source": []
  },
  {
   "cell_type": "code",
   "execution_count": null,
   "id": "ca9372ee",
   "metadata": {},
   "outputs": [],
   "source": []
  },
  {
   "cell_type": "code",
   "execution_count": null,
   "id": "a23b9877",
   "metadata": {},
   "outputs": [],
   "source": []
  }
 ],
 "metadata": {
  "interpreter": {
   "hash": "e7370f93d1d0cde622a1f8e1c04877d8463912d04d973331ad4851f04de6915a"
  },
  "kernelspec": {
   "display_name": "Python 3 (ipykernel)",
   "language": "python",
   "name": "python3"
  },
  "language_info": {
   "codemirror_mode": {
    "name": "ipython",
    "version": 3
   },
   "file_extension": ".py",
   "mimetype": "text/x-python",
   "name": "python",
   "nbconvert_exporter": "python",
   "pygments_lexer": "ipython3",
   "version": "3.8.11"
  }
 },
 "nbformat": 4,
 "nbformat_minor": 5
}
