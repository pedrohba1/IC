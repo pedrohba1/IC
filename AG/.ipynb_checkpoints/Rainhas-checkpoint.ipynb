{
 "cells": [
  {
   "cell_type": "markdown",
   "id": "ed734513",
   "metadata": {},
   "source": [
    "<h1>\n",
    "Problema das Rainhas\n",
    "</h1>"
   ]
  },
  {
   "cell_type": "markdown",
   "id": "88d63fe9",
   "metadata": {},
   "source": [
    "Em um tabuleiro 𝑛×𝑛, uma rainha é colocada em um quadrado, irá dominar todos os quadrados que estiverem na mesma linha, coluna e diagonais. A ideia por trás deste probelma é achar a quantidade mínima de rainhas necessárias para dominar o tabuleiro inteiro. Dominar, neste problema, significa cobrir todos os quadrados possíveis sendo atacados por rainhas incluindo aqueles onde as rainhas se encontram."
   ]
  },
  {
   "cell_type": "markdown",
   "id": "70fa7fce",
   "metadata": {},
   "source": [
    "Primeiro, vamos começar definindo o tabuleiro como é feito no artigo. Vamos começar por um tabuleiro 4x4, igual começa no artigo:"
   ]
  },
  {
   "cell_type": "code",
   "execution_count": 1,
   "id": "9f3e234a",
   "metadata": {},
   "outputs": [
    {
     "data": {
      "text/plain": [
       "array([[ 1,  2,  3,  4,  5,  6,  7,  8],\n",
       "       [ 9, 10, 11, 12, 13, 14, 15, 16],\n",
       "       [17, 18, 19, 20, 21, 22, 23, 24],\n",
       "       [25, 26, 27, 28, 29, 30, 31, 32],\n",
       "       [33, 34, 35, 36, 37, 38, 39, 40],\n",
       "       [41, 42, 43, 44, 45, 46, 47, 48],\n",
       "       [49, 50, 51, 52, 53, 54, 55, 56],\n",
       "       [57, 58, 59, 60, 61, 62, 63, 64]])"
      ]
     },
     "execution_count": 1,
     "metadata": {},
     "output_type": "execute_result"
    }
   ],
   "source": [
    "\n",
    "N = 8\n",
    "chessBoard = np.array([x+1 for x in range(N*N)])\n",
    "\n",
    "chessBoard = chessBoard.reshape(N,N)\n",
    "chessBoard\n"
   ]
  },
  {
   "cell_type": "markdown",
   "id": "6272a940",
   "metadata": {},
   "source": [
    "Agora, criar a função para verificar quadrados do tabuleiro que estão sendo dominados por todas as rainhas e retornar os números que estão sendo dominados:"
   ]
  },
  {
   "cell_type": "code",
   "execution_count": 5,
   "id": "7125587f",
   "metadata": {},
   "outputs": [],
   "source": [
    "def dominatedSet(queens, chessBoard, verbose=True):\n",
    "    S = set()\n",
    "    N = chessBoard.shape[0]\n",
    "    for queen in queens:\n",
    "        i = queen[0]\n",
    "        j = queen[1]\n",
    "        queenBox = chessBoard[i,j]\n",
    "        # quadrados dominados na horizontal:\n",
    "        print(chessBoard[i,:])\n",
    "        S.update(chessBoard[i,:])\n",
    "        # quadrados dominados na vertical:\n",
    "        print(chessBoard[:,j])\n",
    "        S.update(chessBoard[:,j])\n",
    "        # diagonal\n",
    "        for d in range(-N+1,N):\n",
    "            diag = chessBoard.diagonal(d)\n",
    "            invertDiag = np.fliplr(chessBoard).diagonal(d)\n",
    "            if queenBox in diag:\n",
    "                print(diag)\n",
    "                S.update(diag)\n",
    "            if queenBox in invertDiag:\n",
    "                print(invertDiag)\n",
    "                S.update(invertDiag)\n",
    "        # diagonal invertida\n",
    "       # print(np.fliplr(chessBoard).diagonal(0))\n",
    "        sys.stdout = sys.__stdout__\n",
    "        return S\n",
    "        \n",
    "        \n",
    "    "
   ]
  },
  {
   "cell_type": "code",
   "execution_count": 6,
   "id": "dcc79ab8",
   "metadata": {},
   "outputs": [],
   "source": [
    "queens = [(0,0)]\n",
    "\n",
    "S = dominatedSet([(3,0),(0,0) ], chessBoard)\n",
    "print(S)"
   ]
  },
  {
   "cell_type": "code",
   "execution_count": null,
   "id": "2646d912",
   "metadata": {},
   "outputs": [],
   "source": []
  },
  {
   "cell_type": "code",
   "execution_count": null,
   "id": "fa0e1b86",
   "metadata": {},
   "outputs": [],
   "source": []
  },
  {
   "cell_type": "code",
   "execution_count": null,
   "id": "56b7c45a",
   "metadata": {},
   "outputs": [],
   "source": []
  },
  {
   "cell_type": "code",
   "execution_count": null,
   "id": "55eaaf1f",
   "metadata": {},
   "outputs": [],
   "source": []
  },
  {
   "cell_type": "code",
   "execution_count": null,
   "id": "53429194",
   "metadata": {},
   "outputs": [],
   "source": []
  }
 ],
 "metadata": {
  "kernelspec": {
   "display_name": "Python 3 (ipykernel)",
   "language": "python",
   "name": "python3"
  },
  "language_info": {
   "codemirror_mode": {
    "name": "ipython",
    "version": 3
   },
   "file_extension": ".py",
   "mimetype": "text/x-python",
   "name": "python",
   "nbconvert_exporter": "python",
   "pygments_lexer": "ipython3",
   "version": "3.8.11"
  }
 },
 "nbformat": 4,
 "nbformat_minor": 5
}
