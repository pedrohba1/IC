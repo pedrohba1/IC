{
 "cells": [
  {
   "cell_type": "markdown",
   "id": "7b3c842f",
   "metadata": {},
   "source": [
    "Do mesmo jeito que eu posso escrever a porta XOR assim, também funciona para OR e AND, como vemos abaixo. A mudança do número de iterações (epoch) faz muita diferença e precisa ser um número bem grande para ser efetivo"
   ]
  },
  {
   "cell_type": "code",
   "execution_count": 12,
   "id": "86f828b8-dc44-44dc-8d4c-47c8c83f3b17",
   "metadata": {},
   "outputs": [
    {
     "name": "stdout",
     "output_type": "stream",
     "text": [
      "[[0.]\n",
      " [1.]\n",
      " [1.]\n",
      " [0.]]\n"
     ]
    }
   ],
   "source": [
    "import numpy as np\n",
    "from keras.models import Sequential\n",
    "from keras.layers.core import Activation, Dense\n",
    "\n",
    "training_data = np.array([[0,0],[0,1],[1,0],[1,1]], \"float32\")\n",
    "\n",
    "target_data = np.array([[0],[1],[1],[0]], \"float32\")\n",
    "\n",
    "model = Sequential()\n",
    "model.add(Dense(16, input_dim=2, activation='relu'))\n",
    "model.add(Dense(1, activation='sigmoid'))\n",
    "\n",
    "model.compile(loss='mean_squared_error',\n",
    "              optimizer='adam',\n",
    "              metrics=['binary_accuracy'])\n",
    "\n",
    "model.fit(training_data, target_data, epochs=500, verbose=0)\n",
    "\n",
    "print (model.predict(training_data).round())"
   ]
  },
  {
   "cell_type": "code",
   "execution_count": 13,
   "id": "0ae30168-d748-45cd-9b6b-209b5e4c6fa9",
   "metadata": {},
   "outputs": [
    {
     "name": "stdout",
     "output_type": "stream",
     "text": [
      "[[0.]\n",
      " [1.]\n",
      " [1.]\n",
      " [1.]]\n"
     ]
    }
   ],
   "source": [
    "training_data = np.array([[0,0],[0,1],[1,0],[1,1]], \"float32\")\n",
    "\n",
    "target_data = np.array([[0],[1],[1],[1]], \"float32\")\n",
    "\n",
    "model = Sequential()\n",
    "model.add(Dense(16, input_dim=2, activation='relu'))\n",
    "model.add(Dense(1, activation='sigmoid'))\n",
    "\n",
    "model.compile(loss='mean_squared_error',\n",
    "              optimizer='adam',\n",
    "              metrics=['binary_accuracy'])\n",
    "\n",
    "model.fit(training_data, target_data, epochs=500, verbose=0)\n",
    "\n",
    "print (model.predict(training_data).round())"
   ]
  },
  {
   "cell_type": "code",
   "execution_count": null,
   "id": "aa538a56",
   "metadata": {},
   "outputs": [],
   "source": []
  }
 ],
 "metadata": {
  "kernelspec": {
   "display_name": "Python 3 (ipykernel)",
   "language": "python",
   "name": "python3"
  },
  "language_info": {
   "codemirror_mode": {
    "name": "ipython",
    "version": 3
   },
   "file_extension": ".py",
   "mimetype": "text/x-python",
   "name": "python",
   "nbconvert_exporter": "python",
   "pygments_lexer": "ipython3",
   "version": "3.9.3"
  }
 },
 "nbformat": 4,
 "nbformat_minor": 5
}
